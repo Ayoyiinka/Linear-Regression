{
 "cells": [
  {
   "cell_type": "code",
   "execution_count": 1,
   "metadata": {},
   "outputs": [],
   "source": [
    "import pandas as pd\n",
    "import numpy as np\n",
    "import matplotlib.pyplot as plt"
   ]
  },
  {
   "cell_type": "markdown",
   "metadata": {},
   "source": [
    "###### Plan:\n",
    "- Remove the NaN and playername column \n",
    "- Plot a bar chart to identify if their is any relational order for tbe categorical variable based on my subject matter knowledge\n",
    "- Stepwise Regression: Use the P-value and Adjusted R squared to select features, that is, build the model\n",
    "- Identify the most important predictor variable from the selected ones from above using the standardized method\n",
    "- Check for Regression Assumptions\n",
    "* Linearity(Correct Functional form): Trial and error since specifying a regression model is an iterative process\n",
    "* No Multicollinearity; use VIF\n",
    "* Independent Error Terms has been automatically checked since it's not a time series data\n",
    "* Normality of Erros\n",
    "* Homoscedasticity ; Constant error variance\n",
    "* One bar plot each to visualize relationship between the dependent variable and independent variable\n",
    "* Assume that the linear regression assumptions are met\n",
    "* So all in, then backward elimination\n",
    "* Based on the remaining parameters, we would now run the assumptions in order to improve the model"
   ]
  },
  {
   "cell_type": "code",
   "execution_count": 5,
   "metadata": {},
   "outputs": [
    {
     "data": {
      "text/html": [
       "<div>\n",
       "<style scoped>\n",
       "    .dataframe tbody tr th:only-of-type {\n",
       "        vertical-align: middle;\n",
       "    }\n",
       "\n",
       "    .dataframe tbody tr th {\n",
       "        vertical-align: top;\n",
       "    }\n",
       "\n",
       "    .dataframe thead th {\n",
       "        text-align: right;\n",
       "    }\n",
       "</style>\n",
       "<table border=\"1\" class=\"dataframe\">\n",
       "  <thead>\n",
       "    <tr style=\"text-align: right;\">\n",
       "      <th></th>\n",
       "      <th>Player name</th>\n",
       "      <th>Position</th>\n",
       "      <th>Age</th>\n",
       "      <th>Market Value</th>\n",
       "      <th>NaN</th>\n",
       "      <th>Matches</th>\n",
       "      <th>Goals</th>\n",
       "      <th>Own Goals</th>\n",
       "      <th>Assists</th>\n",
       "      <th>Yellow cards</th>\n",
       "      <th>Second Yellow card</th>\n",
       "      <th>Red Cards</th>\n",
       "      <th>Substitued on</th>\n",
       "      <th>Substituted off</th>\n",
       "    </tr>\n",
       "  </thead>\n",
       "  <tbody>\n",
       "    <tr>\n",
       "      <th>0</th>\n",
       "      <td>Kylian Mbappé</td>\n",
       "      <td>Right Winger</td>\n",
       "      <td>20</td>\n",
       "      <td>200</td>\n",
       "      <td>0</td>\n",
       "      <td>30</td>\n",
       "      <td>24</td>\n",
       "      <td>0</td>\n",
       "      <td>13</td>\n",
       "      <td>4</td>\n",
       "      <td>0</td>\n",
       "      <td>1</td>\n",
       "      <td>5</td>\n",
       "      <td>5</td>\n",
       "    </tr>\n",
       "    <tr>\n",
       "      <th>1</th>\n",
       "      <td>Lionel Messi</td>\n",
       "      <td>Right Winger</td>\n",
       "      <td>31</td>\n",
       "      <td>160</td>\n",
       "      <td>0</td>\n",
       "      <td>26</td>\n",
       "      <td>27</td>\n",
       "      <td>0</td>\n",
       "      <td>17</td>\n",
       "      <td>1</td>\n",
       "      <td>0</td>\n",
       "      <td>0</td>\n",
       "      <td>3</td>\n",
       "      <td>1</td>\n",
       "    </tr>\n",
       "    <tr>\n",
       "      <th>2</th>\n",
       "      <td>Harry Kane</td>\n",
       "      <td>Centre-Forward</td>\n",
       "      <td>25</td>\n",
       "      <td>150</td>\n",
       "      <td>0</td>\n",
       "      <td>36</td>\n",
       "      <td>21</td>\n",
       "      <td>0</td>\n",
       "      <td>9</td>\n",
       "      <td>5</td>\n",
       "      <td>0</td>\n",
       "      <td>0</td>\n",
       "      <td>4</td>\n",
       "      <td>5</td>\n",
       "    </tr>\n",
       "  </tbody>\n",
       "</table>\n",
       "</div>"
      ],
      "text/plain": [
       "     Player name        Position  Age  Market Value  NaN  Matches  Goals  \\\n",
       "0  Kylian Mbappé    Right Winger   20           200    0       30     24   \n",
       "1   Lionel Messi    Right Winger   31           160    0       26     27   \n",
       "2     Harry Kane  Centre-Forward   25           150    0       36     21   \n",
       "\n",
       "   Own Goals  Assists  Yellow cards  Second Yellow card  Red Cards  \\\n",
       "0          0       13             4                   0          1   \n",
       "1          0       17             1                   0          0   \n",
       "2          0        9             5                   0          0   \n",
       "\n",
       "   Substitued on  Substituted off  \n",
       "0              5                5  \n",
       "1              3                1  \n",
       "2              4                5  "
      ]
     },
     "execution_count": 5,
     "metadata": {},
     "output_type": "execute_result"
    }
   ],
   "source": [
    "footballData = pd.read_csv('footballData.csv')\n",
    "footballData.head(3)"
   ]
  },
  {
   "cell_type": "code",
   "execution_count": 6,
   "metadata": {},
   "outputs": [],
   "source": [
    "footballData = footballData.drop(['Player name', 'NaN'], axis = 1)"
   ]
  },
  {
   "cell_type": "code",
   "execution_count": 7,
   "metadata": {},
   "outputs": [
    {
     "data": {
      "text/html": [
       "<div>\n",
       "<style scoped>\n",
       "    .dataframe tbody tr th:only-of-type {\n",
       "        vertical-align: middle;\n",
       "    }\n",
       "\n",
       "    .dataframe tbody tr th {\n",
       "        vertical-align: top;\n",
       "    }\n",
       "\n",
       "    .dataframe thead th {\n",
       "        text-align: right;\n",
       "    }\n",
       "</style>\n",
       "<table border=\"1\" class=\"dataframe\">\n",
       "  <thead>\n",
       "    <tr style=\"text-align: right;\">\n",
       "      <th></th>\n",
       "      <th>Position</th>\n",
       "      <th>Age</th>\n",
       "      <th>Market Value</th>\n",
       "      <th>Matches</th>\n",
       "      <th>Goals</th>\n",
       "      <th>Own Goals</th>\n",
       "      <th>Assists</th>\n",
       "      <th>Yellow cards</th>\n",
       "      <th>Second Yellow card</th>\n",
       "      <th>Red Cards</th>\n",
       "      <th>Substitued on</th>\n",
       "      <th>Substituted off</th>\n",
       "    </tr>\n",
       "  </thead>\n",
       "  <tbody>\n",
       "    <tr>\n",
       "      <th>0</th>\n",
       "      <td>Right Winger</td>\n",
       "      <td>20</td>\n",
       "      <td>200</td>\n",
       "      <td>30</td>\n",
       "      <td>24</td>\n",
       "      <td>0</td>\n",
       "      <td>13</td>\n",
       "      <td>4</td>\n",
       "      <td>0</td>\n",
       "      <td>1</td>\n",
       "      <td>5</td>\n",
       "      <td>5</td>\n",
       "    </tr>\n",
       "    <tr>\n",
       "      <th>1</th>\n",
       "      <td>Right Winger</td>\n",
       "      <td>31</td>\n",
       "      <td>160</td>\n",
       "      <td>26</td>\n",
       "      <td>27</td>\n",
       "      <td>0</td>\n",
       "      <td>17</td>\n",
       "      <td>1</td>\n",
       "      <td>0</td>\n",
       "      <td>0</td>\n",
       "      <td>3</td>\n",
       "      <td>1</td>\n",
       "    </tr>\n",
       "    <tr>\n",
       "      <th>2</th>\n",
       "      <td>Centre-Forward</td>\n",
       "      <td>25</td>\n",
       "      <td>150</td>\n",
       "      <td>36</td>\n",
       "      <td>21</td>\n",
       "      <td>0</td>\n",
       "      <td>9</td>\n",
       "      <td>5</td>\n",
       "      <td>0</td>\n",
       "      <td>0</td>\n",
       "      <td>4</td>\n",
       "      <td>5</td>\n",
       "    </tr>\n",
       "  </tbody>\n",
       "</table>\n",
       "</div>"
      ],
      "text/plain": [
       "         Position  Age  Market Value  Matches  Goals  Own Goals  Assists  \\\n",
       "0    Right Winger   20           200       30     24          0       13   \n",
       "1    Right Winger   31           160       26     27          0       17   \n",
       "2  Centre-Forward   25           150       36     21          0        9   \n",
       "\n",
       "   Yellow cards  Second Yellow card  Red Cards  Substitued on  Substituted off  \n",
       "0             4                   0          1              5                5  \n",
       "1             1                   0          0              3                1  \n",
       "2             5                   0          0              4                5  "
      ]
     },
     "execution_count": 7,
     "metadata": {},
     "output_type": "execute_result"
    }
   ],
   "source": [
    "footballData.head(3)"
   ]
  },
  {
   "cell_type": "markdown",
   "metadata": {
    "collapsed": true
   },
   "source": [
    "The dataset has 12 columns; 11 independent variables and 1 dependent variable which is the market value. This is a regression problem because the value being predicted is a continuous numeric value. From the 11 independent variables, only one categorical variable is present while the remaining 10 are numerical variables. Categorical variables need to be encoded since Machine learning models are based on mathematical equations. Due to knowledge about the subject matter, a bar chat showing the relationship between the categoical variable and the numerical variable will be plotted to establish if their is a relational order in the categorical variable."
   ]
  },
  {
   "cell_type": "code",
   "execution_count": 13,
   "metadata": {},
   "outputs": [
    {
     "data": {
      "text/plain": [
       "[['Right Winger', 200L], ['Right Winger', 160L], ['Centre-Forward', 150L]]"
      ]
     },
     "execution_count": 13,
     "metadata": {},
     "output_type": "execute_result"
    }
   ],
   "source": [
    "#Creating a list of list containing the Positions and the corresponding Market Value\n",
    "position = footballData['Position']\n",
    "marketValue = footballData['Market Value']\n",
    "posMar = pd.concat((position, marketValue), axis = 1, ignore_index = True)\n",
    "posMar = posMar.to_dict('split')\n",
    "listPosMar = posMar['data']\n",
    "listPosMar[:3]"
   ]
  },
  {
   "cell_type": "code",
   "execution_count": 14,
   "metadata": {},
   "outputs": [
    {
     "data": {
      "text/plain": [
       "{'Attacking Midfield': 1558L,\n",
       " 'Central Midfield': 2868L,\n",
       " 'Centre-Back': 2656L,\n",
       " 'Centre-Forward': 2509L,\n",
       " 'Defensive Midfield': 1214L,\n",
       " 'Goalkeeper': 878L,\n",
       " 'Left Midfield': 71L,\n",
       " 'Left Winger': 2057L,\n",
       " 'Left-Back': 853L,\n",
       " 'Right Midfield': 75L,\n",
       " 'Right Winger': 2165L,\n",
       " 'Right-Back': 855L,\n",
       " 'Second Striker': 349L}"
      ]
     },
     "execution_count": 14,
     "metadata": {},
     "output_type": "execute_result"
    }
   ],
   "source": [
    "#Creating a dictionary to store the total market value for each unique position\n",
    "dicPosMar = {}\n",
    "for i in range(len(listPosMar)):\n",
    "    if listPosMar[i][0] in dicPosMar.keys():\n",
    "        dicPosMar[listPosMar[i][0]] += listPosMar[i][1]\n",
    "    else:\n",
    "        dicPosMar[listPosMar[i][0]] = listPosMar[i][1]\n",
    "dicPosMar"
   ]
  },
  {
   "cell_type": "code",
   "execution_count": 15,
   "metadata": {},
   "outputs": [
    {
     "data": {
      "text/plain": [
       "{'Attacking Midfield': 39,\n",
       " 'Central Midfield': 86,\n",
       " 'Centre-Back': 79,\n",
       " 'Centre-Forward': 64,\n",
       " 'Defensive Midfield': 38,\n",
       " 'Goalkeeper': 24,\n",
       " 'Left Midfield': 3,\n",
       " 'Left Winger': 50,\n",
       " 'Left-Back': 28,\n",
       " 'Right Midfield': 2,\n",
       " 'Right Winger': 52,\n",
       " 'Right-Back': 27,\n",
       " 'Second Striker': 8}"
      ]
     },
     "execution_count": 15,
     "metadata": {},
     "output_type": "execute_result"
    }
   ],
   "source": [
    "#Creating a dictionary to store the total number of people in the dataset per position\n",
    "numPerPos = {}\n",
    "for i in range(len(listPosMar)):\n",
    "    numPerPos.setdefault(listPosMar[i][0], 0)\n",
    "    numPerPos[listPosMar[i][0]] += 1\n",
    "numPerPos"
   ]
  },
  {
   "cell_type": "code",
   "execution_count": 20,
   "metadata": {},
   "outputs": [
    {
     "data": {
      "text/plain": [
       "{'Attacking Midfield': 39.0,\n",
       " 'Central Midfield': 33.0,\n",
       " 'Centre-Back': 33.0,\n",
       " 'Centre-Forward': 39.0,\n",
       " 'Defensive Midfield': 31.0,\n",
       " 'Goalkeeper': 36.0,\n",
       " 'Left Midfield': 23.0,\n",
       " 'Left Winger': 41.0,\n",
       " 'Left-Back': 30.0,\n",
       " 'Right Midfield': 37.0,\n",
       " 'Right Winger': 41.0,\n",
       " 'Right-Back': 31.0,\n",
       " 'Second Striker': 43.0}"
      ]
     },
     "execution_count": 20,
     "metadata": {},
     "output_type": "execute_result"
    }
   ],
   "source": [
    "#Creating a dictionary to store the average market value per position\n",
    "aveValPerPos = {}\n",
    "posList = list(numPerPos.keys())\n",
    "for i in range(len(posList)):\n",
    "    aveValPerPos.setdefault(posList[i], (round((dicPosMar[posList[i]]/numPerPos[posList[i]]), 6)))\n",
    "aveValPerPos"
   ]
  },
  {
   "cell_type": "code",
   "execution_count": 129,
   "metadata": {},
   "outputs": [],
   "source": [
    "aveValPerPosList = []\n",
    "for i in range(len(list(aveValPerPos.keys()))):\n",
    "    tempList = []\n",
    "    tempList.append(list(aveValPerPos.keys())[i])\n",
    "    tempList.append(list(aveValPerPos.values())[i])\n",
    "    aveValPerPosList.append(tempList)\n",
    "x = []\n",
    "y = []\n",
    "for i in range(len(aveValPerPosList)):\n",
    "    x.append(aveValPerPosList[i][0])\n",
    "    y.append(aveValPerPosList[i][1])"
   ]
  },
  {
   "cell_type": "code",
   "execution_count": 130,
   "metadata": {},
   "outputs": [
    {
     "data": {
      "image/png": "[encoded data removed]",
      "text/plain": [
       "<Figure size 432x288 with 1 Axes>"
      ]
     },
     "metadata": {
      "needs_background": "light"
     },
     "output_type": "display_data"
    }
   ],
   "source": [
    "#Plotting a bar chart to show the relationship between the categorical variable and the numerical variable\n",
    "plt.bar(x,y, color = 'green')\n",
    "plt.xticks(rotation = 90)\n",
    "plt.show()"
   ]
  },
  {
   "cell_type": "code",
   "execution_count": 131,
   "metadata": {},
   "outputs": [
    {
     "data": {
      "text/plain": [
       "0"
      ]
     },
     "execution_count": 131,
     "metadata": {},
     "output_type": "execute_result"
    }
   ],
   "source": [
    "footballData['newPosition'] = footballData.Position.map({'Right Winger':'Striker', 'Centre-Forward':'Striker', 'Attacking Midfield':'Midfielder',\\\n",
    "                                      'Second Striker':'Striker',\\\n",
    "                                 'Central Midfield':'Midfielder', 'Left Winger':'Striker', 'Centre-Back':'Defender', \\\n",
    "                                      'Goalkeeper':'Defender',  \\\n",
    "                                'Defensive Midfield':'Midfielder', 'Left-Back':'Defender', 'Right-Back':'Defender',\\\n",
    "                                      'Right Midfield':'Midfielder',\\\n",
    "                                 'Left Midfield':'Midfielder'})\n",
    "footballData.newPosition.isnull().sum()"
   ]
  },
  {
   "cell_type": "code",
   "execution_count": 132,
   "metadata": {},
   "outputs": [
    {
     "data": {
      "text/plain": [
       "[['Striker', 200],\n",
       " ['Striker', 160],\n",
       " ['Striker', 150],\n",
       " ['Midfielder', 150],\n",
       " ['Midfielder', 140],\n",
       " ['Striker', 110],\n",
       " ['Midfielder', 100],\n",
       " ['Striker', 100],\n",
       " ['Midfielder', 90],\n",
       " ['Striker', 80],\n",
       " ['Defender', 80],\n",
       " ['Midfielder', 80],\n",
       " ['Defender', 80],\n",
       " ['Striker', 180],\n",
       " ['Striker', 150],\n",
       " ['Striker', 150],\n",
       " ['Striker', 150],\n",
       " ['Striker', 120],\n",
       " ['Midfielder', 100],\n",
       " ['Striker', 100],\n",
       " ['Striker', 100],\n",
       " ['Striker', 85],\n",
       " ['Striker', 80],\n",
       " ['Striker', 80],\n",
       " ['Defender', 80],\n",
       " ['Midfielder', 80],\n",
       " ['Midfielder', 80],\n",
       " ['Striker', 75],\n",
       " ['Striker', 75],\n",
       " ['Midfielder', 75],\n",
       " ['Striker', 75],\n",
       " ['Striker', 70],\n",
       " ['Defender', 70],\n",
       " ['Defender', 70],\n",
       " ['Defender', 70],\n",
       " ['Defender', 70],\n",
       " ['Striker', 70],\n",
       " ['Defender', 65],\n",
       " ['Striker', 80],\n",
       " ['Midfielder', 75],\n",
       " ['Defender', 75],\n",
       " ['Midfielder', 75],\n",
       " ['Striker', 75],\n",
       " ['Striker', 70],\n",
       " ['Midfielder', 70],\n",
       " ['Midfielder', 70],\n",
       " ['Midfielder', 70],\n",
       " ['Defender', 70],\n",
       " ['Midfielder', 70],\n",
       " ['Midfielder', 70],\n",
       " ['Midfielder', 65],\n",
       " ['Striker', 65],\n",
       " ['Striker', 65],\n",
       " ['Defender', 65],\n",
       " ['Striker', 65],\n",
       " ['Midfielder', 65],\n",
       " ['Defender', 60],\n",
       " ['Striker', 60],\n",
       " ['Defender', 60],\n",
       " ['Defender', 60],\n",
       " ['Striker', 60],\n",
       " ['Defender', 60],\n",
       " ['Striker', 60],\n",
       " ['Midfielder', 65],\n",
       " ['Striker', 65],\n",
       " ['Defender', 65],\n",
       " ['Midfielder', 65],\n",
       " ['Midfielder', 65],\n",
       " ['Midfielder', 60],\n",
       " ['Defender', 60],\n",
       " ['Defender', 60],\n",
       " ['Striker', 60],\n",
       " ['Defender', 60],\n",
       " ['Defender', 60],\n",
       " ['Midfielder', 60],\n",
       " ['Midfielder', 55],\n",
       " ['Defender', 55],\n",
       " ['Defender', 55],\n",
       " ['Midfielder', 50],\n",
       " ['Striker', 50],\n",
       " ['Defender', 50],\n",
       " ['Striker', 50],\n",
       " ['Striker', 50],\n",
       " ['Striker', 50],\n",
       " ['Striker', 50],\n",
       " ['Striker', 50],\n",
       " ['Striker', 50],\n",
       " ['Striker', 50],\n",
       " ['Defender', 55],\n",
       " ['Defender', 55],\n",
       " ['Striker', 55],\n",
       " ['Midfielder', 50],\n",
       " ['Striker', 50],\n",
       " ['Striker', 50],\n",
       " ['Midfielder', 50],\n",
       " ['Defender', 50],\n",
       " ['Midfielder', 50],\n",
       " ['Midfielder', 50],\n",
       " ['Defender', 50],\n",
       " ['Defender', 50],\n",
       " ['Striker', 50],\n",
       " ['Midfielder', 45],\n",
       " ['Defender', 45],\n",
       " ['Striker', 45],\n",
       " ['Defender', 45],\n",
       " ['Midfielder', 45],\n",
       " ['Defender', 45],\n",
       " ['Defender', 45],\n",
       " ['Striker', 45],\n",
       " ['Midfielder', 40],\n",
       " ['Striker', 40],\n",
       " ['Striker', 40],\n",
       " ['Defender', 40],\n",
       " ['Midfielder', 50],\n",
       " ['Striker', 45],\n",
       " ['Defender', 45],\n",
       " ['Midfielder', 45],\n",
       " ['Defender', 45],\n",
       " ['Defender', 45],\n",
       " ['Defender', 45],\n",
       " ['Striker', 45],\n",
       " ['Striker', 45],\n",
       " ['Striker', 40],\n",
       " ['Defender', 40],\n",
       " ['Striker', 40],\n",
       " ['Defender', 40],\n",
       " ['Midfielder', 40],\n",
       " ['Midfielder', 40],\n",
       " ['Defender', 40],\n",
       " ['Defender', 40],\n",
       " ['Defender', 40],\n",
       " ['Midfielder', 40],\n",
       " ['Midfielder', 40],\n",
       " ['Striker', 40],\n",
       " ['Striker', 40],\n",
       " ['Midfielder', 40],\n",
       " ['Defender', 40],\n",
       " ['Midfielder', 40],\n",
       " ['Striker', 40],\n",
       " ['Midfielder', 40],\n",
       " ['Defender', 40],\n",
       " ['Midfielder', 40],\n",
       " ['Striker', 40],\n",
       " ['Midfielder', 40],\n",
       " ['Striker', 40],\n",
       " ['Midfielder', 40],\n",
       " ['Defender', 40],\n",
       " ['Defender', 40],\n",
       " ['Striker', 40],\n",
       " ['Midfielder', 40],\n",
       " ['Midfielder', 40],\n",
       " ['Defender', 40],\n",
       " ['Defender', 40],\n",
       " ['Defender', 40],\n",
       " ['Striker', 38],\n",
       " ['Midfielder', 38],\n",
       " ['Defender', 35],\n",
       " ['Midfielder', 35],\n",
       " ['Midfielder', 35],\n",
       " ['Midfielder', 35],\n",
       " ['Striker', 35],\n",
       " ['Midfielder', 35],\n",
       " ['Striker', 35],\n",
       " ['Striker', 40],\n",
       " ['Striker', 40],\n",
       " ['Midfielder', 40],\n",
       " ['Striker', 40],\n",
       " ['Striker', 38],\n",
       " ['Defender', 35],\n",
       " ['Striker', 35],\n",
       " ['Striker', 35],\n",
       " ['Striker', 35],\n",
       " ['Defender', 35],\n",
       " ['Midfielder', 35],\n",
       " ['Midfielder', 35],\n",
       " ['Defender', 35],\n",
       " ['Defender', 35],\n",
       " ['Striker', 35],\n",
       " ['Striker', 35],\n",
       " ['Striker', 35],\n",
       " ['Striker', 35],\n",
       " ['Defender', 35],\n",
       " ['Midfielder', 35],\n",
       " ['Midfielder', 35],\n",
       " ['Midfielder', 35],\n",
       " ['Defender', 35],\n",
       " ['Defender', 33],\n",
       " ['Defender', 32],\n",
       " ['Defender', 35],\n",
       " ['Midfielder', 35],\n",
       " ['Defender', 35],\n",
       " ['Striker', 35],\n",
       " ['Striker', 35],\n",
       " ['Defender', 35],\n",
       " ['Defender', 35],\n",
       " ['Defender', 35],\n",
       " ['Striker', 35],\n",
       " ['Striker', 35],\n",
       " ['Midfielder', 35],\n",
       " ['Midfielder', 32],\n",
       " ['Defender', 32],\n",
       " ['Midfielder', 30],\n",
       " ['Defender', 30],\n",
       " ['Defender', 30],\n",
       " ['Striker', 30],\n",
       " ['Defender', 30],\n",
       " ['Midfielder', 30],\n",
       " ['Defender', 30],\n",
       " ['Striker', 30],\n",
       " ['Midfielder', 30],\n",
       " ['Midfielder', 30],\n",
       " ['Striker', 30],\n",
       " ['Defender', 30],\n",
       " ['Striker', 32],\n",
       " ['Midfielder', 30],\n",
       " ['Midfielder', 30],\n",
       " ['Defender', 30],\n",
       " ['Defender', 30],\n",
       " ['Striker', 30],\n",
       " ['Midfielder', 30],\n",
       " ['Midfielder', 30],\n",
       " ['Midfielder', 30],\n",
       " ['Striker', 30],\n",
       " ['Striker', 30],\n",
       " ['Striker', 30],\n",
       " ['Midfielder', 30],\n",
       " ['Defender', 30],\n",
       " ['Defender', 30],\n",
       " ['Midfielder', 30],\n",
       " ['Midfielder', 30],\n",
       " ['Midfielder', 30],\n",
       " ['Defender', 30],\n",
       " ['Defender', 30],\n",
       " ['Striker', 28],\n",
       " ['Defender', 28],\n",
       " ['Defender', 28],\n",
       " ['Midfielder', 28],\n",
       " ['Midfielder', 28],\n",
       " ['Midfielder', 30],\n",
       " ['Midfielder', 30],\n",
       " ['Striker', 30],\n",
       " ['Defender', 30],\n",
       " ['Defender', 30],\n",
       " ['Midfielder', 30],\n",
       " ['Defender', 30],\n",
       " ['Defender', 28],\n",
       " ['Striker', 28],\n",
       " ['Midfielder', 28],\n",
       " ['Striker', 28],\n",
       " ['Midfielder', 28],\n",
       " ['Midfielder', 28],\n",
       " ['Midfielder', 28],\n",
       " ['Striker', 26],\n",
       " ['Striker', 26],\n",
       " ['Striker', 25],\n",
       " ['Defender', 25],\n",
       " ['Defender', 25],\n",
       " ['Striker', 25],\n",
       " ['Midfielder', 25],\n",
       " ['Striker', 25],\n",
       " ['Midfielder', 25],\n",
       " ['Defender', 25],\n",
       " ['Defender', 25],\n",
       " ['Midfielder', 28],\n",
       " ['Midfielder', 27],\n",
       " ['Defender', 26],\n",
       " ['Striker', 25],\n",
       " ['Defender', 25],\n",
       " ['Midfielder', 25],\n",
       " ['Defender', 25],\n",
       " ['Midfielder', 25],\n",
       " ['Striker', 25],\n",
       " ['Striker', 25],\n",
       " ['Defender', 25],\n",
       " ['Midfielder', 25],\n",
       " ['Striker', 25],\n",
       " ['Defender', 25],\n",
       " ['Midfielder', 25],\n",
       " ['Midfielder', 25],\n",
       " ['Midfielder', 25],\n",
       " ['Midfielder', 25],\n",
       " ['Defender', 25],\n",
       " ['Striker', 25],\n",
       " ['Striker', 25],\n",
       " ['Midfielder', 25],\n",
       " ['Striker', 25],\n",
       " ['Midfielder', 25],\n",
       " ['Defender', 25],\n",
       " ['Defender', 25],\n",
       " ['Midfielder', 25],\n",
       " ['Midfielder', 25],\n",
       " ['Striker', 25],\n",
       " ['Midfielder', 25],\n",
       " ['Defender', 25],\n",
       " ['Striker', 25],\n",
       " ['Defender', 25],\n",
       " ['Striker', 25],\n",
       " ['Striker', 25],\n",
       " ['Striker', 25],\n",
       " ['Defender', 25],\n",
       " ['Striker', 25],\n",
       " ['Striker', 25],\n",
       " ['Defender', 25],\n",
       " ['Defender', 25],\n",
       " ['Midfielder', 25],\n",
       " ['Striker', 25],\n",
       " ['Midfielder', 25],\n",
       " ['Defender', 23],\n",
       " ['Striker', 23],\n",
       " ['Midfielder', 22],\n",
       " ['Midfielder', 22],\n",
       " ['Defender', 22],\n",
       " ['Defender', 22],\n",
       " ['Midfielder', 25],\n",
       " ['Midfielder', 25],\n",
       " ['Striker', 25],\n",
       " ['Defender', 25],\n",
       " ['Midfielder', 25],\n",
       " ['Midfielder', 25],\n",
       " ['Striker', 23],\n",
       " ['Midfielder', 23],\n",
       " ['Midfielder', 22],\n",
       " ['Midfielder', 22],\n",
       " ['Midfielder', 22],\n",
       " ['Defender', 22],\n",
       " ['Striker', 22],\n",
       " ['Striker', 22],\n",
       " ['Defender', 22],\n",
       " ['Striker', 22],\n",
       " ['Defender', 22],\n",
       " ['Striker', 20],\n",
       " ['Striker', 20],\n",
       " ['Midfielder', 20],\n",
       " ['Defender', 20],\n",
       " ['Midfielder', 20],\n",
       " ['Striker', 20],\n",
       " ['Midfielder', 20],\n",
       " ['Midfielder', 20],\n",
       " ['Defender', 22],\n",
       " ['Midfielder', 22],\n",
       " ['Striker', 22],\n",
       " ['Striker', 22],\n",
       " ['Midfielder', 20],\n",
       " ['Midfielder', 20],\n",
       " ['Midfielder', 20],\n",
       " ['Striker', 20],\n",
       " ['Midfielder', 20],\n",
       " ['Defender', 20],\n",
       " ['Midfielder', 20],\n",
       " ['Striker', 20],\n",
       " ['Striker', 20],\n",
       " ['Midfielder', 20],\n",
       " ['Defender', 20],\n",
       " ['Striker', 20],\n",
       " ['Midfielder', 20],\n",
       " ['Midfielder', 20],\n",
       " ['Striker', 20],\n",
       " ['Defender', 20],\n",
       " ['Defender', 20],\n",
       " ['Midfielder', 20],\n",
       " ['Defender', 20],\n",
       " ['Striker', 20],\n",
       " ['Midfielder', 20],\n",
       " ['Striker', 20],\n",
       " ['Defender', 20],\n",
       " ['Striker', 20],\n",
       " ['Striker', 20],\n",
       " ['Striker', 20],\n",
       " ['Midfielder', 20],\n",
       " ['Striker', 20],\n",
       " ['Striker', 20],\n",
       " ['Defender', 20],\n",
       " ['Midfielder', 20],\n",
       " ['Midfielder', 20],\n",
       " ['Midfielder', 20],\n",
       " ['Midfielder', 20],\n",
       " ['Striker', 20],\n",
       " ['Defender', 20],\n",
       " ['Defender', 20],\n",
       " ['Defender', 20],\n",
       " ['Striker', 20],\n",
       " ['Defender', 20],\n",
       " ['Defender', 20],\n",
       " ['Midfielder', 20],\n",
       " ['Striker', 20],\n",
       " ['Defender', 20],\n",
       " ['Striker', 20],\n",
       " ['Defender', 20],\n",
       " ['Midfielder', 20],\n",
       " ['Striker', 20],\n",
       " ['Striker', 20],\n",
       " ['Midfielder', 20],\n",
       " ['Defender', 20],\n",
       " ['Midfielder', 20],\n",
       " ['Defender', 20],\n",
       " ['Midfielder', 20],\n",
       " ['Defender', 20],\n",
       " ['Defender', 20],\n",
       " ['Striker', 20],\n",
       " ['Defender', 20],\n",
       " ['Defender', 20],\n",
       " ['Defender', 20],\n",
       " ['Striker', 20],\n",
       " ['Midfielder', 20],\n",
       " ['Striker', 20],\n",
       " ['Midfielder', 20],\n",
       " ['Striker', 20],\n",
       " ['Striker', 20],\n",
       " ['Midfielder', 20],\n",
       " ['Defender', 20],\n",
       " ['Midfielder', 20],\n",
       " ['Midfielder', 19],\n",
       " ['Defender', 18],\n",
       " ['Midfielder', 20],\n",
       " ['Striker', 20],\n",
       " ['Striker', 20],\n",
       " ['Defender', 20],\n",
       " ['Defender', 20],\n",
       " ['Midfielder', 20],\n",
       " ['Striker', 20],\n",
       " ['Defender', 20],\n",
       " ['Midfielder', 20],\n",
       " ['Striker', 20],\n",
       " ['Midfielder', 20],\n",
       " ['Midfielder', 18],\n",
       " ['Striker', 18],\n",
       " ['Midfielder', 18],\n",
       " ['Defender', 18],\n",
       " ['Midfielder', 18],\n",
       " ['Striker', 18],\n",
       " ['Striker', 18],\n",
       " ['Striker', 18],\n",
       " ['Striker', 18],\n",
       " ['Defender', 18],\n",
       " ['Defender', 18],\n",
       " ['Striker', 18],\n",
       " ['Defender', 18],\n",
       " ['Defender', 18],\n",
       " ['Defender', 18],\n",
       " ['Midfielder', 18],\n",
       " ['Striker', 18],\n",
       " ['Striker', 18],\n",
       " ['Striker', 18],\n",
       " ['Midfielder', 18],\n",
       " ['Midfielder', 18],\n",
       " ['Midfielder', 18],\n",
       " ['Striker', 18],\n",
       " ['Striker', 18],\n",
       " ['Defender', 18],\n",
       " ['Striker', 18],\n",
       " ['Midfielder', 18],\n",
       " ['Defender', 18],\n",
       " ['Striker', 18],\n",
       " ['Striker', 18],\n",
       " ['Defender', 18],\n",
       " ['Defender', 18],\n",
       " ['Midfielder', 18],\n",
       " ['Striker', 18],\n",
       " ['Midfielder', 18],\n",
       " ['Midfielder', 18],\n",
       " ['Defender', 18],\n",
       " ['Striker', 18],\n",
       " ['Defender', 18],\n",
       " ['Striker', 18],\n",
       " ['Midfielder', 18],\n",
       " ['Midfielder', 18],\n",
       " ['Defender', 18],\n",
       " ['Striker', 18],\n",
       " ['Midfielder', 18],\n",
       " ['Defender', 18],\n",
       " ['Midfielder', 18],\n",
       " ['Midfielder', 18],\n",
       " ['Midfielder', 18],\n",
       " ['Defender', 18],\n",
       " ['Midfielder', 18],\n",
       " ['Defender', 17],\n",
       " ['Striker', 17],\n",
       " ['Defender', 17],\n",
       " ['Midfielder', 17],\n",
       " ['Striker', 17],\n",
       " ['Midfielder', 17],\n",
       " ['Defender', 17],\n",
       " ['Midfielder', 17],\n",
       " ['Striker', 17],\n",
       " ['Midfielder', 16],\n",
       " ['Defender', 16],\n",
       " ['Midfielder', 16],\n",
       " ['Striker', 16],\n",
       " ['Striker', 17],\n",
       " ['Striker', 17],\n",
       " ['Striker', 17],\n",
       " ['Midfielder', 17],\n",
       " ['Defender', 17],\n",
       " ['Striker', 17],\n",
       " ['Defender', 17],\n",
       " ['Defender', 17],\n",
       " ['Defender', 17],\n",
       " ['Striker', 16],\n",
       " ['Defender', 16],\n",
       " ['Defender', 16]]"
      ]
     },
     "execution_count": 132,
     "metadata": {},
     "output_type": "execute_result"
    }
   ],
   "source": [
    "newPosition = footballData['newPosition']\n",
    "marketValue = footballData['Market Value']\n",
    "newPosMar = pd.concat((newPosition, marketValue), axis=1, ignore_index= True)\n",
    "newPosMar = newPosMar.to_dict('split')\n",
    "newListPosMar = newPosMar['data']\n",
    "newListPosMar"
   ]
  },
  {
   "cell_type": "code",
   "execution_count": 133,
   "metadata": {},
   "outputs": [
    {
     "data": {
      "text/plain": [
       "{'Striker': 7080, 'Midfielder': 5786, 'Defender': 5242}"
      ]
     },
     "execution_count": 133,
     "metadata": {},
     "output_type": "execute_result"
    }
   ],
   "source": [
    "#Total market value for each position\n",
    "newDicPosMar = {}\n",
    "for i in range(len(newListPosMar)):\n",
    "    if newListPosMar[i][0] in newDicPosMar.keys():\n",
    "        newDicPosMar[newListPosMar[i][0]] += newListPosMar[i][1]\n",
    "    else:\n",
    "        newDicPosMar[newListPosMar[i][0]] = newListPosMar[i][1]\n",
    "newDicPosMar"
   ]
  },
  {
   "cell_type": "code",
   "execution_count": 134,
   "metadata": {},
   "outputs": [
    {
     "data": {
      "text/plain": [
       "{'Striker': 174, 'Midfielder': 168, 'Defender': 158}"
      ]
     },
     "execution_count": 134,
     "metadata": {},
     "output_type": "execute_result"
    }
   ],
   "source": [
    "#Total number of people in the sample per position\n",
    "newNumPerPos = {}\n",
    "for i in range(len(newListPosMar)):\n",
    "    newNumPerPos.setdefault(newListPosMar[i][0], 0)\n",
    "    newNumPerPos[newListPosMar[i][0]] += 1\n",
    "newNumPerPos"
   ]
  },
  {
   "cell_type": "code",
   "execution_count": 135,
   "metadata": {},
   "outputs": [
    {
     "data": {
      "text/plain": [
       "{'Striker': 40.689655172413794,\n",
       " 'Midfielder': 34.44047619047619,\n",
       " 'Defender': 33.177215189873415}"
      ]
     },
     "execution_count": 135,
     "metadata": {},
     "output_type": "execute_result"
    }
   ],
   "source": [
    "#Average market value per position\n",
    "newAveValPerPos = {}\n",
    "newPosList = list(newDicPosMar.keys())\n",
    "for i in range(len(list(newPosList))):\n",
    "    newAveValPerPos.setdefault(newPosList[i], (newDicPosMar[newPosList[i]]/newNumPerPos[newPosList[i]]))\n",
    "newAveValPerPos"
   ]
  },
  {
   "cell_type": "code",
   "execution_count": 136,
   "metadata": {},
   "outputs": [
    {
     "data": {
      "text/plain": [
       "(['Striker', 'Midfielder', 'Defender'],\n",
       " [40.689655172413794, 34.44047619047619, 33.177215189873415])"
      ]
     },
     "execution_count": 136,
     "metadata": {},
     "output_type": "execute_result"
    }
   ],
   "source": [
    "newAveValPerPosList = []\n",
    "for i in range(len(list(newAveValPerPos.keys()))):\n",
    "    newTempList = []\n",
    "    newTempList.append(list(newAveValPerPos.keys())[i])\n",
    "    newTempList.append(list(newAveValPerPos.values())[i])\n",
    "    newAveValPerPosList.append(newTempList)\n",
    "newX = []\n",
    "newY = []\n",
    "for i in range(len(newAveValPerPosList)):\n",
    "    newX.append(newAveValPerPosList[i][0])\n",
    "    newY.append(newAveValPerPosList[i][1])\n",
    "newX, newY"
   ]
  },
  {
   "cell_type": "code",
   "execution_count": 137,
   "metadata": {},
   "outputs": [
    {
     "data": {
      "text/plain": [
       "<BarContainer object of 3 artists>"
      ]
     },
     "execution_count": 137,
     "metadata": {},
     "output_type": "execute_result"
    },
    {
     "data": {
      "image/png": "[encoded data removed]",
      "text/plain": [
       "<Figure size 432x288 with 1 Axes>"
      ]
     },
     "metadata": {
      "needs_background": "light"
     },
     "output_type": "display_data"
    }
   ],
   "source": [
    "plt.bar(newX,newY)"
   ]
  },
  {
   "cell_type": "code",
   "execution_count": 138,
   "metadata": {},
   "outputs": [],
   "source": [
    "footballData['newPosEncoded'] = footballData.newPosition.map({'Striker':2, 'Midfielder':1, 'Defender':0})"
   ]
  },
  {
   "cell_type": "code",
   "execution_count": 139,
   "metadata": {},
   "outputs": [
    {
     "data": {
      "text/plain": [
       "numpy.ndarray"
      ]
     },
     "execution_count": 139,
     "metadata": {},
     "output_type": "execute_result"
    }
   ],
   "source": [
    "X = footballData.iloc[:,[1,3,4,5,6,7,8,9,10,11,13]].values\n",
    "y = footballData.iloc[:, 2].values\n",
    "X.shape,y.shape\n",
    "type(y)"
   ]
  },
  {
   "cell_type": "code",
   "execution_count": 140,
   "metadata": {},
   "outputs": [
    {
     "data": {
      "text/plain": [
       "((400, 11), (400,))"
      ]
     },
     "execution_count": 140,
     "metadata": {},
     "output_type": "execute_result"
    }
   ],
   "source": [
    "from sklearn.model_selection import train_test_split\n",
    "X_train, X_test, y_train, y_test = train_test_split(X, y, test_size = 0.2)\n",
    "X_train.shape,y_train.shape"
   ]
  },
  {
   "cell_type": "code",
   "execution_count": 141,
   "metadata": {},
   "outputs": [],
   "source": [
    "from sklearn.linear_model import LinearRegression\n",
    "regressor = LinearRegression()\n",
    "regressor.fit(X_train,y_train)\n",
    "y_pred = regressor.predict(X_test)"
   ]
  },
  {
   "cell_type": "code",
   "execution_count": 142,
   "metadata": {},
   "outputs": [
    {
     "data": {
      "text/plain": [
       "0.2565790346937935"
      ]
     },
     "execution_count": 142,
     "metadata": {},
     "output_type": "execute_result"
    }
   ],
   "source": [
    "regressor.score(X_train,y_train)"
   ]
  },
  {
   "cell_type": "code",
   "execution_count": 150,
   "metadata": {},
   "outputs": [
    {
     "data": {
      "text/plain": [
       "(500, 15)"
      ]
     },
     "execution_count": 150,
     "metadata": {},
     "output_type": "execute_result"
    }
   ],
   "source": [
    "from sklearn.metrics import mean_squared_error\n",
    "mean_squared_error(y_test, y_pred)  \n",
    "#say out of 12 variables, select a model with 5 variables with the lowest mse\n",
    "Z = footballData.iloc[:,[1,3,4,5,6,7,8,9,10,11,13]]\n",
    "X.shape"
   ]
  },
  {
   "cell_type": "code",
   "execution_count": 152,
   "metadata": {},
   "outputs": [
    {
     "ename": "AttributeError",
     "evalue": "module 'statsmodels.formula.api' has no attribute 'add_constant'",
     "output_type": "error",
     "traceback": [
      "\u001b[1;31m---------------------------------------------------------------------------\u001b[0m",
      "\u001b[1;31mAttributeError\u001b[0m                            Traceback (most recent call last)",
      "\u001b[1;32m<ipython-input-152-ba76590a0ae3>\u001b[0m in \u001b[0;36m<module>\u001b[1;34m\u001b[0m\n\u001b[0;32m      4\u001b[0m \u001b[1;31m#X = np.append(arr = np.ones((500,1)).astype(int), values = X, axis = 1)\u001b[0m\u001b[1;33m\u001b[0m\u001b[1;33m\u001b[0m\u001b[1;33m\u001b[0m\u001b[0m\n\u001b[0;32m      5\u001b[0m \u001b[0mX_opt\u001b[0m \u001b[1;33m=\u001b[0m \u001b[0mX\u001b[0m\u001b[1;33m[\u001b[0m\u001b[1;33m:\u001b[0m\u001b[1;33m,\u001b[0m\u001b[1;33m[\u001b[0m\u001b[1;36m0\u001b[0m\u001b[1;33m,\u001b[0m\u001b[1;36m1\u001b[0m\u001b[1;33m,\u001b[0m\u001b[1;36m2\u001b[0m\u001b[1;33m,\u001b[0m\u001b[1;36m3\u001b[0m\u001b[1;33m,\u001b[0m\u001b[1;36m4\u001b[0m\u001b[1;33m,\u001b[0m\u001b[1;36m5\u001b[0m\u001b[1;33m,\u001b[0m\u001b[1;36m6\u001b[0m\u001b[1;33m,\u001b[0m\u001b[1;36m7\u001b[0m\u001b[1;33m,\u001b[0m\u001b[1;36m8\u001b[0m\u001b[1;33m,\u001b[0m\u001b[1;36m9\u001b[0m\u001b[1;33m,\u001b[0m\u001b[1;36m10\u001b[0m\u001b[1;33m,\u001b[0m\u001b[1;36m11\u001b[0m\u001b[1;33m]\u001b[0m\u001b[1;33m]\u001b[0m\u001b[1;33m\u001b[0m\u001b[1;33m\u001b[0m\u001b[0m\n\u001b[1;32m----> 6\u001b[1;33m \u001b[0mX_opt\u001b[0m \u001b[1;33m=\u001b[0m \u001b[0msm\u001b[0m\u001b[1;33m.\u001b[0m\u001b[0madd_constant\u001b[0m\u001b[1;33m(\u001b[0m\u001b[0mX_opt\u001b[0m\u001b[1;33m)\u001b[0m\u001b[1;33m\u001b[0m\u001b[1;33m\u001b[0m\u001b[0m\n\u001b[0m\u001b[0;32m      7\u001b[0m \u001b[0mregressor_OLS\u001b[0m \u001b[1;33m=\u001b[0m \u001b[0msm\u001b[0m\u001b[1;33m.\u001b[0m\u001b[0mOLS\u001b[0m\u001b[1;33m(\u001b[0m\u001b[0mendog\u001b[0m \u001b[1;33m=\u001b[0m \u001b[0my\u001b[0m\u001b[1;33m,\u001b[0m \u001b[0mexog\u001b[0m \u001b[1;33m=\u001b[0m \u001b[0mX_opt\u001b[0m\u001b[1;33m)\u001b[0m\u001b[1;33m.\u001b[0m\u001b[0mfit\u001b[0m\u001b[1;33m(\u001b[0m\u001b[1;33m)\u001b[0m\u001b[1;33m\u001b[0m\u001b[1;33m\u001b[0m\u001b[0m\n\u001b[0;32m      8\u001b[0m \u001b[0mpVals\u001b[0m \u001b[1;33m=\u001b[0m \u001b[0mregressor_OLS\u001b[0m\u001b[1;33m.\u001b[0m\u001b[0mpvalues\u001b[0m \u001b[1;31m#returns a vector\u001b[0m\u001b[1;33m\u001b[0m\u001b[1;33m\u001b[0m\u001b[0m\n",
      "\u001b[1;31mAttributeError\u001b[0m: module 'statsmodels.formula.api' has no attribute 'add_constant'"
     ]
    }
   ],
   "source": [
    "import statsmodels.formula.api as sm\n",
    "sigLevel = 0.05\n",
    "a,b = X.shape\n",
    "#X = np.append(arr = np.ones((500,1)).astype(int), values = X, axis = 1)\n",
    "X_opt = X[:,[0,1,2,3,4,5,6,7,8,9,10,11]]\n",
    "X_opt = sm.add_constant(X_opt)\n",
    "regressor_OLS = sm.OLS(endog = y, exog = X_opt).fit()\n",
    "pVals = regressor_OLS.pvalues #returns a vector\n",
    "\n",
    "index = ['constant','age','matches','goals','own goals','assists','yellow cards', 'second yellow card', 'red cards',\\\n",
    "             'substituted on', 'substituted off', 'position']\n",
    "#print(np.argmax(pVals)) returns the indices of the maximum value along an axis\n",
    "while pVals[np.argmax(pVals)] > sigLevel:\n",
    "    X_opt = np.delete(X_opt, np.argmax(pVals), axis = 1)\n",
    "    del index[np.argmax(pVals)]\n",
    "    print('pVal deleted at index', index[np.argmax(pVals)], str(np.argmax(pVals)), '\\n', str(X_opt.shape[1]), 'variables remaining')\n",
    "    regressor_OLS = sm.OLS(endog = y, exog = X_opt).fit()\n",
    "    pVals = regressor_OLS.pvalues\n",
    "    \n",
    "regressor_OLS.summary()"
   ]
  },
  {
   "cell_type": "code",
   "execution_count": null,
   "metadata": {},
   "outputs": [],
   "source": []
  },
  {
   "cell_type": "code",
   "execution_count": null,
   "metadata": {
    "collapsed": true
   },
   "outputs": [],
   "source": [
    "#Normality of errors\n",
    "residual = y_test - y_pred\n",
    "residual = pd.Series(residual)\n",
    "plt.scatter(y_pred, resid)"
   ]
  },
  {
   "cell_type": "code",
   "execution_count": null,
   "metadata": {
    "collapsed": true
   },
   "outputs": [],
   "source": [
    "#Independence of errors\n",
    "plt.scatter(residual.index, residual.values)\n",
    "from statsmodels.stats.stattools import durbin_watson\n",
    "durbin_watson(residual)"
   ]
  },
  {
   "cell_type": "code",
   "execution_count": 10,
   "metadata": {
    "collapsed": true
   },
   "outputs": [
    {
     "ename": "NameError",
     "evalue": "name 'y_pred' is not defined",
     "output_type": "error",
     "traceback": [
      "\u001b[1;31m---------------------------------------------------------------------------\u001b[0m",
      "\u001b[1;31mNameError\u001b[0m                                 Traceback (most recent call last)",
      "\u001b[1;32m<ipython-input-10-8799d9d18dab>\u001b[0m in \u001b[0;36m<module>\u001b[1;34m()\u001b[0m\n\u001b[0;32m      1\u001b[0m \u001b[1;31m#Homoscedasticity\u001b[0m\u001b[1;33m\u001b[0m\u001b[1;33m\u001b[0m\u001b[0m\n\u001b[1;32m----> 2\u001b[1;33m \u001b[0mplt\u001b[0m\u001b[1;33m.\u001b[0m\u001b[0mscatter\u001b[0m\u001b[1;33m(\u001b[0m\u001b[0my_pred\u001b[0m\u001b[1;33m,\u001b[0m \u001b[0mresidual\u001b[0m\u001b[1;33m)\u001b[0m\u001b[1;33m\u001b[0m\u001b[0m\n\u001b[0m",
      "\u001b[1;31mNameError\u001b[0m: name 'y_pred' is not defined"
     ]
    }
   ],
   "source": [
    "#Homoscedasticity\n",
    "plt.scatter(y_pred, residual)"
   ]
  },
  {
   "cell_type": "code",
   "execution_count": 11,
   "metadata": {
    "collapsed": true
   },
   "outputs": [],
   "source": [
    "#Detecting multicollinearity using VIF\n",
    "#VIF = 1 / (1-R_squared)"
   ]
  },
  {
   "cell_type": "code",
   "execution_count": null,
   "metadata": {
    "collapsed": true
   },
   "outputs": [],
   "source": [
    "#Linearity - correct functional form"
   ]
  }
 ],
 "metadata": {
  "kernelspec": {
   "display_name": "Python 2",
   "language": "python",
   "name": "python2"
  },
  "language_info": {
   "codemirror_mode": {
    "name": "ipython",
    "version": 2
   },
   "file_extension": ".py",
   "mimetype": "text/x-python",
   "name": "python",
   "nbconvert_exporter": "python",
   "pygments_lexer": "ipython2",
   "version": "2.7.15"
  }
 },
 "nbformat": 4,
 "nbformat_minor": 2
}
