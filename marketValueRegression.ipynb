{
 "cells": [
  {
   "cell_type": "markdown",
   "metadata": {},
   "source": [
    "## PREDICTING THE MARKET VALUE OF FOOTBALLERS"
   ]
  },
  {
   "cell_type": "markdown",
   "metadata": {},
   "source": [
    "**PROBLEM DESCRRIPTION:** Footballers are getting over-priced.  \n",
    "\n",
    "In this notebook, I built a regression model to estimate a Footballer's actual worth. This will prevent the extortion of Football clubs. \n",
    "\n",
    "First, I investigated the predictors to indentify those that are highly statistically significant in order to use them to predict the market value of footballers accurately. "
   ]
  },
  {
   "cell_type": "code",
   "execution_count": 19,
   "metadata": {},
   "outputs": [],
   "source": [
    "#importing libraries\n",
    "import pandas as pd\n",
    "import numpy as np\n",
    "import matplotlib.pyplot as plt\n",
    "from sklearn.preprocessing import LabelEncoder\n",
    "from sklearn.preprocessing import PolynomialFeatures\n",
    "from statsmodels.stats.outliers_influence import variance_inflation_factor\n",
    "from sklearn.linear_model import LinearRegression\n",
    "from sklearn.model_selection import train_test_split\n",
    "import statsmodels.formula.api as sm\n",
    "import seaborn as sns"
   ]
  },
  {
   "cell_type": "markdown",
   "metadata": {},
   "source": [
    "## Read the csv file and store as a DataFrame, View the first few rows"
   ]
  },
  {
   "cell_type": "code",
   "execution_count": 20,
   "metadata": {},
   "outputs": [
    {
     "data": {
      "text/html": [
       "<div>\n",
       "<style scoped>\n",
       "    .dataframe tbody tr th:only-of-type {\n",
       "        vertical-align: middle;\n",
       "    }\n",
       "\n",
       "    .dataframe tbody tr th {\n",
       "        vertical-align: top;\n",
       "    }\n",
       "\n",
       "    .dataframe thead th {\n",
       "        text-align: right;\n",
       "    }\n",
       "</style>\n",
       "<table border=\"1\" class=\"dataframe\">\n",
       "  <thead>\n",
       "    <tr style=\"text-align: right;\">\n",
       "      <th></th>\n",
       "      <th>Player name</th>\n",
       "      <th>Position</th>\n",
       "      <th>Age</th>\n",
       "      <th>Market Value</th>\n",
       "      <th>NaN</th>\n",
       "      <th>Matches</th>\n",
       "      <th>Goals</th>\n",
       "      <th>Own Goals</th>\n",
       "      <th>Assists</th>\n",
       "      <th>Yellow cards</th>\n",
       "      <th>Second Yellow card</th>\n",
       "      <th>Red Cards</th>\n",
       "      <th>Substitued on</th>\n",
       "      <th>Substituted off</th>\n",
       "    </tr>\n",
       "  </thead>\n",
       "  <tbody>\n",
       "    <tr>\n",
       "      <th>0</th>\n",
       "      <td>Kylian Mbappé</td>\n",
       "      <td>Right Winger</td>\n",
       "      <td>20</td>\n",
       "      <td>200</td>\n",
       "      <td>0</td>\n",
       "      <td>30</td>\n",
       "      <td>24</td>\n",
       "      <td>0</td>\n",
       "      <td>13</td>\n",
       "      <td>4</td>\n",
       "      <td>0</td>\n",
       "      <td>1</td>\n",
       "      <td>5</td>\n",
       "      <td>5</td>\n",
       "    </tr>\n",
       "    <tr>\n",
       "      <th>1</th>\n",
       "      <td>Lionel Messi</td>\n",
       "      <td>Right Winger</td>\n",
       "      <td>31</td>\n",
       "      <td>160</td>\n",
       "      <td>0</td>\n",
       "      <td>26</td>\n",
       "      <td>27</td>\n",
       "      <td>0</td>\n",
       "      <td>17</td>\n",
       "      <td>1</td>\n",
       "      <td>0</td>\n",
       "      <td>0</td>\n",
       "      <td>3</td>\n",
       "      <td>1</td>\n",
       "    </tr>\n",
       "    <tr>\n",
       "      <th>2</th>\n",
       "      <td>Harry Kane</td>\n",
       "      <td>Centre-Forward</td>\n",
       "      <td>25</td>\n",
       "      <td>150</td>\n",
       "      <td>0</td>\n",
       "      <td>36</td>\n",
       "      <td>21</td>\n",
       "      <td>0</td>\n",
       "      <td>9</td>\n",
       "      <td>5</td>\n",
       "      <td>0</td>\n",
       "      <td>0</td>\n",
       "      <td>4</td>\n",
       "      <td>5</td>\n",
       "    </tr>\n",
       "  </tbody>\n",
       "</table>\n",
       "</div>"
      ],
      "text/plain": [
       "     Player name        Position  Age  Market Value  NaN  Matches  Goals  \\\n",
       "0  Kylian Mbappé    Right Winger   20           200    0       30     24   \n",
       "1   Lionel Messi    Right Winger   31           160    0       26     27   \n",
       "2     Harry Kane  Centre-Forward   25           150    0       36     21   \n",
       "\n",
       "   Own Goals  Assists  Yellow cards  Second Yellow card  Red Cards  \\\n",
       "0          0       13             4                   0          1   \n",
       "1          0       17             1                   0          0   \n",
       "2          0        9             5                   0          0   \n",
       "\n",
       "   Substitued on  Substituted off  \n",
       "0              5                5  \n",
       "1              3                1  \n",
       "2              4                5  "
      ]
     },
     "execution_count": 20,
     "metadata": {},
     "output_type": "execute_result"
    }
   ],
   "source": [
    "footballData = pd.read_csv('footballData.csv')\n",
    "footballData.head(3)"
   ]
  },
  {
   "cell_type": "code",
   "execution_count": 21,
   "metadata": {},
   "outputs": [
    {
     "data": {
      "text/plain": [
       "(500, 14)"
      ]
     },
     "execution_count": 21,
     "metadata": {},
     "output_type": "execute_result"
    }
   ],
   "source": [
    "footballData.shape"
   ]
  },
  {
   "cell_type": "markdown",
   "metadata": {},
   "source": [
    "The dataset has 14 columns (13 features and 1 target variable) and 500 rows (examples). \n",
    "\n",
    "**POTENTIAL PREDICTORS**\n",
    "- Player name : name of footballer\n",
    "- Position : role of the footballer on the pitch\n",
    "- Age : how old the footballer is\n",
    "- Market Value - amount the footballer is worth in the market\n",
    "- Nan : Decimal points obtained from the market value while scraping the data\n",
    "- Matches : the number of games played so far\n",
    "- Goals : the number of times a footballer has scored a goal against the opponents so far\n",
    "- Own Goals : the number of times a footballer has scored against his team so far\n",
    "- Assists : the number of times a footballer has assisted another footballer to put the ball at the back of the net\n",
    "- Yellow cards : the number of yellow cards received by a footballer\n",
    "- Second Yellow cards : the number of times a player has received two yellow cards in a game\n",
    "- Red Cards : the number of red cards received by a footballer\n",
    "- Substituted on : the number of times a footballer has been brought in during the game\n",
    "- Substituted off : the number of times a footballer has been taken off the pitch during the game\n",
    "\n",
    "**RESPONSE/TARGET VARIABLE**\n",
    "- Market Value: the worth of a footballer"
   ]
  },
  {
   "cell_type": "markdown",
   "metadata": {},
   "source": [
    "### Drop uuncecesary columns and check for missing values"
   ]
  },
  {
   "cell_type": "code",
   "execution_count": 22,
   "metadata": {},
   "outputs": [
    {
     "data": {
      "text/plain": [
       "Position              0\n",
       "Age                   0\n",
       "Market Value          0\n",
       "Matches               0\n",
       "Goals                 0\n",
       "Own Goals             0\n",
       "Assists               0\n",
       "Yellow cards          0\n",
       "Second Yellow card    0\n",
       "Red Cards             0\n",
       "Substitued on         0\n",
       "Substituted off       0\n",
       "dtype: int64"
      ]
     },
     "execution_count": 22,
     "metadata": {},
     "output_type": "execute_result"
    }
   ],
   "source": [
    "#Removing the Playername and Nan columns which are obvioulsy insignificat features\n",
    "footballData = footballData.drop(['Player name', 'NaN'], axis = 1)\n",
    "\n",
    "#Converting all the examples in the market value to millions as it is on the website scraped from \n",
    "footballData['Market Value'] = footballData['Market Value'] * 1000000\n",
    "\n",
    "#Checking to see if their are any missing values\n",
    "footballData.isnull().sum()"
   ]
  },
  {
   "cell_type": "markdown",
   "metadata": {},
   "source": [
    "### Check for the presence of a relational order in the POSITION variable; the only categorical variable."
   ]
  },
  {
   "cell_type": "markdown",
   "metadata": {},
   "source": [
    "\n",
    "Position is a categorical variable and would need to be encoded becauase Machine Learning models are based on mathematical equations. Due to my knowledge about the subject matter, I would be checking to see if their is actually a relational order in the Position categories.\n"
   ]
  },
  {
   "cell_type": "code",
   "execution_count": 23,
   "metadata": {},
   "outputs": [
    {
     "data": {
      "text/plain": [
       "[['Right Winger', 200000000],\n",
       " ['Right Winger', 160000000],\n",
       " ['Centre-Forward', 150000000],\n",
       " ['Attacking Midfield', 150000000],\n",
       " ['Attacking Midfield', 140000000],\n",
       " ['Second Striker', 110000000],\n",
       " ['Attacking Midfield', 100000000],\n",
       " ['Centre-Forward', 100000000],\n",
       " ['Central Midfield', 90000000],\n",
       " ['Left Winger', 80000000]]"
      ]
     },
     "execution_count": 23,
     "metadata": {},
     "output_type": "execute_result"
    }
   ],
   "source": [
    "#Creating a list of list containing the Positions and the corresponding Market Value\n",
    "\n",
    "position = footballData['Position']\n",
    "marketValue = footballData['Market Value']\n",
    "posMar = pd.concat((position, marketValue), axis = 1, ignore_index = True)\n",
    "posMar = posMar.to_dict('split')\n",
    "listPosMar = posMar['data']\n",
    "listPosMar[:10]"
   ]
  },
  {
   "cell_type": "code",
   "execution_count": 24,
   "metadata": {},
   "outputs": [
    {
     "data": {
      "text/plain": [
       "{'Right Winger': 2165000000,\n",
       " 'Centre-Forward': 2509000000,\n",
       " 'Attacking Midfield': 1558000000,\n",
       " 'Second Striker': 349000000,\n",
       " 'Central Midfield': 2868000000,\n",
       " 'Left Winger': 2057000000,\n",
       " 'Centre-Back': 2656000000,\n",
       " 'Goalkeeper': 878000000,\n",
       " 'Defensive Midfield': 1214000000,\n",
       " 'Left-Back': 853000000,\n",
       " 'Right-Back': 855000000,\n",
       " 'Right Midfield': 75000000,\n",
       " 'Left Midfield': 71000000}"
      ]
     },
     "execution_count": 24,
     "metadata": {},
     "output_type": "execute_result"
    }
   ],
   "source": [
    "#Creating a dictionary from the list of list above to store the TOTAL market value for each unique position in the dataset\n",
    "\n",
    "dicPosMar = {}\n",
    "for i in range(len(listPosMar)):\n",
    "    if listPosMar[i][0] in dicPosMar.keys():\n",
    "        dicPosMar[listPosMar[i][0]] += listPosMar[i][1]\n",
    "    else:\n",
    "        dicPosMar[listPosMar[i][0]] = listPosMar[i][1]\n",
    "dicPosMar"
   ]
  },
  {
   "cell_type": "code",
   "execution_count": 25,
   "metadata": {},
   "outputs": [
    {
     "data": {
      "text/plain": [
       "{'Right Winger': 52,\n",
       " 'Centre-Forward': 64,\n",
       " 'Attacking Midfield': 39,\n",
       " 'Second Striker': 8,\n",
       " 'Central Midfield': 86,\n",
       " 'Left Winger': 50,\n",
       " 'Centre-Back': 79,\n",
       " 'Goalkeeper': 24,\n",
       " 'Defensive Midfield': 38,\n",
       " 'Left-Back': 28,\n",
       " 'Right-Back': 27,\n",
       " 'Right Midfield': 2,\n",
       " 'Left Midfield': 3}"
      ]
     },
     "execution_count": 25,
     "metadata": {},
     "output_type": "execute_result"
    }
   ],
   "source": [
    "#Creating a dictionary to store the total number of people in the dataset per position\n",
    "\n",
    "numPerPos = {}\n",
    "for i in range(len(listPosMar)):\n",
    "    numPerPos.setdefault(listPosMar[i][0], 0)\n",
    "    numPerPos[listPosMar[i][0]] += 1\n",
    "numPerPos"
   ]
  },
  {
   "cell_type": "code",
   "execution_count": 26,
   "metadata": {},
   "outputs": [
    {
     "data": {
      "text/plain": [
       "{'Right Winger': 41634615.38,\n",
       " 'Centre-Forward': 39203125.0,\n",
       " 'Attacking Midfield': 39948717.95,\n",
       " 'Second Striker': 43625000.0,\n",
       " 'Central Midfield': 33348837.21,\n",
       " 'Left Winger': 41140000.0,\n",
       " 'Centre-Back': 33620253.16,\n",
       " 'Goalkeeper': 36583333.33,\n",
       " 'Defensive Midfield': 31947368.42,\n",
       " 'Left-Back': 30464285.71,\n",
       " 'Right-Back': 31666666.67,\n",
       " 'Right Midfield': 37500000.0,\n",
       " 'Left Midfield': 23666666.67}"
      ]
     },
     "execution_count": 26,
     "metadata": {},
     "output_type": "execute_result"
    }
   ],
   "source": [
    "#Creating a dictionary to store the average market value per position\n",
    "\n",
    "aveValPerPos = {}\n",
    "posList = list(numPerPos.keys())\n",
    "for i in range(len(posList)):\n",
    "    aveValPerPos.setdefault(posList[i], (round((dicPosMar[posList[i]]/numPerPos[posList[i]]), 2)))\n",
    "aveValPerPos"
   ]
  },
  {
   "cell_type": "code",
   "execution_count": 27,
   "metadata": {},
   "outputs": [],
   "source": [
    "#Preparing two lists containing the Positons and the corresponding Average market value per position for visualization\n",
    "\n",
    "aveValPerPosList = []\n",
    "for i in range(len(list(aveValPerPos.keys()))):\n",
    "    tempList = []\n",
    "    tempList.append(list(aveValPerPos.keys())[i])\n",
    "    tempList.append(list(aveValPerPos.values())[i])\n",
    "    aveValPerPosList.append(tempList)\n",
    "x = []\n",
    "y = []\n",
    "for i in range(len(aveValPerPosList)):\n",
    "    x.append(aveValPerPosList[i][0])\n",
    "    y.append(aveValPerPosList[i][1])"
   ]
  },
  {
   "cell_type": "code",
   "execution_count": 28,
   "metadata": {},
   "outputs": [
    {
     "data": {
      "image/png": "[encoded data removed]",
      "text/plain": [
       "<Figure size 432x288 with 1 Axes>"
      ]
     },
     "metadata": {
      "needs_background": "light"
     },
     "output_type": "display_data"
    }
   ],
   "source": [
    "#Plotting a bar chart to show the relationship between the Position and the corresponding Average Market Value\n",
    "\n",
    "plt.barh(x,y, color = 'blue')\n",
    "plt.xticks(rotation = 70)\n",
    "plt.ylabel('Position')\n",
    "plt.xlabel('Average market value')\n",
    "plt.title('Average market value per position')\n",
    "plt.show()"
   ]
  },
  {
   "cell_type": "markdown",
   "metadata": {},
   "source": [
    "\n",
    "\n",
    "It's hard to tell from the visualization above if their is actually any relational order in the Position variable. Since most soccer positions can be divided up into three major categories: **Strikers, midfielders, and defenders** , I classified the Position into the three categories to further investigate a relational order.\n",
    "\n"
   ]
  },
  {
   "cell_type": "code",
   "execution_count": 29,
   "metadata": {},
   "outputs": [
    {
     "data": {
      "text/html": [
       "<div>\n",
       "<style scoped>\n",
       "    .dataframe tbody tr th:only-of-type {\n",
       "        vertical-align: middle;\n",
       "    }\n",
       "\n",
       "    .dataframe tbody tr th {\n",
       "        vertical-align: top;\n",
       "    }\n",
       "\n",
       "    .dataframe thead th {\n",
       "        text-align: right;\n",
       "    }\n",
       "</style>\n",
       "<table border=\"1\" class=\"dataframe\">\n",
       "  <thead>\n",
       "    <tr style=\"text-align: right;\">\n",
       "      <th></th>\n",
       "      <th>Position</th>\n",
       "      <th>Age</th>\n",
       "      <th>Market Value</th>\n",
       "      <th>Matches</th>\n",
       "      <th>Goals</th>\n",
       "      <th>Own Goals</th>\n",
       "      <th>Assists</th>\n",
       "      <th>Yellow cards</th>\n",
       "      <th>Second Yellow card</th>\n",
       "      <th>Red Cards</th>\n",
       "      <th>Substitued on</th>\n",
       "      <th>Substituted off</th>\n",
       "      <th>newPosition</th>\n",
       "    </tr>\n",
       "  </thead>\n",
       "  <tbody>\n",
       "    <tr>\n",
       "      <th>497</th>\n",
       "      <td>Left Winger</td>\n",
       "      <td>24</td>\n",
       "      <td>16000000</td>\n",
       "      <td>31</td>\n",
       "      <td>4</td>\n",
       "      <td>0</td>\n",
       "      <td>4</td>\n",
       "      <td>5</td>\n",
       "      <td>0</td>\n",
       "      <td>0</td>\n",
       "      <td>11</td>\n",
       "      <td>12</td>\n",
       "      <td>Striker</td>\n",
       "    </tr>\n",
       "    <tr>\n",
       "      <th>498</th>\n",
       "      <td>Goalkeeper</td>\n",
       "      <td>21</td>\n",
       "      <td>16000000</td>\n",
       "      <td>6</td>\n",
       "      <td>0</td>\n",
       "      <td>0</td>\n",
       "      <td>0</td>\n",
       "      <td>0</td>\n",
       "      <td>0</td>\n",
       "      <td>0</td>\n",
       "      <td>0</td>\n",
       "      <td>0</td>\n",
       "      <td>Defender</td>\n",
       "    </tr>\n",
       "    <tr>\n",
       "      <th>499</th>\n",
       "      <td>Right-Back</td>\n",
       "      <td>22</td>\n",
       "      <td>16000000</td>\n",
       "      <td>26</td>\n",
       "      <td>2</td>\n",
       "      <td>0</td>\n",
       "      <td>2</td>\n",
       "      <td>1</td>\n",
       "      <td>0</td>\n",
       "      <td>0</td>\n",
       "      <td>7</td>\n",
       "      <td>2</td>\n",
       "      <td>Defender</td>\n",
       "    </tr>\n",
       "  </tbody>\n",
       "</table>\n",
       "</div>"
      ],
      "text/plain": [
       "        Position  Age  Market Value  Matches  Goals  Own Goals  Assists  \\\n",
       "497  Left Winger   24      16000000       31      4          0        4   \n",
       "498   Goalkeeper   21      16000000        6      0          0        0   \n",
       "499   Right-Back   22      16000000       26      2          0        2   \n",
       "\n",
       "     Yellow cards  Second Yellow card  Red Cards  Substitued on  \\\n",
       "497             5                   0          0             11   \n",
       "498             0                   0          0              0   \n",
       "499             1                   0          0              7   \n",
       "\n",
       "     Substituted off newPosition  \n",
       "497               12     Striker  \n",
       "498                0    Defender  \n",
       "499                2    Defender  "
      ]
     },
     "execution_count": 29,
     "metadata": {},
     "output_type": "execute_result"
    }
   ],
   "source": [
    "#Converting the positions into the main categories: Striker, Midfielder, Defender\n",
    "\n",
    "footballData['newPosition'] = footballData.Position.map({'Right Winger':'Striker', 'Centre-Forward':'Striker',\\\n",
    "                                                         'Attacking Midfield':'Midfielder', 'Second Striker':'Striker',\\\n",
    "                                                         'Central Midfield':'Midfielder', 'Left Winger':'Striker',\\\n",
    "                                                         'Centre-Back':'Defender', 'Goalkeeper':'Defender',  \\\n",
    "                                                         'Defensive Midfield':'Midfielder', 'Left-Back':'Defender',\\\n",
    "                                                         'Right-Back':'Defender', 'Right Midfield':'Midfielder',\\\n",
    "                                                         'Left Midfield':'Midfielder'})\n",
    "footballData.tail(3)"
   ]
  },
  {
   "cell_type": "code",
   "execution_count": 30,
   "metadata": {},
   "outputs": [
    {
     "data": {
      "text/plain": [
       "[['Striker', 200000000], ['Striker', 160000000], ['Striker', 150000000]]"
      ]
     },
     "execution_count": 30,
     "metadata": {},
     "output_type": "execute_result"
    }
   ],
   "source": [
    "#Creating a list of list containing the new Positions and the corresponding Market Value\n",
    "\n",
    "newPosition = footballData['newPosition']\n",
    "marketValue = footballData['Market Value']\n",
    "newPosMar = pd.concat((newPosition, marketValue), axis=1, ignore_index= True)\n",
    "newPosMar = newPosMar.to_dict('split')\n",
    "newListPosMar = newPosMar['data']\n",
    "newListPosMar[:3]"
   ]
  },
  {
   "cell_type": "code",
   "execution_count": 31,
   "metadata": {},
   "outputs": [
    {
     "data": {
      "text/plain": [
       "{'Striker': 7080000000, 'Midfielder': 5786000000, 'Defender': 5242000000}"
      ]
     },
     "execution_count": 31,
     "metadata": {},
     "output_type": "execute_result"
    }
   ],
   "source": [
    "#Creating a dictionary from the list of list above to store the TOTAL market value for each unique new position in the dataset\n",
    "\n",
    "newDicPosMar = {}\n",
    "for i in range(len(newListPosMar)):\n",
    "    if newListPosMar[i][0] in newDicPosMar.keys():\n",
    "        newDicPosMar[newListPosMar[i][0]] += newListPosMar[i][1]\n",
    "    else:\n",
    "        newDicPosMar[newListPosMar[i][0]] = newListPosMar[i][1]\n",
    "newDicPosMar"
   ]
  },
  {
   "cell_type": "code",
   "execution_count": 32,
   "metadata": {},
   "outputs": [
    {
     "data": {
      "text/plain": [
       "{'Striker': 174, 'Midfielder': 168, 'Defender': 158}"
      ]
     },
     "execution_count": 32,
     "metadata": {},
     "output_type": "execute_result"
    }
   ],
   "source": [
    "#Creating a dictionary to store the total number of people in the dataset per new position\n",
    "\n",
    "newNumPerPos = {}\n",
    "for i in range(len(newListPosMar)):\n",
    "    newNumPerPos.setdefault(newListPosMar[i][0], 0)\n",
    "    newNumPerPos[newListPosMar[i][0]] += 1\n",
    "newNumPerPos"
   ]
  },
  {
   "cell_type": "code",
   "execution_count": 33,
   "metadata": {},
   "outputs": [
    {
     "data": {
      "text/plain": [
       "{'Striker': 40689655.17, 'Midfielder': 34440476.19, 'Defender': 33177215.19}"
      ]
     },
     "execution_count": 33,
     "metadata": {},
     "output_type": "execute_result"
    }
   ],
   "source": [
    "#Creating a dictionary to store the average market value per new position\n",
    "\n",
    "newAveValPerPos = {}\n",
    "newPosList = list(newDicPosMar.keys())\n",
    "for i in range(len(list(newPosList))):\n",
    "    newAveValPerPos.setdefault(newPosList[i], (round((newDicPosMar[newPosList[i]]/newNumPerPos[newPosList[i]]), 2)))\n",
    "newAveValPerPos"
   ]
  },
  {
   "cell_type": "code",
   "execution_count": 34,
   "metadata": {},
   "outputs": [
    {
     "data": {
      "text/plain": [
       "(['Striker', 'Midfielder', 'Defender'],\n",
       " [40689655.17, 34440476.19, 33177215.19])"
      ]
     },
     "execution_count": 34,
     "metadata": {},
     "output_type": "execute_result"
    }
   ],
   "source": [
    "#Preparing two lists containing the Positons and the corresponding Average market value per new position for visualization\n",
    "\n",
    "newAveValPerPosList = []\n",
    "for i in range(len(list(newAveValPerPos.keys()))):\n",
    "    newTempList = []\n",
    "    newTempList.append(list(newAveValPerPos.keys())[i])\n",
    "    newTempList.append(list(newAveValPerPos.values())[i])\n",
    "    newAveValPerPosList.append(newTempList)\n",
    "newX = []\n",
    "newY = []\n",
    "for i in range(len(newAveValPerPosList)):\n",
    "    newX.append(newAveValPerPosList[i][0])\n",
    "    newY.append(newAveValPerPosList[i][1])\n",
    "newX, newY"
   ]
  },
  {
   "cell_type": "code",
   "execution_count": 35,
   "metadata": {},
   "outputs": [
    {
     "data": {
      "image/png": "[encoded data removed]",
      "text/plain": [
       "<Figure size 432x288 with 1 Axes>"
      ]
     },
     "metadata": {
      "needs_background": "light"
     },
     "output_type": "display_data"
    }
   ],
   "source": [
    "#Plotting a bar chart to show the relationship between the Position and the corresponding Average Market Value\n",
    "\n",
    "plt.barh(newX,newY, color = 'blue')\n",
    "plt.xticks(rotation = 45)\n",
    "plt.ylabel('Position')\n",
    "plt.xlabel('Average market value')\n",
    "plt.title('Average market value per position')\n",
    "plt.show()"
   ]
  },
  {
   "cell_type": "markdown",
   "metadata": {},
   "source": [
    "On the average, Strikers are usually worth more than Midfielders and Midfielders are usually worth more than the Defeneders. This is as expected. Hence, I believe their is a relational order and therefore I would assign the highest priority to Strikers followed by Midfielders and then Defenders."
   ]
  },
  {
   "cell_type": "code",
   "execution_count": 36,
   "metadata": {},
   "outputs": [
    {
     "data": {
      "text/html": [
       "<div>\n",
       "<style scoped>\n",
       "    .dataframe tbody tr th:only-of-type {\n",
       "        vertical-align: middle;\n",
       "    }\n",
       "\n",
       "    .dataframe tbody tr th {\n",
       "        vertical-align: top;\n",
       "    }\n",
       "\n",
       "    .dataframe thead th {\n",
       "        text-align: right;\n",
       "    }\n",
       "</style>\n",
       "<table border=\"1\" class=\"dataframe\">\n",
       "  <thead>\n",
       "    <tr style=\"text-align: right;\">\n",
       "      <th></th>\n",
       "      <th>Position</th>\n",
       "      <th>Age</th>\n",
       "      <th>Market Value</th>\n",
       "      <th>Matches</th>\n",
       "      <th>Goals</th>\n",
       "      <th>Own Goals</th>\n",
       "      <th>Assists</th>\n",
       "      <th>Yellow cards</th>\n",
       "      <th>Second Yellow card</th>\n",
       "      <th>Red Cards</th>\n",
       "      <th>Substitued on</th>\n",
       "      <th>Substituted off</th>\n",
       "      <th>newPosition</th>\n",
       "      <th>newPosEncoded</th>\n",
       "    </tr>\n",
       "  </thead>\n",
       "  <tbody>\n",
       "    <tr>\n",
       "      <th>0</th>\n",
       "      <td>Right Winger</td>\n",
       "      <td>20</td>\n",
       "      <td>200000000</td>\n",
       "      <td>30</td>\n",
       "      <td>24</td>\n",
       "      <td>0</td>\n",
       "      <td>13</td>\n",
       "      <td>4</td>\n",
       "      <td>0</td>\n",
       "      <td>1</td>\n",
       "      <td>5</td>\n",
       "      <td>5</td>\n",
       "      <td>Striker</td>\n",
       "      <td>2</td>\n",
       "    </tr>\n",
       "    <tr>\n",
       "      <th>1</th>\n",
       "      <td>Right Winger</td>\n",
       "      <td>31</td>\n",
       "      <td>160000000</td>\n",
       "      <td>26</td>\n",
       "      <td>27</td>\n",
       "      <td>0</td>\n",
       "      <td>17</td>\n",
       "      <td>1</td>\n",
       "      <td>0</td>\n",
       "      <td>0</td>\n",
       "      <td>3</td>\n",
       "      <td>1</td>\n",
       "      <td>Striker</td>\n",
       "      <td>2</td>\n",
       "    </tr>\n",
       "    <tr>\n",
       "      <th>2</th>\n",
       "      <td>Centre-Forward</td>\n",
       "      <td>25</td>\n",
       "      <td>150000000</td>\n",
       "      <td>36</td>\n",
       "      <td>21</td>\n",
       "      <td>0</td>\n",
       "      <td>9</td>\n",
       "      <td>5</td>\n",
       "      <td>0</td>\n",
       "      <td>0</td>\n",
       "      <td>4</td>\n",
       "      <td>5</td>\n",
       "      <td>Striker</td>\n",
       "      <td>2</td>\n",
       "    </tr>\n",
       "    <tr>\n",
       "      <th>3</th>\n",
       "      <td>Attacking Midfield</td>\n",
       "      <td>27</td>\n",
       "      <td>150000000</td>\n",
       "      <td>16</td>\n",
       "      <td>4</td>\n",
       "      <td>0</td>\n",
       "      <td>4</td>\n",
       "      <td>2</td>\n",
       "      <td>0</td>\n",
       "      <td>0</td>\n",
       "      <td>6</td>\n",
       "      <td>9</td>\n",
       "      <td>Midfielder</td>\n",
       "      <td>1</td>\n",
       "    </tr>\n",
       "    <tr>\n",
       "      <th>4</th>\n",
       "      <td>Attacking Midfield</td>\n",
       "      <td>26</td>\n",
       "      <td>140000000</td>\n",
       "      <td>34</td>\n",
       "      <td>9</td>\n",
       "      <td>0</td>\n",
       "      <td>5</td>\n",
       "      <td>1</td>\n",
       "      <td>0</td>\n",
       "      <td>0</td>\n",
       "      <td>9</td>\n",
       "      <td>14</td>\n",
       "      <td>Midfielder</td>\n",
       "      <td>1</td>\n",
       "    </tr>\n",
       "  </tbody>\n",
       "</table>\n",
       "</div>"
      ],
      "text/plain": [
       "             Position  Age  Market Value  Matches  Goals  Own Goals  Assists  \\\n",
       "0        Right Winger   20     200000000       30     24          0       13   \n",
       "1        Right Winger   31     160000000       26     27          0       17   \n",
       "2      Centre-Forward   25     150000000       36     21          0        9   \n",
       "3  Attacking Midfield   27     150000000       16      4          0        4   \n",
       "4  Attacking Midfield   26     140000000       34      9          0        5   \n",
       "\n",
       "   Yellow cards  Second Yellow card  Red Cards  Substitued on  \\\n",
       "0             4                   0          1              5   \n",
       "1             1                   0          0              3   \n",
       "2             5                   0          0              4   \n",
       "3             2                   0          0              6   \n",
       "4             1                   0          0              9   \n",
       "\n",
       "   Substituted off newPosition  newPosEncoded  \n",
       "0                5     Striker              2  \n",
       "1                1     Striker              2  \n",
       "2                5     Striker              2  \n",
       "3                9  Midfielder              1  \n",
       "4               14  Midfielder              1  "
      ]
     },
     "execution_count": 36,
     "metadata": {},
     "output_type": "execute_result"
    }
   ],
   "source": [
    "#Encoding the newPosition column with Strikers assisgned 2, Midfielders assigned 1 and Defenders assigned 0\n",
    "\n",
    "'''footballData['newPosEncoded'] = footballData.newPosition.map({'Striker':2, 'Midfielder':1, 'Defender':0})'''\n",
    "\n",
    "le = LabelEncoder()\n",
    "footballData['newPosEncoded'] = le.fit_transform(footballData['newPosition'])\n",
    "footballData.head()"
   ]
  },
  {
   "cell_type": "markdown",
   "metadata": {},
   "source": [
    "## Exploratory Data Analysis"
   ]
  },
  {
   "cell_type": "code",
   "execution_count": 37,
   "metadata": {},
   "outputs": [
    {
     "data": {
      "text/html": [
       "<div>\n",
       "<style scoped>\n",
       "    .dataframe tbody tr th:only-of-type {\n",
       "        vertical-align: middle;\n",
       "    }\n",
       "\n",
       "    .dataframe tbody tr th {\n",
       "        vertical-align: top;\n",
       "    }\n",
       "\n",
       "    .dataframe thead th {\n",
       "        text-align: right;\n",
       "    }\n",
       "</style>\n",
       "<table border=\"1\" class=\"dataframe\">\n",
       "  <thead>\n",
       "    <tr style=\"text-align: right;\">\n",
       "      <th></th>\n",
       "      <th>Age</th>\n",
       "      <th>Market Value</th>\n",
       "      <th>Matches</th>\n",
       "      <th>Goals</th>\n",
       "      <th>Own Goals</th>\n",
       "      <th>Assists</th>\n",
       "      <th>Yellow cards</th>\n",
       "      <th>Second Yellow card</th>\n",
       "      <th>Red Cards</th>\n",
       "      <th>Substitued on</th>\n",
       "      <th>Substituted off</th>\n",
       "      <th>newPosEncoded</th>\n",
       "    </tr>\n",
       "  </thead>\n",
       "  <tbody>\n",
       "    <tr>\n",
       "      <th>0</th>\n",
       "      <td>20</td>\n",
       "      <td>200000000</td>\n",
       "      <td>30</td>\n",
       "      <td>24</td>\n",
       "      <td>0</td>\n",
       "      <td>13</td>\n",
       "      <td>4</td>\n",
       "      <td>0</td>\n",
       "      <td>1</td>\n",
       "      <td>5</td>\n",
       "      <td>5</td>\n",
       "      <td>2</td>\n",
       "    </tr>\n",
       "    <tr>\n",
       "      <th>1</th>\n",
       "      <td>31</td>\n",
       "      <td>160000000</td>\n",
       "      <td>26</td>\n",
       "      <td>27</td>\n",
       "      <td>0</td>\n",
       "      <td>17</td>\n",
       "      <td>1</td>\n",
       "      <td>0</td>\n",
       "      <td>0</td>\n",
       "      <td>3</td>\n",
       "      <td>1</td>\n",
       "      <td>2</td>\n",
       "    </tr>\n",
       "    <tr>\n",
       "      <th>2</th>\n",
       "      <td>25</td>\n",
       "      <td>150000000</td>\n",
       "      <td>36</td>\n",
       "      <td>21</td>\n",
       "      <td>0</td>\n",
       "      <td>9</td>\n",
       "      <td>5</td>\n",
       "      <td>0</td>\n",
       "      <td>0</td>\n",
       "      <td>4</td>\n",
       "      <td>5</td>\n",
       "      <td>2</td>\n",
       "    </tr>\n",
       "  </tbody>\n",
       "</table>\n",
       "</div>"
      ],
      "text/plain": [
       "   Age  Market Value  Matches  Goals  Own Goals  Assists  Yellow cards  \\\n",
       "0   20     200000000       30     24          0       13             4   \n",
       "1   31     160000000       26     27          0       17             1   \n",
       "2   25     150000000       36     21          0        9             5   \n",
       "\n",
       "   Second Yellow card  Red Cards  Substitued on  Substituted off  \\\n",
       "0                   0          1              5                5   \n",
       "1                   0          0              3                1   \n",
       "2                   0          0              4                5   \n",
       "\n",
       "   newPosEncoded  \n",
       "0              2  \n",
       "1              2  \n",
       "2              2  "
      ]
     },
     "execution_count": 37,
     "metadata": {},
     "output_type": "execute_result"
    }
   ],
   "source": [
    "#Selecting only the numeric columns in the dataset\n",
    "numFootballData = footballData.select_dtypes(include = ['number'])\n",
    "numFootballData.head(3)"
   ]
  },
  {
   "cell_type": "code",
   "execution_count": 38,
   "metadata": {},
   "outputs": [
    {
     "data": {
      "image/png": "[encoded data removed]",
      "text/plain": [
       "<Figure size 864x720 with 2 Axes>"
      ]
     },
     "metadata": {
      "needs_background": "light"
     },
     "output_type": "display_data"
    }
   ],
   "source": [
    "f, ax = plt.subplots(figsize=(12,10))\n",
    "plt.title('Pearson Correlation of Data Features')\n",
    "sns.heatmap(numFootballData.iloc[:,:].astype(float).corr(), linewidths=0.25, vmax=1.0, square=True,\n",
    "           cmap=sns.diverging_palette(220, 10, as_cmap=True), ax=ax, linecolor='grey', annot=True);"
   ]
  },
  {
   "cell_type": "code",
   "execution_count": 40,
   "metadata": {},
   "outputs": [
    {
     "data": {
      "text/plain": [
       "Text(0, 0.5, 'Market Value')"
      ]
     },
     "execution_count": 40,
     "metadata": {},
     "output_type": "execute_result"
    },
    {
     "data": {
      "image/png": "[encoded data removed]",
      "text/plain": [
       "<Figure size 864x432 with 1 Axes>"
      ]
     },
     "metadata": {
      "needs_background": "light"
     },
     "output_type": "display_data"
    }
   ],
   "source": [
    "footballData.boxplot(column = 'Market Value', by = 'newPosition', figsize = (12,6))\n",
    "plt.ylabel('Market Value')"
   ]
  },
  {
   "cell_type": "code",
   "execution_count": 41,
   "metadata": {},
   "outputs": [
    {
     "data": {
      "text/plain": [
       "Text(0, 0.5, 'Goals')"
      ]
     },
     "execution_count": 41,
     "metadata": {},
     "output_type": "execute_result"
    },
    {
     "data": {
      "image/png": "[encoded data removed]",
      "text/plain": [
       "<Figure size 864x432 with 1 Axes>"
      ]
     },
     "metadata": {
      "needs_background": "light"
     },
     "output_type": "display_data"
    }
   ],
   "source": [
    "footballData.boxplot(column = 'Goals', by = 'newPosition', figsize = (12,6))\n",
    "plt.ylabel('Goals')"
   ]
  },
  {
   "cell_type": "code",
   "execution_count": 42,
   "metadata": {},
   "outputs": [
    {
     "data": {
      "text/plain": [
       "Text(0, 0.5, 'Assists')"
      ]
     },
     "execution_count": 42,
     "metadata": {},
     "output_type": "execute_result"
    },
    {
     "data": {
      "image/png": "[encoded data removed]",
      "text/plain": [
       "<Figure size 864x432 with 1 Axes>"
      ]
     },
     "metadata": {
      "needs_background": "light"
     },
     "output_type": "display_data"
    }
   ],
   "source": [
    "footballData.boxplot(column = 'Assists', by = 'newPosition', figsize = (12,6))\n",
    "plt.ylabel('Assists')"
   ]
  },
  {
   "cell_type": "code",
   "execution_count": 43,
   "metadata": {},
   "outputs": [
    {
     "data": {
      "text/plain": [
       "Text(0, 0.5, 'Matches')"
      ]
     },
     "execution_count": 43,
     "metadata": {},
     "output_type": "execute_result"
    },
    {
     "data": {
      "image/png": "[encoded data removed]",
      "text/plain": [
       "<Figure size 864x432 with 1 Axes>"
      ]
     },
     "metadata": {
      "needs_background": "light"
     },
     "output_type": "display_data"
    }
   ],
   "source": [
    "footballData.boxplot(column = 'Matches', by = 'newPosition', figsize = (12,6))\n",
    "plt.ylabel('Matches')"
   ]
  },
  {
   "cell_type": "code",
   "execution_count": 44,
   "metadata": {},
   "outputs": [
    {
     "data": {
      "text/plain": [
       "Text(0, 0.5, 'Yellow cards')"
      ]
     },
     "execution_count": 44,
     "metadata": {},
     "output_type": "execute_result"
    },
    {
     "data": {
      "image/png": "[encoded data removed]",
      "text/plain": [
       "<Figure size 864x432 with 1 Axes>"
      ]
     },
     "metadata": {
      "needs_background": "light"
     },
     "output_type": "display_data"
    }
   ],
   "source": [
    "footballData.boxplot(column = 'Yellow cards', by = 'newPosition', figsize = (12,6))\n",
    "plt.ylabel('Yellow cards')"
   ]
  },
  {
   "cell_type": "code",
   "execution_count": 45,
   "metadata": {},
   "outputs": [
    {
     "data": {
      "text/html": [
       "<div>\n",
       "<style scoped>\n",
       "    .dataframe tbody tr th:only-of-type {\n",
       "        vertical-align: middle;\n",
       "    }\n",
       "\n",
       "    .dataframe tbody tr th {\n",
       "        vertical-align: top;\n",
       "    }\n",
       "\n",
       "    .dataframe thead th {\n",
       "        text-align: right;\n",
       "    }\n",
       "</style>\n",
       "<table border=\"1\" class=\"dataframe\">\n",
       "  <thead>\n",
       "    <tr style=\"text-align: right;\">\n",
       "      <th></th>\n",
       "      <th>Age</th>\n",
       "      <th>Market Value</th>\n",
       "      <th>Matches</th>\n",
       "      <th>Goals</th>\n",
       "      <th>Own Goals</th>\n",
       "      <th>Assists</th>\n",
       "      <th>Yellow cards</th>\n",
       "      <th>Second Yellow card</th>\n",
       "      <th>Red Cards</th>\n",
       "      <th>Substitued on</th>\n",
       "      <th>Substituted off</th>\n",
       "      <th>newPosEncoded</th>\n",
       "    </tr>\n",
       "  </thead>\n",
       "  <tbody>\n",
       "    <tr>\n",
       "      <th>count</th>\n",
       "      <td>500.00</td>\n",
       "      <td>5.000000e+02</td>\n",
       "      <td>500.0</td>\n",
       "      <td>500.00</td>\n",
       "      <td>500.00</td>\n",
       "      <td>500.00</td>\n",
       "      <td>500.00</td>\n",
       "      <td>500.00</td>\n",
       "      <td>500.00</td>\n",
       "      <td>500.00</td>\n",
       "      <td>500.00</td>\n",
       "      <td>500.00</td>\n",
       "    </tr>\n",
       "    <tr>\n",
       "      <th>mean</th>\n",
       "      <td>25.28</td>\n",
       "      <td>3.621600e+07</td>\n",
       "      <td>24.6</td>\n",
       "      <td>4.23</td>\n",
       "      <td>0.04</td>\n",
       "      <td>3.20</td>\n",
       "      <td>3.19</td>\n",
       "      <td>0.06</td>\n",
       "      <td>0.06</td>\n",
       "      <td>4.04</td>\n",
       "      <td>5.55</td>\n",
       "      <td>1.03</td>\n",
       "    </tr>\n",
       "    <tr>\n",
       "      <th>std</th>\n",
       "      <td>3.25</td>\n",
       "      <td>2.502458e+07</td>\n",
       "      <td>7.9</td>\n",
       "      <td>5.09</td>\n",
       "      <td>0.20</td>\n",
       "      <td>3.27</td>\n",
       "      <td>2.48</td>\n",
       "      <td>0.26</td>\n",
       "      <td>0.24</td>\n",
       "      <td>3.90</td>\n",
       "      <td>4.54</td>\n",
       "      <td>0.82</td>\n",
       "    </tr>\n",
       "    <tr>\n",
       "      <th>min</th>\n",
       "      <td>18.00</td>\n",
       "      <td>1.600000e+07</td>\n",
       "      <td>0.0</td>\n",
       "      <td>0.00</td>\n",
       "      <td>0.00</td>\n",
       "      <td>0.00</td>\n",
       "      <td>0.00</td>\n",
       "      <td>0.00</td>\n",
       "      <td>0.00</td>\n",
       "      <td>0.00</td>\n",
       "      <td>0.00</td>\n",
       "      <td>0.00</td>\n",
       "    </tr>\n",
       "    <tr>\n",
       "      <th>25%</th>\n",
       "      <td>23.00</td>\n",
       "      <td>2.000000e+07</td>\n",
       "      <td>21.0</td>\n",
       "      <td>1.00</td>\n",
       "      <td>0.00</td>\n",
       "      <td>1.00</td>\n",
       "      <td>1.00</td>\n",
       "      <td>0.00</td>\n",
       "      <td>0.00</td>\n",
       "      <td>1.00</td>\n",
       "      <td>2.00</td>\n",
       "      <td>0.00</td>\n",
       "    </tr>\n",
       "    <tr>\n",
       "      <th>50%</th>\n",
       "      <td>25.00</td>\n",
       "      <td>2.800000e+07</td>\n",
       "      <td>26.0</td>\n",
       "      <td>2.00</td>\n",
       "      <td>0.00</td>\n",
       "      <td>2.00</td>\n",
       "      <td>3.00</td>\n",
       "      <td>0.00</td>\n",
       "      <td>0.00</td>\n",
       "      <td>3.00</td>\n",
       "      <td>5.00</td>\n",
       "      <td>1.00</td>\n",
       "    </tr>\n",
       "    <tr>\n",
       "      <th>75%</th>\n",
       "      <td>28.00</td>\n",
       "      <td>4.000000e+07</td>\n",
       "      <td>30.0</td>\n",
       "      <td>6.00</td>\n",
       "      <td>0.00</td>\n",
       "      <td>5.00</td>\n",
       "      <td>5.00</td>\n",
       "      <td>0.00</td>\n",
       "      <td>0.00</td>\n",
       "      <td>6.00</td>\n",
       "      <td>8.00</td>\n",
       "      <td>2.00</td>\n",
       "    </tr>\n",
       "    <tr>\n",
       "      <th>max</th>\n",
       "      <td>33.00</td>\n",
       "      <td>2.000000e+08</td>\n",
       "      <td>43.0</td>\n",
       "      <td>27.00</td>\n",
       "      <td>1.00</td>\n",
       "      <td>19.00</td>\n",
       "      <td>12.00</td>\n",
       "      <td>2.00</td>\n",
       "      <td>1.00</td>\n",
       "      <td>17.00</td>\n",
       "      <td>26.00</td>\n",
       "      <td>2.00</td>\n",
       "    </tr>\n",
       "  </tbody>\n",
       "</table>\n",
       "</div>"
      ],
      "text/plain": [
       "          Age  Market Value  Matches   Goals  Own Goals  Assists  \\\n",
       "count  500.00  5.000000e+02    500.0  500.00     500.00   500.00   \n",
       "mean    25.28  3.621600e+07     24.6    4.23       0.04     3.20   \n",
       "std      3.25  2.502458e+07      7.9    5.09       0.20     3.27   \n",
       "min     18.00  1.600000e+07      0.0    0.00       0.00     0.00   \n",
       "25%     23.00  2.000000e+07     21.0    1.00       0.00     1.00   \n",
       "50%     25.00  2.800000e+07     26.0    2.00       0.00     2.00   \n",
       "75%     28.00  4.000000e+07     30.0    6.00       0.00     5.00   \n",
       "max     33.00  2.000000e+08     43.0   27.00       1.00    19.00   \n",
       "\n",
       "       Yellow cards  Second Yellow card  Red Cards  Substitued on  \\\n",
       "count        500.00              500.00     500.00         500.00   \n",
       "mean           3.19                0.06       0.06           4.04   \n",
       "std            2.48                0.26       0.24           3.90   \n",
       "min            0.00                0.00       0.00           0.00   \n",
       "25%            1.00                0.00       0.00           1.00   \n",
       "50%            3.00                0.00       0.00           3.00   \n",
       "75%            5.00                0.00       0.00           6.00   \n",
       "max           12.00                2.00       1.00          17.00   \n",
       "\n",
       "       Substituted off  newPosEncoded  \n",
       "count           500.00         500.00  \n",
       "mean              5.55           1.03  \n",
       "std               4.54           0.82  \n",
       "min               0.00           0.00  \n",
       "25%               2.00           0.00  \n",
       "50%               5.00           1.00  \n",
       "75%               8.00           2.00  \n",
       "max              26.00           2.00  "
      ]
     },
     "execution_count": 45,
     "metadata": {},
     "output_type": "execute_result"
    }
   ],
   "source": [
    "footballData.describe().round(2)"
   ]
  },
  {
   "cell_type": "code",
   "execution_count": 46,
   "metadata": {},
   "outputs": [],
   "source": [
    "#Splitting the Market value into quartiles - Converting into a categorical variable\n",
    "for i in range(len(footballData)):\n",
    "    if footballData.loc[i,'Market Value'] < 20000000:\n",
    "        footballData.loc[i,'Market Value category'] = 'Low Earners'\n",
    "    elif footballData.loc[i, 'Market Value'] >= 20000000 and footballData.loc[i, 'Market Value'] < 28000000:\n",
    "        footballData.loc[i, 'Market Value category'] = 'Moderate Earners'\n",
    "    elif footballData.loc[i, 'Market Value'] >= 28000000 and footballData.loc[i, 'Market Value'] < 40000000:\n",
    "        footballData.loc[i, 'Market Value category'] = 'High Earners'\n",
    "    elif footballData.loc[i, 'Market Value'] >= 40000000 and footballData.loc[i, 'Market Value'] < 200000000:\n",
    "        footballData.loc[i, 'Market Value category'] = 'Very High Earners'"
   ]
  },
  {
   "cell_type": "code",
   "execution_count": 47,
   "metadata": {},
   "outputs": [
    {
     "data": {
      "text/html": [
       "<div>\n",
       "<style scoped>\n",
       "    .dataframe tbody tr th:only-of-type {\n",
       "        vertical-align: middle;\n",
       "    }\n",
       "\n",
       "    .dataframe tbody tr th {\n",
       "        vertical-align: top;\n",
       "    }\n",
       "\n",
       "    .dataframe thead th {\n",
       "        text-align: right;\n",
       "    }\n",
       "</style>\n",
       "<table border=\"1\" class=\"dataframe\">\n",
       "  <thead>\n",
       "    <tr style=\"text-align: right;\">\n",
       "      <th></th>\n",
       "      <th>Position</th>\n",
       "      <th>Age</th>\n",
       "      <th>Market Value</th>\n",
       "      <th>Matches</th>\n",
       "      <th>Goals</th>\n",
       "      <th>Own Goals</th>\n",
       "      <th>Assists</th>\n",
       "      <th>Yellow cards</th>\n",
       "      <th>Second Yellow card</th>\n",
       "      <th>Red Cards</th>\n",
       "      <th>Substitued on</th>\n",
       "      <th>Substituted off</th>\n",
       "      <th>newPosition</th>\n",
       "      <th>newPosEncoded</th>\n",
       "      <th>Market Value category</th>\n",
       "    </tr>\n",
       "  </thead>\n",
       "  <tbody>\n",
       "    <tr>\n",
       "      <th>495</th>\n",
       "      <td>Left-Back</td>\n",
       "      <td>26</td>\n",
       "      <td>17000000</td>\n",
       "      <td>30</td>\n",
       "      <td>1</td>\n",
       "      <td>0</td>\n",
       "      <td>4</td>\n",
       "      <td>5</td>\n",
       "      <td>0</td>\n",
       "      <td>0</td>\n",
       "      <td>1</td>\n",
       "      <td>5</td>\n",
       "      <td>Defender</td>\n",
       "      <td>0</td>\n",
       "      <td>Low Earners</td>\n",
       "    </tr>\n",
       "    <tr>\n",
       "      <th>496</th>\n",
       "      <td>Centre-Back</td>\n",
       "      <td>27</td>\n",
       "      <td>17000000</td>\n",
       "      <td>22</td>\n",
       "      <td>0</td>\n",
       "      <td>0</td>\n",
       "      <td>0</td>\n",
       "      <td>5</td>\n",
       "      <td>0</td>\n",
       "      <td>0</td>\n",
       "      <td>0</td>\n",
       "      <td>4</td>\n",
       "      <td>Defender</td>\n",
       "      <td>0</td>\n",
       "      <td>Low Earners</td>\n",
       "    </tr>\n",
       "    <tr>\n",
       "      <th>497</th>\n",
       "      <td>Left Winger</td>\n",
       "      <td>24</td>\n",
       "      <td>16000000</td>\n",
       "      <td>31</td>\n",
       "      <td>4</td>\n",
       "      <td>0</td>\n",
       "      <td>4</td>\n",
       "      <td>5</td>\n",
       "      <td>0</td>\n",
       "      <td>0</td>\n",
       "      <td>11</td>\n",
       "      <td>12</td>\n",
       "      <td>Striker</td>\n",
       "      <td>2</td>\n",
       "      <td>Low Earners</td>\n",
       "    </tr>\n",
       "    <tr>\n",
       "      <th>498</th>\n",
       "      <td>Goalkeeper</td>\n",
       "      <td>21</td>\n",
       "      <td>16000000</td>\n",
       "      <td>6</td>\n",
       "      <td>0</td>\n",
       "      <td>0</td>\n",
       "      <td>0</td>\n",
       "      <td>0</td>\n",
       "      <td>0</td>\n",
       "      <td>0</td>\n",
       "      <td>0</td>\n",
       "      <td>0</td>\n",
       "      <td>Defender</td>\n",
       "      <td>0</td>\n",
       "      <td>Low Earners</td>\n",
       "    </tr>\n",
       "    <tr>\n",
       "      <th>499</th>\n",
       "      <td>Right-Back</td>\n",
       "      <td>22</td>\n",
       "      <td>16000000</td>\n",
       "      <td>26</td>\n",
       "      <td>2</td>\n",
       "      <td>0</td>\n",
       "      <td>2</td>\n",
       "      <td>1</td>\n",
       "      <td>0</td>\n",
       "      <td>0</td>\n",
       "      <td>7</td>\n",
       "      <td>2</td>\n",
       "      <td>Defender</td>\n",
       "      <td>0</td>\n",
       "      <td>Low Earners</td>\n",
       "    </tr>\n",
       "  </tbody>\n",
       "</table>\n",
       "</div>"
      ],
      "text/plain": [
       "        Position  Age  Market Value  Matches  Goals  Own Goals  Assists  \\\n",
       "495    Left-Back   26      17000000       30      1          0        4   \n",
       "496  Centre-Back   27      17000000       22      0          0        0   \n",
       "497  Left Winger   24      16000000       31      4          0        4   \n",
       "498   Goalkeeper   21      16000000        6      0          0        0   \n",
       "499   Right-Back   22      16000000       26      2          0        2   \n",
       "\n",
       "     Yellow cards  Second Yellow card  Red Cards  Substitued on  \\\n",
       "495             5                   0          0              1   \n",
       "496             5                   0          0              0   \n",
       "497             5                   0          0             11   \n",
       "498             0                   0          0              0   \n",
       "499             1                   0          0              7   \n",
       "\n",
       "     Substituted off newPosition  newPosEncoded Market Value category  \n",
       "495                5    Defender              0           Low Earners  \n",
       "496                4    Defender              0           Low Earners  \n",
       "497               12     Striker              2           Low Earners  \n",
       "498                0    Defender              0           Low Earners  \n",
       "499                2    Defender              0           Low Earners  "
      ]
     },
     "execution_count": 47,
     "metadata": {},
     "output_type": "execute_result"
    }
   ],
   "source": [
    "footballData.tail()"
   ]
  },
  {
   "cell_type": "code",
   "execution_count": 48,
   "metadata": {},
   "outputs": [
    {
     "data": {
      "text/html": [
       "<div>\n",
       "<style scoped>\n",
       "    .dataframe tbody tr th:only-of-type {\n",
       "        vertical-align: middle;\n",
       "    }\n",
       "\n",
       "    .dataframe tbody tr th {\n",
       "        vertical-align: top;\n",
       "    }\n",
       "\n",
       "    .dataframe thead th {\n",
       "        text-align: right;\n",
       "    }\n",
       "</style>\n",
       "<table border=\"1\" class=\"dataframe\">\n",
       "  <thead>\n",
       "    <tr style=\"text-align: right;\">\n",
       "      <th></th>\n",
       "      <th>Age</th>\n",
       "      <th>Market Value</th>\n",
       "      <th>Matches</th>\n",
       "      <th>Goals</th>\n",
       "      <th>Own Goals</th>\n",
       "      <th>Assists</th>\n",
       "      <th>Yellow cards</th>\n",
       "      <th>Second Yellow card</th>\n",
       "      <th>Red Cards</th>\n",
       "      <th>Substitued on</th>\n",
       "      <th>Substituted off</th>\n",
       "      <th>newPosEncoded</th>\n",
       "    </tr>\n",
       "    <tr>\n",
       "      <th>Market Value category</th>\n",
       "      <th></th>\n",
       "      <th></th>\n",
       "      <th></th>\n",
       "      <th></th>\n",
       "      <th></th>\n",
       "      <th></th>\n",
       "      <th></th>\n",
       "      <th></th>\n",
       "      <th></th>\n",
       "      <th></th>\n",
       "      <th></th>\n",
       "      <th></th>\n",
       "    </tr>\n",
       "  </thead>\n",
       "  <tbody>\n",
       "    <tr>\n",
       "      <th>High Earners</th>\n",
       "      <td>25.052632</td>\n",
       "      <td>3.198947e+07</td>\n",
       "      <td>25.073684</td>\n",
       "      <td>3.968421</td>\n",
       "      <td>0.052632</td>\n",
       "      <td>2.957895</td>\n",
       "      <td>3.442105</td>\n",
       "      <td>0.147368</td>\n",
       "      <td>0.084211</td>\n",
       "      <td>3.831579</td>\n",
       "      <td>5.621053</td>\n",
       "      <td>0.947368</td>\n",
       "    </tr>\n",
       "    <tr>\n",
       "      <th>Low Earners</th>\n",
       "      <td>25.089744</td>\n",
       "      <td>1.760256e+07</td>\n",
       "      <td>21.794872</td>\n",
       "      <td>2.641026</td>\n",
       "      <td>0.025641</td>\n",
       "      <td>2.538462</td>\n",
       "      <td>2.833333</td>\n",
       "      <td>0.012821</td>\n",
       "      <td>0.051282</td>\n",
       "      <td>4.064103</td>\n",
       "      <td>4.782051</td>\n",
       "      <td>1.012821</td>\n",
       "    </tr>\n",
       "    <tr>\n",
       "      <th>Moderate Earners</th>\n",
       "      <td>25.420118</td>\n",
       "      <td>2.207692e+07</td>\n",
       "      <td>22.142012</td>\n",
       "      <td>3.284024</td>\n",
       "      <td>0.047337</td>\n",
       "      <td>2.609467</td>\n",
       "      <td>3.065089</td>\n",
       "      <td>0.047337</td>\n",
       "      <td>0.035503</td>\n",
       "      <td>4.017751</td>\n",
       "      <td>5.124260</td>\n",
       "      <td>1.041420</td>\n",
       "    </tr>\n",
       "    <tr>\n",
       "      <th>Very High Earners</th>\n",
       "      <td>25.407643</td>\n",
       "      <td>6.219745e+07</td>\n",
       "      <td>28.331210</td>\n",
       "      <td>6.082803</td>\n",
       "      <td>0.031847</td>\n",
       "      <td>4.242038</td>\n",
       "      <td>3.343949</td>\n",
       "      <td>0.044586</td>\n",
       "      <td>0.070064</td>\n",
       "      <td>4.159236</td>\n",
       "      <td>6.337580</td>\n",
       "      <td>1.076433</td>\n",
       "    </tr>\n",
       "  </tbody>\n",
       "</table>\n",
       "</div>"
      ],
      "text/plain": [
       "                             Age  Market Value    Matches     Goals  \\\n",
       "Market Value category                                                 \n",
       "High Earners           25.052632  3.198947e+07  25.073684  3.968421   \n",
       "Low Earners            25.089744  1.760256e+07  21.794872  2.641026   \n",
       "Moderate Earners       25.420118  2.207692e+07  22.142012  3.284024   \n",
       "Very High Earners      25.407643  6.219745e+07  28.331210  6.082803   \n",
       "\n",
       "                       Own Goals   Assists  Yellow cards  Second Yellow card  \\\n",
       "Market Value category                                                          \n",
       "High Earners            0.052632  2.957895      3.442105            0.147368   \n",
       "Low Earners             0.025641  2.538462      2.833333            0.012821   \n",
       "Moderate Earners        0.047337  2.609467      3.065089            0.047337   \n",
       "Very High Earners       0.031847  4.242038      3.343949            0.044586   \n",
       "\n",
       "                       Red Cards  Substitued on  Substituted off  \\\n",
       "Market Value category                                              \n",
       "High Earners            0.084211       3.831579         5.621053   \n",
       "Low Earners             0.051282       4.064103         4.782051   \n",
       "Moderate Earners        0.035503       4.017751         5.124260   \n",
       "Very High Earners       0.070064       4.159236         6.337580   \n",
       "\n",
       "                       newPosEncoded  \n",
       "Market Value category                 \n",
       "High Earners                0.947368  \n",
       "Low Earners                 1.012821  \n",
       "Moderate Earners            1.041420  \n",
       "Very High Earners           1.076433  "
      ]
     },
     "execution_count": 48,
     "metadata": {},
     "output_type": "execute_result"
    }
   ],
   "source": [
    "mvCategory = footballData.groupby('Market Value category').mean()\n",
    "mvCategory"
   ]
  },
  {
   "cell_type": "code",
   "execution_count": 49,
   "metadata": {},
   "outputs": [
    {
     "data": {
      "text/plain": [
       "Text(0.5, 1.0, 'Average number of Matches per market value category')"
      ]
     },
     "execution_count": 49,
     "metadata": {},
     "output_type": "execute_result"
    },
    {
     "data": {
      "image/png": "[encoded data removed]",
      "text/plain": [
       "<Figure size 432x288 with 1 Axes>"
      ]
     },
     "metadata": {
      "needs_background": "light"
     },
     "output_type": "display_data"
    }
   ],
   "source": [
    "sns.barplot(x = mvCategory.index, y = 'Matches', data = mvCategory)\n",
    "plt.title('Average number of Matches per market value category')"
   ]
  },
  {
   "cell_type": "code",
   "execution_count": 50,
   "metadata": {},
   "outputs": [
    {
     "data": {
      "text/plain": [
       "Text(0.5, 1.0, 'Average number of Goals per market value category')"
      ]
     },
     "execution_count": 50,
     "metadata": {},
     "output_type": "execute_result"
    },
    {
     "data": {
      "image/png": "[encoded data removed]",
      "text/plain": [
       "<Figure size 432x288 with 1 Axes>"
      ]
     },
     "metadata": {
      "needs_background": "light"
     },
     "output_type": "display_data"
    }
   ],
   "source": [
    "sns.barplot(x = mvCategory.index, y = 'Goals', data = mvCategory)\n",
    "plt.title('Average number of Goals per market value category')"
   ]
  },
  {
   "cell_type": "code",
   "execution_count": 51,
   "metadata": {},
   "outputs": [
    {
     "data": {
      "text/plain": [
       "Text(0.5, 1.0, 'Average number of Assists per market value category')"
      ]
     },
     "execution_count": 51,
     "metadata": {},
     "output_type": "execute_result"
    },
    {
     "data": {
      "image/png": "[encoded data removed]",
      "text/plain": [
       "<Figure size 432x288 with 1 Axes>"
      ]
     },
     "metadata": {
      "needs_background": "light"
     },
     "output_type": "display_data"
    }
   ],
   "source": [
    "sns.barplot(x = mvCategory.index, y = 'Assists', data = mvCategory)\n",
    "plt.title('Average number of Assists per market value category')"
   ]
  },
  {
   "cell_type": "code",
   "execution_count": 287,
   "metadata": {},
   "outputs": [
    {
     "data": {
      "text/plain": [
       "Text(0.5, 1.0, 'Average number of Yellow cards per market value category')"
      ]
     },
     "execution_count": 287,
     "metadata": {},
     "output_type": "execute_result"
    },
    {
     "data": {
      "image/png": "[encoded data removed]",
      "text/plain": [
       "<Figure size 432x288 with 1 Axes>"
      ]
     },
     "metadata": {
      "needs_background": "light"
     },
     "output_type": "display_data"
    }
   ],
   "source": [
    "sns.barplot(x = mvCategory.index, y = 'Yellow cards', data = mvCategory)\n",
    "plt.title('Average number of Yellow cards per market value category')"
   ]
  },
  {
   "cell_type": "code",
   "execution_count": 292,
   "metadata": {},
   "outputs": [
    {
     "data": {
      "text/plain": [
       "Text(0.5, 1.0, 'Average Age per market value category')"
      ]
     },
     "execution_count": 292,
     "metadata": {},
     "output_type": "execute_result"
    },
    {
     "data": {
      "image/png": "[encoded data removed]",
      "text/plain": [
       "<Figure size 432x288 with 1 Axes>"
      ]
     },
     "metadata": {
      "needs_background": "light"
     },
     "output_type": "display_data"
    }
   ],
   "source": [
    "sns.barplot(x = mvCategory.index, y = 'Age', data = mvCategory)\n",
    "plt.title('Average Age per market value category')"
   ]
  },
  {
   "cell_type": "markdown",
   "metadata": {},
   "source": [
    "## Create DATAFRAMES for the PREDICTORS and RESPONSE VARIABLES"
   ]
  },
  {
   "cell_type": "code",
   "execution_count": 78,
   "metadata": {},
   "outputs": [],
   "source": [
    "#Creating a copy of the dataset\n",
    "\n",
    "copyFootballData = footballData.copy(deep = True)"
   ]
  },
  {
   "cell_type": "code",
   "execution_count": 79,
   "metadata": {
    "scrolled": true
   },
   "outputs": [
    {
     "data": {
      "text/html": [
       "<div>\n",
       "<style scoped>\n",
       "    .dataframe tbody tr th:only-of-type {\n",
       "        vertical-align: middle;\n",
       "    }\n",
       "\n",
       "    .dataframe tbody tr th {\n",
       "        vertical-align: top;\n",
       "    }\n",
       "\n",
       "    .dataframe thead th {\n",
       "        text-align: right;\n",
       "    }\n",
       "</style>\n",
       "<table border=\"1\" class=\"dataframe\">\n",
       "  <thead>\n",
       "    <tr style=\"text-align: right;\">\n",
       "      <th></th>\n",
       "      <th>Age</th>\n",
       "      <th>Matches</th>\n",
       "      <th>Goals</th>\n",
       "      <th>Own Goals</th>\n",
       "      <th>Assists</th>\n",
       "      <th>Yellow cards</th>\n",
       "      <th>Second Yellow card</th>\n",
       "      <th>Red Cards</th>\n",
       "      <th>Substitued on</th>\n",
       "      <th>Substituted off</th>\n",
       "      <th>newPosEncoded</th>\n",
       "    </tr>\n",
       "  </thead>\n",
       "  <tbody>\n",
       "    <tr>\n",
       "      <th>0</th>\n",
       "      <td>20</td>\n",
       "      <td>30</td>\n",
       "      <td>24</td>\n",
       "      <td>0</td>\n",
       "      <td>13</td>\n",
       "      <td>4</td>\n",
       "      <td>0</td>\n",
       "      <td>1</td>\n",
       "      <td>5</td>\n",
       "      <td>5</td>\n",
       "      <td>2</td>\n",
       "    </tr>\n",
       "    <tr>\n",
       "      <th>1</th>\n",
       "      <td>31</td>\n",
       "      <td>26</td>\n",
       "      <td>27</td>\n",
       "      <td>0</td>\n",
       "      <td>17</td>\n",
       "      <td>1</td>\n",
       "      <td>0</td>\n",
       "      <td>0</td>\n",
       "      <td>3</td>\n",
       "      <td>1</td>\n",
       "      <td>2</td>\n",
       "    </tr>\n",
       "    <tr>\n",
       "      <th>2</th>\n",
       "      <td>25</td>\n",
       "      <td>36</td>\n",
       "      <td>21</td>\n",
       "      <td>0</td>\n",
       "      <td>9</td>\n",
       "      <td>5</td>\n",
       "      <td>0</td>\n",
       "      <td>0</td>\n",
       "      <td>4</td>\n",
       "      <td>5</td>\n",
       "      <td>2</td>\n",
       "    </tr>\n",
       "    <tr>\n",
       "      <th>3</th>\n",
       "      <td>27</td>\n",
       "      <td>16</td>\n",
       "      <td>4</td>\n",
       "      <td>0</td>\n",
       "      <td>4</td>\n",
       "      <td>2</td>\n",
       "      <td>0</td>\n",
       "      <td>0</td>\n",
       "      <td>6</td>\n",
       "      <td>9</td>\n",
       "      <td>1</td>\n",
       "    </tr>\n",
       "    <tr>\n",
       "      <th>4</th>\n",
       "      <td>26</td>\n",
       "      <td>34</td>\n",
       "      <td>9</td>\n",
       "      <td>0</td>\n",
       "      <td>5</td>\n",
       "      <td>1</td>\n",
       "      <td>0</td>\n",
       "      <td>0</td>\n",
       "      <td>9</td>\n",
       "      <td>14</td>\n",
       "      <td>1</td>\n",
       "    </tr>\n",
       "  </tbody>\n",
       "</table>\n",
       "</div>"
      ],
      "text/plain": [
       "   Age  Matches  Goals  Own Goals  Assists  Yellow cards  Second Yellow card  \\\n",
       "0   20       30     24          0       13             4                   0   \n",
       "1   31       26     27          0       17             1                   0   \n",
       "2   25       36     21          0        9             5                   0   \n",
       "3   27       16      4          0        4             2                   0   \n",
       "4   26       34      9          0        5             1                   0   \n",
       "\n",
       "   Red Cards  Substitued on  Substituted off  newPosEncoded  \n",
       "0          1              5                5              2  \n",
       "1          0              3                1              2  \n",
       "2          0              4                5              2  \n",
       "3          0              6                9              1  \n",
       "4          0              9               14              1  "
      ]
     },
     "execution_count": 79,
     "metadata": {},
     "output_type": "execute_result"
    }
   ],
   "source": [
    "#Creating the features and the target variables Dataframe: copyFootballDataX and copyFootballDatay\n",
    "\n",
    "copyFootballDataX = copyFootballData.drop(['Position', 'Market Value', 'newPosition'], axis = 1)\n",
    "copyFootballDatay = copyFootballData['Market Value']\n",
    "copyFootballDataX.head()"
   ]
  },
  {
   "cell_type": "markdown",
   "metadata": {},
   "source": [
    "### Run the BACKWARD ELIMINATION ALGORITHM"
   ]
  },
  {
   "cell_type": "markdown",
   "metadata": {},
   "source": [
    "To automatically select the highly statistically significant predictive variables, I used the Backward Elimination Algorithm (Stepwise Regression). The step by step process include:\n",
    "\n",
    "- Step 1 : Select a significance level to stay in the model (I arbitrarily chose 0.05 as the sigbificance level)\n",
    "- Step 2 : Fit the model with all the possible predictors (All-in)\n",
    "- Step 3 : Consider the predictor with the highest P-value. If the P-value is greater than the signficance level, go to step 4, else end the program\n",
    "- Step 4 : Remove the predictor\n",
    "- Step 5 : Fit model without this variable and go back to step 3\n",
    "\n",
    "I used the statsmodels library to implement this algorithm. Unlike the LinearRegression class from scikit-learn that automatically helps to add the intercept(constant term), the statsmodels requires this to be done manually."
   ]
  },
  {
   "cell_type": "code",
   "execution_count": 80,
   "metadata": {
    "scrolled": true
   },
   "outputs": [
    {
     "data": {
      "text/html": [
       "<div>\n",
       "<style scoped>\n",
       "    .dataframe tbody tr th:only-of-type {\n",
       "        vertical-align: middle;\n",
       "    }\n",
       "\n",
       "    .dataframe tbody tr th {\n",
       "        vertical-align: top;\n",
       "    }\n",
       "\n",
       "    .dataframe thead th {\n",
       "        text-align: right;\n",
       "    }\n",
       "</style>\n",
       "<table border=\"1\" class=\"dataframe\">\n",
       "  <thead>\n",
       "    <tr style=\"text-align: right;\">\n",
       "      <th></th>\n",
       "      <th>intercept</th>\n",
       "      <th>Age</th>\n",
       "      <th>Matches</th>\n",
       "      <th>Goals</th>\n",
       "      <th>Own Goals</th>\n",
       "      <th>Assists</th>\n",
       "      <th>Yellow cards</th>\n",
       "      <th>Second Yellow card</th>\n",
       "      <th>Red Cards</th>\n",
       "      <th>Substitued on</th>\n",
       "      <th>Substituted off</th>\n",
       "      <th>newPosEncoded</th>\n",
       "    </tr>\n",
       "  </thead>\n",
       "  <tbody>\n",
       "    <tr>\n",
       "      <th>0</th>\n",
       "      <td>1</td>\n",
       "      <td>20</td>\n",
       "      <td>30</td>\n",
       "      <td>24</td>\n",
       "      <td>0</td>\n",
       "      <td>13</td>\n",
       "      <td>4</td>\n",
       "      <td>0</td>\n",
       "      <td>1</td>\n",
       "      <td>5</td>\n",
       "      <td>5</td>\n",
       "      <td>2</td>\n",
       "    </tr>\n",
       "    <tr>\n",
       "      <th>1</th>\n",
       "      <td>1</td>\n",
       "      <td>31</td>\n",
       "      <td>26</td>\n",
       "      <td>27</td>\n",
       "      <td>0</td>\n",
       "      <td>17</td>\n",
       "      <td>1</td>\n",
       "      <td>0</td>\n",
       "      <td>0</td>\n",
       "      <td>3</td>\n",
       "      <td>1</td>\n",
       "      <td>2</td>\n",
       "    </tr>\n",
       "    <tr>\n",
       "      <th>2</th>\n",
       "      <td>1</td>\n",
       "      <td>25</td>\n",
       "      <td>36</td>\n",
       "      <td>21</td>\n",
       "      <td>0</td>\n",
       "      <td>9</td>\n",
       "      <td>5</td>\n",
       "      <td>0</td>\n",
       "      <td>0</td>\n",
       "      <td>4</td>\n",
       "      <td>5</td>\n",
       "      <td>2</td>\n",
       "    </tr>\n",
       "    <tr>\n",
       "      <th>3</th>\n",
       "      <td>1</td>\n",
       "      <td>27</td>\n",
       "      <td>16</td>\n",
       "      <td>4</td>\n",
       "      <td>0</td>\n",
       "      <td>4</td>\n",
       "      <td>2</td>\n",
       "      <td>0</td>\n",
       "      <td>0</td>\n",
       "      <td>6</td>\n",
       "      <td>9</td>\n",
       "      <td>1</td>\n",
       "    </tr>\n",
       "    <tr>\n",
       "      <th>4</th>\n",
       "      <td>1</td>\n",
       "      <td>26</td>\n",
       "      <td>34</td>\n",
       "      <td>9</td>\n",
       "      <td>0</td>\n",
       "      <td>5</td>\n",
       "      <td>1</td>\n",
       "      <td>0</td>\n",
       "      <td>0</td>\n",
       "      <td>9</td>\n",
       "      <td>14</td>\n",
       "      <td>1</td>\n",
       "    </tr>\n",
       "  </tbody>\n",
       "</table>\n",
       "</div>"
      ],
      "text/plain": [
       "   intercept  Age  Matches  Goals  Own Goals  Assists  Yellow cards  \\\n",
       "0          1   20       30     24          0       13             4   \n",
       "1          1   31       26     27          0       17             1   \n",
       "2          1   25       36     21          0        9             5   \n",
       "3          1   27       16      4          0        4             2   \n",
       "4          1   26       34      9          0        5             1   \n",
       "\n",
       "   Second Yellow card  Red Cards  Substitued on  Substituted off  \\\n",
       "0                   0          1              5                5   \n",
       "1                   0          0              3                1   \n",
       "2                   0          0              4                5   \n",
       "3                   0          0              6                9   \n",
       "4                   0          0              9               14   \n",
       "\n",
       "   newPosEncoded  \n",
       "0              2  \n",
       "1              2  \n",
       "2              2  \n",
       "3              1  \n",
       "4              1  "
      ]
     },
     "execution_count": 80,
     "metadata": {},
     "output_type": "execute_result"
    }
   ],
   "source": [
    "#Adding the intercept term to the features dataframe\n",
    "\n",
    "intercept = pd.Series(np.ones((500,)).astype(int))\n",
    "copyFootballDataX = pd.concat((intercept.rename('intercept'),copyFootballDataX), axis = 1)\n",
    "copyFootballDataX.head()"
   ]
  },
  {
   "cell_type": "markdown",
   "metadata": {},
   "source": [
    "Before running the Backward Elimination Algorithm:\n",
    "\n",
    "It would be appropriate to conduct an hypothesis test by fitting all the potential predictors and check if their is actually a relationship between the predictors and the response variable. This can be achieved using the F-statistic. \n",
    "The reason for doing this is because their is a probability that some of the predictors will show a relationship by chance using the individual p-values of the predictors.\n",
    "\n",
    "If F-statistic is 1, then we fail to reject the null hypothesis, that is, their is no relationship between the predictors and the response variable.\n",
    "However, if F-statistic is greater than 1, then we reject the null hypothesis, meaning that their is a relationship between the predictors and the response variable."
   ]
  },
  {
   "cell_type": "code",
   "execution_count": 82,
   "metadata": {},
   "outputs": [
    {
     "data": {
      "text/html": [
       "<table class=\"simpletable\">\n",
       "<caption>OLS Regression Results</caption>\n",
       "<tr>\n",
       "  <th>Dep. Variable:</th>      <td>Market Value</td>   <th>  R-squared:         </th> <td>   0.265</td> \n",
       "</tr>\n",
       "<tr>\n",
       "  <th>Model:</th>                   <td>OLS</td>       <th>  Adj. R-squared:    </th> <td>   0.249</td> \n",
       "</tr>\n",
       "<tr>\n",
       "  <th>Method:</th>             <td>Least Squares</td>  <th>  F-statistic:       </th> <td>   16.02</td> \n",
       "</tr>\n",
       "<tr>\n",
       "  <th>Date:</th>             <td>Thu, 21 Mar 2019</td> <th>  Prob (F-statistic):</th> <td>6.32e-27</td> \n",
       "</tr>\n",
       "<tr>\n",
       "  <th>Time:</th>                 <td>10:28:42</td>     <th>  Log-Likelihood:    </th> <td> -9149.6</td> \n",
       "</tr>\n",
       "<tr>\n",
       "  <th>No. Observations:</th>      <td>   500</td>      <th>  AIC:               </th> <td>1.832e+04</td>\n",
       "</tr>\n",
       "<tr>\n",
       "  <th>Df Residuals:</th>          <td>   488</td>      <th>  BIC:               </th> <td>1.837e+04</td>\n",
       "</tr>\n",
       "<tr>\n",
       "  <th>Df Model:</th>              <td>    11</td>      <th>                     </th>     <td> </td>    \n",
       "</tr>\n",
       "<tr>\n",
       "  <th>Covariance Type:</th>      <td>nonrobust</td>    <th>                     </th>     <td> </td>    \n",
       "</tr>\n",
       "</table>\n",
       "<table class=\"simpletable\">\n",
       "<tr>\n",
       "           <td></td>             <th>coef</th>     <th>std err</th>      <th>t</th>      <th>P>|t|</th>  <th>[0.025</th>    <th>0.975]</th>  \n",
       "</tr>\n",
       "<tr>\n",
       "  <th>intercept</th>          <td> 2.318e+07</td> <td> 8.71e+06</td> <td>    2.661</td> <td> 0.008</td> <td> 6.07e+06</td> <td> 4.03e+07</td>\n",
       "</tr>\n",
       "<tr>\n",
       "  <th>Age</th>                <td>-1.386e+05</td> <td>  3.1e+05</td> <td>   -0.447</td> <td> 0.655</td> <td>-7.47e+05</td> <td>  4.7e+05</td>\n",
       "</tr>\n",
       "<tr>\n",
       "  <th>Matches</th>            <td> 5.133e+05</td> <td> 1.68e+05</td> <td>    3.048</td> <td> 0.002</td> <td> 1.82e+05</td> <td> 8.44e+05</td>\n",
       "</tr>\n",
       "<tr>\n",
       "  <th>Goals</th>              <td> 1.958e+06</td> <td> 2.94e+05</td> <td>    6.667</td> <td> 0.000</td> <td> 1.38e+06</td> <td> 2.53e+06</td>\n",
       "</tr>\n",
       "<tr>\n",
       "  <th>Own Goals</th>          <td> 8.091e+05</td> <td> 5.09e+06</td> <td>    0.159</td> <td> 0.874</td> <td>-9.19e+06</td> <td> 1.08e+07</td>\n",
       "</tr>\n",
       "<tr>\n",
       "  <th>Assists</th>            <td> 1.167e+06</td> <td> 3.89e+05</td> <td>    2.999</td> <td> 0.003</td> <td> 4.02e+05</td> <td> 1.93e+06</td>\n",
       "</tr>\n",
       "<tr>\n",
       "  <th>Yellow cards</th>       <td>-5.121e+05</td> <td> 4.39e+05</td> <td>   -1.166</td> <td> 0.244</td> <td>-1.37e+06</td> <td> 3.51e+05</td>\n",
       "</tr>\n",
       "<tr>\n",
       "  <th>Second Yellow card</th> <td>-5.513e+05</td> <td> 3.78e+06</td> <td>   -0.146</td> <td> 0.884</td> <td>-7.98e+06</td> <td> 6.88e+06</td>\n",
       "</tr>\n",
       "<tr>\n",
       "  <th>Red Cards</th>          <td> 5.017e+06</td> <td> 4.11e+06</td> <td>    1.221</td> <td> 0.223</td> <td>-3.06e+06</td> <td> 1.31e+07</td>\n",
       "</tr>\n",
       "<tr>\n",
       "  <th>Substitued on</th>      <td>-3.364e+05</td> <td> 3.21e+05</td> <td>   -1.047</td> <td> 0.296</td> <td>-9.68e+05</td> <td> 2.95e+05</td>\n",
       "</tr>\n",
       "<tr>\n",
       "  <th>Substituted off</th>    <td>-2.538e+05</td> <td> 2.96e+05</td> <td>   -0.856</td> <td> 0.392</td> <td>-8.36e+05</td> <td> 3.29e+05</td>\n",
       "</tr>\n",
       "<tr>\n",
       "  <th>newPosEncoded</th>      <td>-3.891e+06</td> <td>    2e+06</td> <td>   -1.942</td> <td> 0.053</td> <td>-7.83e+06</td> <td> 4.57e+04</td>\n",
       "</tr>\n",
       "</table>\n",
       "<table class=\"simpletable\">\n",
       "<tr>\n",
       "  <th>Omnibus:</th>       <td>186.255</td> <th>  Durbin-Watson:     </th> <td>   0.540</td> \n",
       "</tr>\n",
       "<tr>\n",
       "  <th>Prob(Omnibus):</th> <td> 0.000</td>  <th>  Jarque-Bera (JB):  </th> <td> 787.994</td> \n",
       "</tr>\n",
       "<tr>\n",
       "  <th>Skew:</th>          <td> 1.637</td>  <th>  Prob(JB):          </th> <td>7.75e-172</td>\n",
       "</tr>\n",
       "<tr>\n",
       "  <th>Kurtosis:</th>      <td> 8.206</td>  <th>  Cond. No.          </th> <td>    335.</td> \n",
       "</tr>\n",
       "</table><br/><br/>Warnings:<br/>[1] Standard Errors assume that the covariance matrix of the errors is correctly specified."
      ],
      "text/plain": [
       "<class 'statsmodels.iolib.summary.Summary'>\n",
       "\"\"\"\n",
       "                            OLS Regression Results                            \n",
       "==============================================================================\n",
       "Dep. Variable:           Market Value   R-squared:                       0.265\n",
       "Model:                            OLS   Adj. R-squared:                  0.249\n",
       "Method:                 Least Squares   F-statistic:                     16.02\n",
       "Date:                Thu, 21 Mar 2019   Prob (F-statistic):           6.32e-27\n",
       "Time:                        10:28:42   Log-Likelihood:                -9149.6\n",
       "No. Observations:                 500   AIC:                         1.832e+04\n",
       "Df Residuals:                     488   BIC:                         1.837e+04\n",
       "Df Model:                          11                                         \n",
       "Covariance Type:            nonrobust                                         \n",
       "======================================================================================\n",
       "                         coef    std err          t      P>|t|      [0.025      0.975]\n",
       "--------------------------------------------------------------------------------------\n",
       "intercept           2.318e+07   8.71e+06      2.661      0.008    6.07e+06    4.03e+07\n",
       "Age                -1.386e+05    3.1e+05     -0.447      0.655   -7.47e+05     4.7e+05\n",
       "Matches             5.133e+05   1.68e+05      3.048      0.002    1.82e+05    8.44e+05\n",
       "Goals               1.958e+06   2.94e+05      6.667      0.000    1.38e+06    2.53e+06\n",
       "Own Goals           8.091e+05   5.09e+06      0.159      0.874   -9.19e+06    1.08e+07\n",
       "Assists             1.167e+06   3.89e+05      2.999      0.003    4.02e+05    1.93e+06\n",
       "Yellow cards       -5.121e+05   4.39e+05     -1.166      0.244   -1.37e+06    3.51e+05\n",
       "Second Yellow card -5.513e+05   3.78e+06     -0.146      0.884   -7.98e+06    6.88e+06\n",
       "Red Cards           5.017e+06   4.11e+06      1.221      0.223   -3.06e+06    1.31e+07\n",
       "Substitued on      -3.364e+05   3.21e+05     -1.047      0.296   -9.68e+05    2.95e+05\n",
       "Substituted off    -2.538e+05   2.96e+05     -0.856      0.392   -8.36e+05    3.29e+05\n",
       "newPosEncoded      -3.891e+06      2e+06     -1.942      0.053   -7.83e+06    4.57e+04\n",
       "==============================================================================\n",
       "Omnibus:                      186.255   Durbin-Watson:                   0.540\n",
       "Prob(Omnibus):                  0.000   Jarque-Bera (JB):              787.994\n",
       "Skew:                           1.637   Prob(JB):                    7.75e-172\n",
       "Kurtosis:                       8.206   Cond. No.                         335.\n",
       "==============================================================================\n",
       "\n",
       "Warnings:\n",
       "[1] Standard Errors assume that the covariance matrix of the errors is correctly specified.\n",
       "\"\"\""
      ]
     },
     "execution_count": 82,
     "metadata": {},
     "output_type": "execute_result"
    }
   ],
   "source": [
    "model = sm.OLS(copyFootballDatay, copyFootballDataX).fit()\n",
    "model.summary()"
   ]
  },
  {
   "cell_type": "markdown",
   "metadata": {},
   "source": [
    "F-statistic: 16.03\n",
    "\n",
    "This indicates the presence of some relationship between the predictors and the response variable.\n",
    "\n",
    "Next, we decide on the important variables."
   ]
  },
  {
   "cell_type": "code",
   "execution_count": 83,
   "metadata": {},
   "outputs": [
    {
     "data": {
      "text/html": [
       "<table class=\"simpletable\">\n",
       "<caption>OLS Regression Results</caption>\n",
       "<tr>\n",
       "  <th>Dep. Variable:</th>      <td>Market Value</td>   <th>  R-squared:         </th> <td>   0.258</td> \n",
       "</tr>\n",
       "<tr>\n",
       "  <th>Model:</th>                   <td>OLS</td>       <th>  Adj. R-squared:    </th> <td>   0.252</td> \n",
       "</tr>\n",
       "<tr>\n",
       "  <th>Method:</th>             <td>Least Squares</td>  <th>  F-statistic:       </th> <td>   43.06</td> \n",
       "</tr>\n",
       "<tr>\n",
       "  <th>Date:</th>             <td>Thu, 21 Mar 2019</td> <th>  Prob (F-statistic):</th> <td>5.25e-31</td> \n",
       "</tr>\n",
       "<tr>\n",
       "  <th>Time:</th>                 <td>10:35:58</td>     <th>  Log-Likelihood:    </th> <td> -9152.0</td> \n",
       "</tr>\n",
       "<tr>\n",
       "  <th>No. Observations:</th>      <td>   500</td>      <th>  AIC:               </th> <td>1.831e+04</td>\n",
       "</tr>\n",
       "<tr>\n",
       "  <th>Df Residuals:</th>          <td>   495</td>      <th>  BIC:               </th> <td>1.834e+04</td>\n",
       "</tr>\n",
       "<tr>\n",
       "  <th>Df Model:</th>              <td>     4</td>      <th>                     </th>     <td> </td>    \n",
       "</tr>\n",
       "<tr>\n",
       "  <th>Covariance Type:</th>      <td>nonrobust</td>    <th>                     </th>     <td> </td>    \n",
       "</tr>\n",
       "</table>\n",
       "<table class=\"simpletable\">\n",
       "<tr>\n",
       "        <td></td>           <th>coef</th>     <th>std err</th>      <th>t</th>      <th>P>|t|</th>  <th>[0.025</th>    <th>0.975]</th>  \n",
       "</tr>\n",
       "<tr>\n",
       "  <th>intercept</th>     <td>  2.07e+07</td> <td> 3.61e+06</td> <td>    5.734</td> <td> 0.000</td> <td> 1.36e+07</td> <td> 2.78e+07</td>\n",
       "</tr>\n",
       "<tr>\n",
       "  <th>Matches</th>       <td> 3.656e+05</td> <td> 1.42e+05</td> <td>    2.579</td> <td> 0.010</td> <td> 8.71e+04</td> <td> 6.44e+05</td>\n",
       "</tr>\n",
       "<tr>\n",
       "  <th>Goals</th>         <td> 2.078e+06</td> <td>  2.8e+05</td> <td>    7.425</td> <td> 0.000</td> <td> 1.53e+06</td> <td> 2.63e+06</td>\n",
       "</tr>\n",
       "<tr>\n",
       "  <th>Assists</th>       <td> 1.115e+06</td> <td> 3.85e+05</td> <td>    2.897</td> <td> 0.004</td> <td> 3.59e+05</td> <td> 1.87e+06</td>\n",
       "</tr>\n",
       "<tr>\n",
       "  <th>newPosEncoded</th> <td>-5.662e+06</td> <td> 1.51e+06</td> <td>   -3.740</td> <td> 0.000</td> <td>-8.64e+06</td> <td>-2.69e+06</td>\n",
       "</tr>\n",
       "</table>\n",
       "<table class=\"simpletable\">\n",
       "<tr>\n",
       "  <th>Omnibus:</th>       <td>185.151</td> <th>  Durbin-Watson:     </th> <td>   0.524</td> \n",
       "</tr>\n",
       "<tr>\n",
       "  <th>Prob(Omnibus):</th> <td> 0.000</td>  <th>  Jarque-Bera (JB):  </th> <td> 775.436</td> \n",
       "</tr>\n",
       "<tr>\n",
       "  <th>Skew:</th>          <td> 1.631</td>  <th>  Prob(JB):          </th> <td>4.13e-169</td>\n",
       "</tr>\n",
       "<tr>\n",
       "  <th>Kurtosis:</th>      <td> 8.156</td>  <th>  Cond. No.          </th> <td>    101.</td> \n",
       "</tr>\n",
       "</table><br/><br/>Warnings:<br/>[1] Standard Errors assume that the covariance matrix of the errors is correctly specified."
      ],
      "text/plain": [
       "<class 'statsmodels.iolib.summary.Summary'>\n",
       "\"\"\"\n",
       "                            OLS Regression Results                            \n",
       "==============================================================================\n",
       "Dep. Variable:           Market Value   R-squared:                       0.258\n",
       "Model:                            OLS   Adj. R-squared:                  0.252\n",
       "Method:                 Least Squares   F-statistic:                     43.06\n",
       "Date:                Thu, 21 Mar 2019   Prob (F-statistic):           5.25e-31\n",
       "Time:                        10:35:58   Log-Likelihood:                -9152.0\n",
       "No. Observations:                 500   AIC:                         1.831e+04\n",
       "Df Residuals:                     495   BIC:                         1.834e+04\n",
       "Df Model:                           4                                         \n",
       "Covariance Type:            nonrobust                                         \n",
       "=================================================================================\n",
       "                    coef    std err          t      P>|t|      [0.025      0.975]\n",
       "---------------------------------------------------------------------------------\n",
       "intercept       2.07e+07   3.61e+06      5.734      0.000    1.36e+07    2.78e+07\n",
       "Matches        3.656e+05   1.42e+05      2.579      0.010    8.71e+04    6.44e+05\n",
       "Goals          2.078e+06    2.8e+05      7.425      0.000    1.53e+06    2.63e+06\n",
       "Assists        1.115e+06   3.85e+05      2.897      0.004    3.59e+05    1.87e+06\n",
       "newPosEncoded -5.662e+06   1.51e+06     -3.740      0.000   -8.64e+06   -2.69e+06\n",
       "==============================================================================\n",
       "Omnibus:                      185.151   Durbin-Watson:                   0.524\n",
       "Prob(Omnibus):                  0.000   Jarque-Bera (JB):              775.436\n",
       "Skew:                           1.631   Prob(JB):                    4.13e-169\n",
       "Kurtosis:                       8.156   Cond. No.                         101.\n",
       "==============================================================================\n",
       "\n",
       "Warnings:\n",
       "[1] Standard Errors assume that the covariance matrix of the errors is correctly specified.\n",
       "\"\"\""
      ]
     },
     "execution_count": 83,
     "metadata": {},
     "output_type": "execute_result"
    }
   ],
   "source": [
    "#Implementing the Baackward Elimination Algorithm\n",
    "\n",
    "\n",
    "#Arbitrarily selecting the significance level as 0.05 to stay in the model\n",
    "sigLevel = 0.05\n",
    "\n",
    "#Fitting the model with all the possible predictors\n",
    "model = sm.OLS(copyFootballDatay, copyFootballDataX).fit()\n",
    "pVals = model.pvalues\n",
    "\n",
    "#Steps 3 to 5 inside the  while loop\n",
    "while pVals[np.argmax(pVals)] > sigLevel:\n",
    "    copyFootballDataX = copyFootballDataX.drop([np.argmax(pVals)], axis = 1)\n",
    "    model = sm.OLS(copyFootballDatay, copyFootballDataX).fit()\n",
    "    pVals = model.pvalues\n",
    "\n",
    "#Printing the summary of the final model\n",
    "model.summary()"
   ]
  },
  {
   "cell_type": "markdown",
   "metadata": {},
   "source": [
    "Hence, the highly statistically signficant features are:\n",
    "\n",
    "- Matches \n",
    "- Goals\n",
    "- Assists\n",
    "- newPoistionEncoded (Position)\n",
    "\n",
    "This makes sense.\n",
    "\n",
    "Interpretation of some results from the table able:\n",
    "- **coef**: The coefficients for the predictors correspond to the change in the market value for a one unit change in the particular predictor. For example, a one unit change in the number of **GOALS** corresponds to an increase in the **MARKET VALUE** by **2,078,000**\n",
    "- **t**: This is the t-statistic used to conduct the hypothesis test to determine if their is a relationship between the predictor and the response.\n",
    "Null hypothesis: Their is no relationship between the predictor and response, meaning that the coefficient is zero.\n",
    "Alternative hypothesis: Presence of a relationship between the predictor and response, meaning that the coefficient is a non-zero constant.\n",
    "The t-statistic defines the ratio of the departure of the estimated value of a parameter from it's hpothesized value to the standard error. Hence, if the absolute value of the t-statistic is between 0 and 1 (meaning that the absolute standard error is greater than the absolute difference between the estimated value and it's hypothesized value), then we fail to reject the null hypothesis because their is a probability that the estimate is zero. But, if the absolute value of the t-statistic is greater than 1, then we reject the null hypothesis.\n",
    "- **P>|t|**: This is the corresponding p-values for the t-statistic. p-values are defined as the probability of obtaining the value we have given that the null-hypothesis is true (or by chance). Hence, we have a big value for p-value, then it means that that the corresponding value could have been due to chance.\n",
    "- **[0.025 0.975]**: This corresponds to a confidence interval of 2.5% to 97.5%.\n",
    "- **R-squared**: This is the proportion of the variance of the response explained by the predictors. R-squared is biased because it increases for every new variable. This is because the Least squares method mimimizes the Residual sum of squares for every new variable added even if the variable isn't statistically significant while keeping the total sum of squares constant. Typically, the values should range between 0 and 1 except if the regression line is worse than the average line drawn through the model, then we can have a negative value but it can never exceed 1. Our model has an R-squared of 0.258 meaning that only 25.8% of the variance of the response has been explained by our predictors.\n",
    "- **Adj. R-squared**: This has a penalty factor that penalizes for adding a variable that is not statistically significant. Hence, this is a better metric to consider over the R-squared."
   ]
  },
  {
   "cell_type": "markdown",
   "metadata": {},
   "source": [
    "## Check for Linear Model Assumptions"
   ]
  },
  {
   "cell_type": "markdown",
   "metadata": {},
   "source": [
    "- **LINEARITY**:\n",
    "    This means that the change in the response due to a one-unit change in the predictor is constant.\n",
    "\n",
    "    * PROBLEM: If the true relationship between the response and the pedictors is not linear, then the accuracy of the model is significantly reduced.\n",
    "    \n",
    "    * DETECTION: Residual plot will be used to check for NON-linearity. In simple linear regression, this is a plot of the residuals against the single predictor while in the multiple linear regression, it's a plot of the residuals against the predicted/fitted value. If the plot shows no pattern, then the linear assumption has been justified.\n",
    "    \n",
    "    * SOLUTION: Extend the linear model to accomodate the non-linear relationship. This can be achieved by transforming the predictors into polynomials.\n",
    "    \n",
    "- **HOMOSCEDASTICIY**: This means that the error terms should have a constant variance.\n",
    "    * PROBLEM: This may give an unwarranted sense of confidence in our model. Standard error of the coefficient estimates rely upon this assumption. Consequently, Hypothesis test and Confidence Intervals for the coefficient estimates which use the standard errors for their calculations rely upon this assumption. \n",
    "    * DETETION: Presence of a funnel shape in the Residual plot.\n",
    "    * SOLUTION: Transform the response using a concave function such as the logarithm or the square root of the response.\n",
    "    \n",
    "- **INDEPENDENCE OF ERROR TERMS**: This means that the error terms should be uncorrelated. That is, if the nth term of the error is positive, this should provide no information about the sign of the (n+1)th term.\n",
    "    * PROBLEM: This may give an unwarranted sense of confidence in our model. Standard error of the coefficient estimates rely upon this assumption. Consequently, Hypothesis test and Confidence Intervals for the coefficient estimates which use the standard errors for their calculations rely upon this assumption. \n",
    "    * DETECTION: Plot the residuals as a function of time. If the error terms are uncorrelated, there should be no discernible pattern.\n",
    "    * SOLUTION: Transform the response using a concave function such as the logarithm or the square root of the response.\n",
    "\n",
    "- **ABSENCE OF MULTICOLLINEARITY**: \n",
    "    This means that the predictors are not related to one another.\n",
    "    * PROBLEM: It can be difficult to determine how each variable is associated with the response, thereby reducing the accuracy of the coefficient estimates. This causes the standard error to increase. Consequently, the power of the hypothesis test, the probability of correctly detecting a non-zero coefficient, is reduced.\n",
    "    * DETECTION:  The Variance Inflation Factor (VIF) will be used to check. Smallest possible value of the VIF is 1, which indicates complete absence of multicollinearity. Typically, there is a small amount of collinearity among predictors. Therefore, if only the Variance Inflation Factor is greater than 5, then multicolinearity is likely present.\n",
    "    * SOLUTION:\n",
    "        * Drop one of the problematic variables from the regression, since the information provided by a collinear variable is redundant in the presence of other variables. \n",
    "        * Combine collinear variables into a single predictor."
   ]
  },
  {
   "cell_type": "code",
   "execution_count": 92,
   "metadata": {},
   "outputs": [
    {
     "data": {
      "text/plain": [
       "((500, 4), (500,))"
      ]
     },
     "execution_count": 92,
     "metadata": {},
     "output_type": "execute_result"
    }
   ],
   "source": [
    "#creating arrays to check for assumptions\n",
    "\n",
    "X = copyFootballDataX.iloc[:,[1,2,3,4]].values\n",
    "y = copyFootballDatay.iloc[:,].values\n",
    "X.shape,y.shape"
   ]
  },
  {
   "cell_type": "code",
   "execution_count": 93,
   "metadata": {},
   "outputs": [
    {
     "data": {
      "text/plain": [
       "((400, 4), (400,))"
      ]
     },
     "execution_count": 93,
     "metadata": {},
     "output_type": "execute_result"
    }
   ],
   "source": [
    "#Splitting the dataset into training and test set\n",
    "\n",
    "X_train,X_test,y_train,y_test= train_test_split(X,y,test_size=0.2, random_state = 0)\n",
    "X_train.shape,y_train.shape"
   ]
  },
  {
   "cell_type": "code",
   "execution_count": 94,
   "metadata": {},
   "outputs": [],
   "source": [
    "#Fitting the Multiple Linear Regression model, and calculating the residuals\n",
    "\n",
    "regressor = LinearRegression()\n",
    "regressor.fit(X_train,y_train)\n",
    "y_pred = regressor.predict(X_test)\n",
    "residual = y_test - y_pred\n",
    "residual = pd.Series(residual)"
   ]
  },
  {
   "cell_type": "code",
   "execution_count": 89,
   "metadata": {},
   "outputs": [
    {
     "data": {
      "image/png": "[encoded data removed]",
      "text/plain": [
       "<Figure size 432x288 with 1 Axes>"
      ]
     },
     "metadata": {
      "needs_background": "light"
     },
     "output_type": "display_data"
    }
   ],
   "source": [
    "#Testing for Linearity and Homoscedasticity using the Residual plot\n",
    "plt.scatter(y_pred, residual)\n",
    "plt.xlabel('Precited Market Values')\n",
    "plt.ylabel('Residuals')\n",
    "plt.title('Residuals plot')\n",
    "plt.show()"
   ]
  },
  {
   "cell_type": "code",
   "execution_count": 90,
   "metadata": {},
   "outputs": [
    {
     "data": {
      "image/png": "[encoded data removed]",
      "text/plain": [
       "<Figure size 432x288 with 1 Axes>"
      ]
     },
     "metadata": {
      "needs_background": "light"
     },
     "output_type": "display_data"
    }
   ],
   "source": [
    "#Testing for Independence of errors\n",
    "plt.scatter(residual.index, residual.values)\n",
    "plt.xlabel('Residual Index')\n",
    "plt.ylabel('Residuals')\n",
    "plt.show()"
   ]
  },
  {
   "cell_type": "code",
   "execution_count": 91,
   "metadata": {},
   "outputs": [
    {
     "data": {
      "text/html": [
       "<div>\n",
       "<style scoped>\n",
       "    .dataframe tbody tr th:only-of-type {\n",
       "        vertical-align: middle;\n",
       "    }\n",
       "\n",
       "    .dataframe tbody tr th {\n",
       "        vertical-align: top;\n",
       "    }\n",
       "\n",
       "    .dataframe thead th {\n",
       "        text-align: right;\n",
       "    }\n",
       "</style>\n",
       "<table border=\"1\" class=\"dataframe\">\n",
       "  <thead>\n",
       "    <tr style=\"text-align: right;\">\n",
       "      <th></th>\n",
       "      <th>features</th>\n",
       "      <th>VIF Factor</th>\n",
       "    </tr>\n",
       "  </thead>\n",
       "  <tbody>\n",
       "    <tr>\n",
       "      <th>0</th>\n",
       "      <td>Matches</td>\n",
       "      <td>3.00</td>\n",
       "    </tr>\n",
       "    <tr>\n",
       "      <th>1</th>\n",
       "      <td>Goals</td>\n",
       "      <td>3.36</td>\n",
       "    </tr>\n",
       "    <tr>\n",
       "      <th>2</th>\n",
       "      <td>Assits</td>\n",
       "      <td>3.27</td>\n",
       "    </tr>\n",
       "    <tr>\n",
       "      <th>3</th>\n",
       "      <td>Position</td>\n",
       "      <td>3.31</td>\n",
       "    </tr>\n",
       "  </tbody>\n",
       "</table>\n",
       "</div>"
      ],
      "text/plain": [
       "   features  VIF Factor\n",
       "0   Matches        3.00\n",
       "1     Goals        3.36\n",
       "2    Assits        3.27\n",
       "3  Position        3.31"
      ]
     },
     "execution_count": 91,
     "metadata": {},
     "output_type": "execute_result"
    }
   ],
   "source": [
    "#Detecting multicollinearity using Variance Inflation Factor\n",
    "\n",
    "vif = pd.DataFrame()\n",
    "vif[\"features\"] = ['Matches', 'Goals', 'Assits', 'Position']\n",
    "vif[\"VIF Factor\"] = [variance_inflation_factor(X, i) for i in range(X.shape[1])]\n",
    "vif.round(2)"
   ]
  },
  {
   "cell_type": "markdown",
   "metadata": {},
   "source": [
    "- The residual plot shows some pattern. Therefore, presence of some non-linear relationship which is typical in practice.\n",
    "- Absence of multicollinearity assumption has been met."
   ]
  },
  {
   "cell_type": "markdown",
   "metadata": {},
   "source": [
    "### POLYNOMIAL REGRESSION: Extending the linear model to accomodate for the non-linear relationship "
   ]
  },
  {
   "cell_type": "markdown",
   "metadata": {},
   "source": [
    "Finally, Building a Polynomial Linear Regression model."
   ]
  },
  {
   "cell_type": "code",
   "execution_count": 109,
   "metadata": {},
   "outputs": [],
   "source": [
    "#Creating Polynomial Regressors\n",
    "\n",
    "polyReg = PolynomialFeatures(degree = 2)\n",
    "polyX = polyReg.fit_transform(X[:,[1,2]])\n",
    "polyX = np.append(polyX, X[:,[0,3]], axis = 1)"
   ]
  },
  {
   "cell_type": "code",
   "execution_count": 97,
   "metadata": {},
   "outputs": [],
   "source": [
    "#splitting the dataset into training and test set\n",
    "\n",
    "trainPolyX, testPolyX, trainPolyy, testPolyy = train_test_split(polyX, y, test_size = 0.2, random_state = 0) "
   ]
  },
  {
   "cell_type": "code",
   "execution_count": 99,
   "metadata": {},
   "outputs": [
    {
     "data": {
      "text/html": [
       "<table class=\"simpletable\">\n",
       "<caption>OLS Regression Results</caption>\n",
       "<tr>\n",
       "  <th>Dep. Variable:</th>            <td>y</td>        <th>  R-squared:         </th> <td>   0.370</td> \n",
       "</tr>\n",
       "<tr>\n",
       "  <th>Model:</th>                   <td>OLS</td>       <th>  Adj. R-squared:    </th> <td>   0.359</td> \n",
       "</tr>\n",
       "<tr>\n",
       "  <th>Method:</th>             <td>Least Squares</td>  <th>  F-statistic:       </th> <td>   32.88</td> \n",
       "</tr>\n",
       "<tr>\n",
       "  <th>Date:</th>             <td>Sun, 24 Feb 2019</td> <th>  Prob (F-statistic):</th> <td>6.76e-36</td> \n",
       "</tr>\n",
       "<tr>\n",
       "  <th>Time:</th>                 <td>11:27:15</td>     <th>  Log-Likelihood:    </th> <td> -7294.5</td> \n",
       "</tr>\n",
       "<tr>\n",
       "  <th>No. Observations:</th>      <td>   400</td>      <th>  AIC:               </th> <td>1.460e+04</td>\n",
       "</tr>\n",
       "<tr>\n",
       "  <th>Df Residuals:</th>          <td>   392</td>      <th>  BIC:               </th> <td>1.464e+04</td>\n",
       "</tr>\n",
       "<tr>\n",
       "  <th>Df Model:</th>              <td>     7</td>      <th>                     </th>     <td> </td>    \n",
       "</tr>\n",
       "<tr>\n",
       "  <th>Covariance Type:</th>      <td>nonrobust</td>    <th>                     </th>     <td> </td>    \n",
       "</tr>\n",
       "</table>\n",
       "<table class=\"simpletable\">\n",
       "<tr>\n",
       "    <td></td>       <th>coef</th>     <th>std err</th>      <th>t</th>      <th>P>|t|</th>  <th>[0.025</th>    <th>0.975]</th>  \n",
       "</tr>\n",
       "<tr>\n",
       "  <th>const</th> <td> 1.889e+07</td> <td> 3.73e+06</td> <td>    5.060</td> <td> 0.000</td> <td> 1.15e+07</td> <td> 2.62e+07</td>\n",
       "</tr>\n",
       "<tr>\n",
       "  <th>x1</th>    <td>-8.818e+05</td> <td>  7.7e+05</td> <td>   -1.145</td> <td> 0.253</td> <td> -2.4e+06</td> <td> 6.32e+05</td>\n",
       "</tr>\n",
       "<tr>\n",
       "  <th>x2</th>    <td>-7.942e+05</td> <td>  8.6e+05</td> <td>   -0.924</td> <td> 0.356</td> <td>-2.48e+06</td> <td> 8.96e+05</td>\n",
       "</tr>\n",
       "<tr>\n",
       "  <th>x3</th>    <td> 5.429e+04</td> <td> 4.49e+04</td> <td>    1.210</td> <td> 0.227</td> <td>-3.39e+04</td> <td> 1.42e+05</td>\n",
       "</tr>\n",
       "<tr>\n",
       "  <th>x4</th>    <td> 3.442e+05</td> <td> 8.28e+04</td> <td>    4.159</td> <td> 0.000</td> <td> 1.81e+05</td> <td> 5.07e+05</td>\n",
       "</tr>\n",
       "<tr>\n",
       "  <th>x5</th>    <td>-1.452e+04</td> <td> 8.65e+04</td> <td>   -0.168</td> <td> 0.867</td> <td>-1.85e+05</td> <td> 1.56e+05</td>\n",
       "</tr>\n",
       "<tr>\n",
       "  <th>x6</th>    <td> 6.734e+05</td> <td> 1.54e+05</td> <td>    4.383</td> <td> 0.000</td> <td> 3.71e+05</td> <td> 9.75e+05</td>\n",
       "</tr>\n",
       "<tr>\n",
       "  <th>x7</th>    <td>-1.938e+06</td> <td> 1.71e+06</td> <td>   -1.136</td> <td> 0.256</td> <td>-5.29e+06</td> <td> 1.42e+06</td>\n",
       "</tr>\n",
       "</table>\n",
       "<table class=\"simpletable\">\n",
       "<tr>\n",
       "  <th>Omnibus:</th>       <td>130.950</td> <th>  Durbin-Watson:     </th> <td>   1.983</td> \n",
       "</tr>\n",
       "<tr>\n",
       "  <th>Prob(Omnibus):</th> <td> 0.000</td>  <th>  Jarque-Bera (JB):  </th> <td> 529.795</td> \n",
       "</tr>\n",
       "<tr>\n",
       "  <th>Skew:</th>          <td> 1.396</td>  <th>  Prob(JB):          </th> <td>9.05e-116</td>\n",
       "</tr>\n",
       "<tr>\n",
       "  <th>Kurtosis:</th>      <td> 7.898</td>  <th>  Cond. No.          </th> <td>    417.</td> \n",
       "</tr>\n",
       "</table><br/><br/>Warnings:<br/>[1] Standard Errors assume that the covariance matrix of the errors is correctly specified."
      ],
      "text/plain": [
       "<class 'statsmodels.iolib.summary.Summary'>\n",
       "\"\"\"\n",
       "                            OLS Regression Results                            \n",
       "==============================================================================\n",
       "Dep. Variable:                      y   R-squared:                       0.370\n",
       "Model:                            OLS   Adj. R-squared:                  0.359\n",
       "Method:                 Least Squares   F-statistic:                     32.88\n",
       "Date:                Sun, 24 Feb 2019   Prob (F-statistic):           6.76e-36\n",
       "Time:                        11:27:15   Log-Likelihood:                -7294.5\n",
       "No. Observations:                 400   AIC:                         1.460e+04\n",
       "Df Residuals:                     392   BIC:                         1.464e+04\n",
       "Df Model:                           7                                         \n",
       "Covariance Type:            nonrobust                                         \n",
       "==============================================================================\n",
       "                 coef    std err          t      P>|t|      [0.025      0.975]\n",
       "------------------------------------------------------------------------------\n",
       "const       1.889e+07   3.73e+06      5.060      0.000    1.15e+07    2.62e+07\n",
       "x1         -8.818e+05    7.7e+05     -1.145      0.253    -2.4e+06    6.32e+05\n",
       "x2         -7.942e+05    8.6e+05     -0.924      0.356   -2.48e+06    8.96e+05\n",
       "x3          5.429e+04   4.49e+04      1.210      0.227   -3.39e+04    1.42e+05\n",
       "x4          3.442e+05   8.28e+04      4.159      0.000    1.81e+05    5.07e+05\n",
       "x5         -1.452e+04   8.65e+04     -0.168      0.867   -1.85e+05    1.56e+05\n",
       "x6          6.734e+05   1.54e+05      4.383      0.000    3.71e+05    9.75e+05\n",
       "x7         -1.938e+06   1.71e+06     -1.136      0.256   -5.29e+06    1.42e+06\n",
       "==============================================================================\n",
       "Omnibus:                      130.950   Durbin-Watson:                   1.983\n",
       "Prob(Omnibus):                  0.000   Jarque-Bera (JB):              529.795\n",
       "Skew:                           1.396   Prob(JB):                    9.05e-116\n",
       "Kurtosis:                       7.898   Cond. No.                         417.\n",
       "==============================================================================\n",
       "\n",
       "Warnings:\n",
       "[1] Standard Errors assume that the covariance matrix of the errors is correctly specified.\n",
       "\"\"\""
      ]
     },
     "execution_count": 99,
     "metadata": {},
     "output_type": "execute_result"
    }
   ],
   "source": [
    "#fitting the model and displaying the summary\n",
    "\n",
    "modelPoly = sm.OLS(trainPolyy, trainPolyX).fit()\n",
    "modelPoly.summary()"
   ]
  },
  {
   "cell_type": "markdown",
   "metadata": {},
   "source": [
    "# END OF NOTEBOOK"
   ]
  }
 ],
 "metadata": {
  "kernelspec": {
   "display_name": "Python 3",
   "language": "python",
   "name": "python3"
  },
  "language_info": {
   "codemirror_mode": {
    "name": "ipython",
    "version": 3
   },
   "file_extension": ".py",
   "mimetype": "text/x-python",
   "name": "python",
   "nbconvert_exporter": "python",
   "pygments_lexer": "ipython3",
   "version": "3.7.1"
  }
 },
 "nbformat": 4,
 "nbformat_minor": 2
}
