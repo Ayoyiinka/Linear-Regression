{
 "cells": [
  {
   "cell_type": "code",
   "execution_count": 1,
   "metadata": {},
   "outputs": [],
   "source": [
    "import pandas as pd\n",
    "import numpy as np\n",
    "import matplotlib.pyplot as plt"
   ]
  },
  {
   "cell_type": "markdown",
   "metadata": {},
   "source": [
    "###### Plan:\n",
    "- Remove the NaN and playername column \n",
    "- Plot a bar chart to identify if their is any relational order for tbe categorical variable based on my subject matter knowledge\n",
    "- Stepwise Regression: Use the P-value and Adjusted R squared to select features, that is, build the model\n",
    "- Identify the most important predictor variable from the selected ones from above using the standardized method\n",
    "- Check for Regression Assumptions\n",
    "* Linearity(Correct Functional form): Trial and error since specifying a regression model is an iterative process\n",
    "* No Multicollinearity; use VIF\n",
    "* Independent Error Terms has been automatically checked since it's not a time series data\n",
    "* Normality of Erros\n",
    "* Homoscedasticity ; Constant error variance\n",
    "* One bar plot each to visualize relationship between the dependent variable and independent variable\n",
    "* Assume that the linear regression assumptions are met\n",
    "* So all in, then backward elimination\n",
    "* Based on the remaining parameters, we would now run the assumptions in order to improve the model"
   ]
  },
  {
   "cell_type": "code",
   "execution_count": 2,
   "metadata": {},
   "outputs": [
    {
     "data": {
      "text/html": [
       "<div>\n",
       "<style scoped>\n",
       "    .dataframe tbody tr th:only-of-type {\n",
       "        vertical-align: middle;\n",
       "    }\n",
       "\n",
       "    .dataframe tbody tr th {\n",
       "        vertical-align: top;\n",
       "    }\n",
       "\n",
       "    .dataframe thead th {\n",
       "        text-align: right;\n",
       "    }\n",
       "</style>\n",
       "<table border=\"1\" class=\"dataframe\">\n",
       "  <thead>\n",
       "    <tr style=\"text-align: right;\">\n",
       "      <th></th>\n",
       "      <th>Player name</th>\n",
       "      <th>Position</th>\n",
       "      <th>Age</th>\n",
       "      <th>Market Value</th>\n",
       "      <th>NaN</th>\n",
       "      <th>Matches</th>\n",
       "      <th>Goals</th>\n",
       "      <th>Own Goals</th>\n",
       "      <th>Assists</th>\n",
       "      <th>Yellow cards</th>\n",
       "      <th>Second Yellow card</th>\n",
       "      <th>Red Cards</th>\n",
       "      <th>Substitued on</th>\n",
       "      <th>Substituted off</th>\n",
       "    </tr>\n",
       "  </thead>\n",
       "  <tbody>\n",
       "    <tr>\n",
       "      <th>0</th>\n",
       "      <td>Kylian Mbappé</td>\n",
       "      <td>Right Winger</td>\n",
       "      <td>20</td>\n",
       "      <td>200</td>\n",
       "      <td>0</td>\n",
       "      <td>30</td>\n",
       "      <td>24</td>\n",
       "      <td>0</td>\n",
       "      <td>13</td>\n",
       "      <td>4</td>\n",
       "      <td>0</td>\n",
       "      <td>1</td>\n",
       "      <td>5</td>\n",
       "      <td>5</td>\n",
       "    </tr>\n",
       "    <tr>\n",
       "      <th>1</th>\n",
       "      <td>Lionel Messi</td>\n",
       "      <td>Right Winger</td>\n",
       "      <td>31</td>\n",
       "      <td>160</td>\n",
       "      <td>0</td>\n",
       "      <td>26</td>\n",
       "      <td>27</td>\n",
       "      <td>0</td>\n",
       "      <td>17</td>\n",
       "      <td>1</td>\n",
       "      <td>0</td>\n",
       "      <td>0</td>\n",
       "      <td>3</td>\n",
       "      <td>1</td>\n",
       "    </tr>\n",
       "    <tr>\n",
       "      <th>2</th>\n",
       "      <td>Harry Kane</td>\n",
       "      <td>Centre-Forward</td>\n",
       "      <td>25</td>\n",
       "      <td>150</td>\n",
       "      <td>0</td>\n",
       "      <td>36</td>\n",
       "      <td>21</td>\n",
       "      <td>0</td>\n",
       "      <td>9</td>\n",
       "      <td>5</td>\n",
       "      <td>0</td>\n",
       "      <td>0</td>\n",
       "      <td>4</td>\n",
       "      <td>5</td>\n",
       "    </tr>\n",
       "  </tbody>\n",
       "</table>\n",
       "</div>"
      ],
      "text/plain": [
       "     Player name        Position  Age  Market Value  NaN  Matches  Goals  \\\n",
       "0  Kylian Mbappé    Right Winger   20           200    0       30     24   \n",
       "1   Lionel Messi    Right Winger   31           160    0       26     27   \n",
       "2     Harry Kane  Centre-Forward   25           150    0       36     21   \n",
       "\n",
       "   Own Goals  Assists  Yellow cards  Second Yellow card  Red Cards  \\\n",
       "0          0       13             4                   0          1   \n",
       "1          0       17             1                   0          0   \n",
       "2          0        9             5                   0          0   \n",
       "\n",
       "   Substitued on  Substituted off  \n",
       "0              5                5  \n",
       "1              3                1  \n",
       "2              4                5  "
      ]
     },
     "execution_count": 2,
     "metadata": {},
     "output_type": "execute_result"
    }
   ],
   "source": [
    "footballData = pd.read_csv('footballData.csv')\n",
    "footballData.head(3)"
   ]
  },
  {
   "cell_type": "code",
   "execution_count": 3,
   "metadata": {},
   "outputs": [],
   "source": [
    "footballData = footballData.drop(['Player name', 'NaN'], axis = 1)\n",
    "footballData['Market Value'] = footballData['Market Value'] * 1000000"
   ]
  },
  {
   "cell_type": "code",
   "execution_count": 4,
   "metadata": {},
   "outputs": [
    {
     "data": {
      "text/html": [
       "<div>\n",
       "<style scoped>\n",
       "    .dataframe tbody tr th:only-of-type {\n",
       "        vertical-align: middle;\n",
       "    }\n",
       "\n",
       "    .dataframe tbody tr th {\n",
       "        vertical-align: top;\n",
       "    }\n",
       "\n",
       "    .dataframe thead th {\n",
       "        text-align: right;\n",
       "    }\n",
       "</style>\n",
       "<table border=\"1\" class=\"dataframe\">\n",
       "  <thead>\n",
       "    <tr style=\"text-align: right;\">\n",
       "      <th></th>\n",
       "      <th>Position</th>\n",
       "      <th>Age</th>\n",
       "      <th>Market Value</th>\n",
       "      <th>Matches</th>\n",
       "      <th>Goals</th>\n",
       "      <th>Own Goals</th>\n",
       "      <th>Assists</th>\n",
       "      <th>Yellow cards</th>\n",
       "      <th>Second Yellow card</th>\n",
       "      <th>Red Cards</th>\n",
       "      <th>Substitued on</th>\n",
       "      <th>Substituted off</th>\n",
       "    </tr>\n",
       "  </thead>\n",
       "  <tbody>\n",
       "    <tr>\n",
       "      <th>497</th>\n",
       "      <td>Left Winger</td>\n",
       "      <td>24</td>\n",
       "      <td>16000000</td>\n",
       "      <td>31</td>\n",
       "      <td>4</td>\n",
       "      <td>0</td>\n",
       "      <td>4</td>\n",
       "      <td>5</td>\n",
       "      <td>0</td>\n",
       "      <td>0</td>\n",
       "      <td>11</td>\n",
       "      <td>12</td>\n",
       "    </tr>\n",
       "    <tr>\n",
       "      <th>498</th>\n",
       "      <td>Goalkeeper</td>\n",
       "      <td>21</td>\n",
       "      <td>16000000</td>\n",
       "      <td>6</td>\n",
       "      <td>0</td>\n",
       "      <td>0</td>\n",
       "      <td>0</td>\n",
       "      <td>0</td>\n",
       "      <td>0</td>\n",
       "      <td>0</td>\n",
       "      <td>0</td>\n",
       "      <td>0</td>\n",
       "    </tr>\n",
       "    <tr>\n",
       "      <th>499</th>\n",
       "      <td>Right-Back</td>\n",
       "      <td>22</td>\n",
       "      <td>16000000</td>\n",
       "      <td>26</td>\n",
       "      <td>2</td>\n",
       "      <td>0</td>\n",
       "      <td>2</td>\n",
       "      <td>1</td>\n",
       "      <td>0</td>\n",
       "      <td>0</td>\n",
       "      <td>7</td>\n",
       "      <td>2</td>\n",
       "    </tr>\n",
       "  </tbody>\n",
       "</table>\n",
       "</div>"
      ],
      "text/plain": [
       "        Position  Age  Market Value  Matches  Goals  Own Goals  Assists  \\\n",
       "497  Left Winger   24      16000000       31      4          0        4   \n",
       "498   Goalkeeper   21      16000000        6      0          0        0   \n",
       "499   Right-Back   22      16000000       26      2          0        2   \n",
       "\n",
       "     Yellow cards  Second Yellow card  Red Cards  Substitued on  \\\n",
       "497             5                   0          0             11   \n",
       "498             0                   0          0              0   \n",
       "499             1                   0          0              7   \n",
       "\n",
       "     Substituted off  \n",
       "497               12  \n",
       "498                0  \n",
       "499                2  "
      ]
     },
     "execution_count": 4,
     "metadata": {},
     "output_type": "execute_result"
    }
   ],
   "source": [
    "footballData.tail(3)"
   ]
  },
  {
   "cell_type": "markdown",
   "metadata": {
    "collapsed": true
   },
   "source": [
    "The dataset has 12 columns; 11 independent variables and 1 dependent variable which is the market value. This is a regression problem because the value being predicted is a continuous numeric value. From the 11 independent variables, only one categorical variable is present while the remaining 10 are numerical variables. Categorical variables need to be encoded since Machine learning models are based on mathematical equations. Due to knowledge about the subject matter, a bar chat showing the relationship between the categoical variable and the numerical variable will be plotted to establish if their is a relational order in the categorical variable."
   ]
  },
  {
   "cell_type": "code",
   "execution_count": 5,
   "metadata": {},
   "outputs": [
    {
     "data": {
      "text/plain": [
       "[['Right Winger', 200000000],\n",
       " ['Right Winger', 160000000],\n",
       " ['Centre-Forward', 150000000]]"
      ]
     },
     "execution_count": 5,
     "metadata": {},
     "output_type": "execute_result"
    }
   ],
   "source": [
    "#Creating a list of list containing the Positions and the corresponding Market Value\n",
    "position = footballData['Position']\n",
    "marketValue = footballData['Market Value']\n",
    "posMar = pd.concat((position, marketValue), axis = 1, ignore_index = True)\n",
    "posMar = posMar.to_dict('split')\n",
    "listPosMar = posMar['data']\n",
    "listPosMar[:3]"
   ]
  },
  {
   "cell_type": "code",
   "execution_count": 6,
   "metadata": {},
   "outputs": [
    {
     "data": {
      "text/plain": [
       "{'Right Winger': 2165000000,\n",
       " 'Centre-Forward': 2509000000,\n",
       " 'Attacking Midfield': 1558000000,\n",
       " 'Second Striker': 349000000,\n",
       " 'Central Midfield': 2868000000,\n",
       " 'Left Winger': 2057000000,\n",
       " 'Centre-Back': 2656000000,\n",
       " 'Goalkeeper': 878000000,\n",
       " 'Defensive Midfield': 1214000000,\n",
       " 'Left-Back': 853000000,\n",
       " 'Right-Back': 855000000,\n",
       " 'Right Midfield': 75000000,\n",
       " 'Left Midfield': 71000000}"
      ]
     },
     "execution_count": 6,
     "metadata": {},
     "output_type": "execute_result"
    }
   ],
   "source": [
    "#Creating a dictionary to store the total market value for each unique position\n",
    "dicPosMar = {}\n",
    "for i in range(len(listPosMar)):\n",
    "    if listPosMar[i][0] in dicPosMar.keys():\n",
    "        dicPosMar[listPosMar[i][0]] += listPosMar[i][1]\n",
    "    else:\n",
    "        dicPosMar[listPosMar[i][0]] = listPosMar[i][1]\n",
    "dicPosMar"
   ]
  },
  {
   "cell_type": "code",
   "execution_count": 7,
   "metadata": {},
   "outputs": [
    {
     "data": {
      "text/plain": [
       "{'Right Winger': 52,\n",
       " 'Centre-Forward': 64,\n",
       " 'Attacking Midfield': 39,\n",
       " 'Second Striker': 8,\n",
       " 'Central Midfield': 86,\n",
       " 'Left Winger': 50,\n",
       " 'Centre-Back': 79,\n",
       " 'Goalkeeper': 24,\n",
       " 'Defensive Midfield': 38,\n",
       " 'Left-Back': 28,\n",
       " 'Right-Back': 27,\n",
       " 'Right Midfield': 2,\n",
       " 'Left Midfield': 3}"
      ]
     },
     "execution_count": 7,
     "metadata": {},
     "output_type": "execute_result"
    }
   ],
   "source": [
    "#Creating a dictionary to store the total number of people in the dataset per position\n",
    "numPerPos = {}\n",
    "for i in range(len(listPosMar)):\n",
    "    numPerPos.setdefault(listPosMar[i][0], 0)\n",
    "    numPerPos[listPosMar[i][0]] += 1\n",
    "numPerPos"
   ]
  },
  {
   "cell_type": "code",
   "execution_count": 8,
   "metadata": {},
   "outputs": [
    {
     "data": {
      "text/plain": [
       "{'Right Winger': 41634615.38,\n",
       " 'Centre-Forward': 39203125.0,\n",
       " 'Attacking Midfield': 39948717.95,\n",
       " 'Second Striker': 43625000.0,\n",
       " 'Central Midfield': 33348837.21,\n",
       " 'Left Winger': 41140000.0,\n",
       " 'Centre-Back': 33620253.16,\n",
       " 'Goalkeeper': 36583333.33,\n",
       " 'Defensive Midfield': 31947368.42,\n",
       " 'Left-Back': 30464285.71,\n",
       " 'Right-Back': 31666666.67,\n",
       " 'Right Midfield': 37500000.0,\n",
       " 'Left Midfield': 23666666.67}"
      ]
     },
     "execution_count": 8,
     "metadata": {},
     "output_type": "execute_result"
    }
   ],
   "source": [
    "#Creating a dictionary to store the average market value per position\n",
    "aveValPerPos = {}\n",
    "posList = list(numPerPos.keys())\n",
    "for i in range(len(posList)):\n",
    "    aveValPerPos.setdefault(posList[i], (round((dicPosMar[posList[i]]/numPerPos[posList[i]]), 2)))\n",
    "aveValPerPos"
   ]
  },
  {
   "cell_type": "code",
   "execution_count": 9,
   "metadata": {},
   "outputs": [],
   "source": [
    "aveValPerPosList = []\n",
    "for i in range(len(list(aveValPerPos.keys()))):\n",
    "    tempList = []\n",
    "    tempList.append(list(aveValPerPos.keys())[i])\n",
    "    tempList.append(list(aveValPerPos.values())[i])\n",
    "    aveValPerPosList.append(tempList)\n",
    "x = []\n",
    "y = []\n",
    "for i in range(len(aveValPerPosList)):\n",
    "    x.append(aveValPerPosList[i][0])\n",
    "    y.append(aveValPerPosList[i][1])"
   ]
  },
  {
   "cell_type": "code",
   "execution_count": 10,
   "metadata": {},
   "outputs": [
    {
     "data": {
      "image/png": "[encoded data removed]",
      "text/plain": [
       "<Figure size 432x288 with 1 Axes>"
      ]
     },
     "metadata": {
      "needs_background": "light"
     },
     "output_type": "display_data"
    }
   ],
   "source": [
    "#Plotting a bar chart to show the relationship between the categorical variable and the numerical variable\n",
    "plt.bar(x,y, color = 'green')\n",
    "plt.xticks(rotation = 90)\n",
    "plt.show()"
   ]
  },
  {
   "cell_type": "code",
   "execution_count": 11,
   "metadata": {},
   "outputs": [
    {
     "data": {
      "text/html": [
       "<div>\n",
       "<style scoped>\n",
       "    .dataframe tbody tr th:only-of-type {\n",
       "        vertical-align: middle;\n",
       "    }\n",
       "\n",
       "    .dataframe tbody tr th {\n",
       "        vertical-align: top;\n",
       "    }\n",
       "\n",
       "    .dataframe thead th {\n",
       "        text-align: right;\n",
       "    }\n",
       "</style>\n",
       "<table border=\"1\" class=\"dataframe\">\n",
       "  <thead>\n",
       "    <tr style=\"text-align: right;\">\n",
       "      <th></th>\n",
       "      <th>Position</th>\n",
       "      <th>Age</th>\n",
       "      <th>Market Value</th>\n",
       "      <th>Matches</th>\n",
       "      <th>Goals</th>\n",
       "      <th>Own Goals</th>\n",
       "      <th>Assists</th>\n",
       "      <th>Yellow cards</th>\n",
       "      <th>Second Yellow card</th>\n",
       "      <th>Red Cards</th>\n",
       "      <th>Substitued on</th>\n",
       "      <th>Substituted off</th>\n",
       "      <th>newPosition</th>\n",
       "    </tr>\n",
       "  </thead>\n",
       "  <tbody>\n",
       "    <tr>\n",
       "      <th>497</th>\n",
       "      <td>Left Winger</td>\n",
       "      <td>24</td>\n",
       "      <td>16000000</td>\n",
       "      <td>31</td>\n",
       "      <td>4</td>\n",
       "      <td>0</td>\n",
       "      <td>4</td>\n",
       "      <td>5</td>\n",
       "      <td>0</td>\n",
       "      <td>0</td>\n",
       "      <td>11</td>\n",
       "      <td>12</td>\n",
       "      <td>Striker</td>\n",
       "    </tr>\n",
       "    <tr>\n",
       "      <th>498</th>\n",
       "      <td>Goalkeeper</td>\n",
       "      <td>21</td>\n",
       "      <td>16000000</td>\n",
       "      <td>6</td>\n",
       "      <td>0</td>\n",
       "      <td>0</td>\n",
       "      <td>0</td>\n",
       "      <td>0</td>\n",
       "      <td>0</td>\n",
       "      <td>0</td>\n",
       "      <td>0</td>\n",
       "      <td>0</td>\n",
       "      <td>Defender</td>\n",
       "    </tr>\n",
       "    <tr>\n",
       "      <th>499</th>\n",
       "      <td>Right-Back</td>\n",
       "      <td>22</td>\n",
       "      <td>16000000</td>\n",
       "      <td>26</td>\n",
       "      <td>2</td>\n",
       "      <td>0</td>\n",
       "      <td>2</td>\n",
       "      <td>1</td>\n",
       "      <td>0</td>\n",
       "      <td>0</td>\n",
       "      <td>7</td>\n",
       "      <td>2</td>\n",
       "      <td>Defender</td>\n",
       "    </tr>\n",
       "  </tbody>\n",
       "</table>\n",
       "</div>"
      ],
      "text/plain": [
       "        Position  Age  Market Value  Matches  Goals  Own Goals  Assists  \\\n",
       "497  Left Winger   24      16000000       31      4          0        4   \n",
       "498   Goalkeeper   21      16000000        6      0          0        0   \n",
       "499   Right-Back   22      16000000       26      2          0        2   \n",
       "\n",
       "     Yellow cards  Second Yellow card  Red Cards  Substitued on  \\\n",
       "497             5                   0          0             11   \n",
       "498             0                   0          0              0   \n",
       "499             1                   0          0              7   \n",
       "\n",
       "     Substituted off newPosition  \n",
       "497               12     Striker  \n",
       "498                0    Defender  \n",
       "499                2    Defender  "
      ]
     },
     "execution_count": 11,
     "metadata": {},
     "output_type": "execute_result"
    }
   ],
   "source": [
    "#Converting the positions into 3 - Striker, Midfielder, Defender\n",
    "footballData['newPosition'] = footballData.Position.map({'Right Winger':'Striker', 'Centre-Forward':'Striker',\\\n",
    "                                                         'Attacking Midfield':'Midfielder', 'Second Striker':'Striker',\\\n",
    "                                                         'Central Midfield':'Midfielder', 'Left Winger':'Striker',\\\n",
    "                                                         'Centre-Back':'Defender', 'Goalkeeper':'Defender',  \\\n",
    "                                                         'Defensive Midfield':'Midfielder', 'Left-Back':'Defender',\\\n",
    "                                                         'Right-Back':'Defender', 'Right Midfield':'Midfielder',\\\n",
    "                                                         'Left Midfield':'Midfielder'})\n",
    "footballData.isnull().sum()\n",
    "footballData.tail(3)"
   ]
  },
  {
   "cell_type": "code",
   "execution_count": 12,
   "metadata": {},
   "outputs": [
    {
     "data": {
      "text/plain": [
       "[['Striker', 200000000], ['Striker', 160000000], ['Striker', 150000000]]"
      ]
     },
     "execution_count": 12,
     "metadata": {},
     "output_type": "execute_result"
    }
   ],
   "source": [
    "newPosition = footballData['newPosition']\n",
    "marketValue = footballData['Market Value']\n",
    "newPosMar = pd.concat((newPosition, marketValue), axis=1, ignore_index= True)\n",
    "newPosMar = newPosMar.to_dict('split')\n",
    "newListPosMar = newPosMar['data']\n",
    "newListPosMar[:3]"
   ]
  },
  {
   "cell_type": "code",
   "execution_count": 13,
   "metadata": {},
   "outputs": [
    {
     "data": {
      "text/plain": [
       "{'Striker': 7080000000, 'Midfielder': 5786000000, 'Defender': 5242000000}"
      ]
     },
     "execution_count": 13,
     "metadata": {},
     "output_type": "execute_result"
    }
   ],
   "source": [
    "#Total market value for each position\n",
    "newDicPosMar = {}\n",
    "for i in range(len(newListPosMar)):\n",
    "    if newListPosMar[i][0] in newDicPosMar.keys():\n",
    "        newDicPosMar[newListPosMar[i][0]] += newListPosMar[i][1]\n",
    "    else:\n",
    "        newDicPosMar[newListPosMar[i][0]] = newListPosMar[i][1]\n",
    "newDicPosMar"
   ]
  },
  {
   "cell_type": "code",
   "execution_count": 14,
   "metadata": {},
   "outputs": [
    {
     "data": {
      "text/plain": [
       "{'Striker': 174, 'Midfielder': 168, 'Defender': 158}"
      ]
     },
     "execution_count": 14,
     "metadata": {},
     "output_type": "execute_result"
    }
   ],
   "source": [
    "#Total number of people in the sample per position\n",
    "newNumPerPos = {}\n",
    "for i in range(len(newListPosMar)):\n",
    "    newNumPerPos.setdefault(newListPosMar[i][0], 0)\n",
    "    newNumPerPos[newListPosMar[i][0]] += 1\n",
    "newNumPerPos"
   ]
  },
  {
   "cell_type": "code",
   "execution_count": 15,
   "metadata": {},
   "outputs": [
    {
     "data": {
      "text/plain": [
       "{'Striker': 40689655.17, 'Midfielder': 34440476.19, 'Defender': 33177215.19}"
      ]
     },
     "execution_count": 15,
     "metadata": {},
     "output_type": "execute_result"
    }
   ],
   "source": [
    "#Average market value per position\n",
    "newAveValPerPos = {}\n",
    "newPosList = list(newDicPosMar.keys())\n",
    "for i in range(len(list(newPosList))):\n",
    "    newAveValPerPos.setdefault(newPosList[i], (round((newDicPosMar[newPosList[i]]/newNumPerPos[newPosList[i]]), 2)))\n",
    "newAveValPerPos"
   ]
  },
  {
   "cell_type": "code",
   "execution_count": 16,
   "metadata": {},
   "outputs": [
    {
     "data": {
      "text/plain": [
       "(['Striker', 'Midfielder', 'Defender'],\n",
       " [40689655.17, 34440476.19, 33177215.19])"
      ]
     },
     "execution_count": 16,
     "metadata": {},
     "output_type": "execute_result"
    }
   ],
   "source": [
    "newAveValPerPosList = []\n",
    "for i in range(len(list(newAveValPerPos.keys()))):\n",
    "    newTempList = []\n",
    "    newTempList.append(list(newAveValPerPos.keys())[i])\n",
    "    newTempList.append(list(newAveValPerPos.values())[i])\n",
    "    newAveValPerPosList.append(newTempList)\n",
    "newX = []\n",
    "newY = []\n",
    "for i in range(len(newAveValPerPosList)):\n",
    "    newX.append(newAveValPerPosList[i][0])\n",
    "    newY.append(newAveValPerPosList[i][1])\n",
    "newX, newY"
   ]
  },
  {
   "cell_type": "code",
   "execution_count": 17,
   "metadata": {},
   "outputs": [
    {
     "data": {
      "text/plain": [
       "<BarContainer object of 3 artists>"
      ]
     },
     "execution_count": 17,
     "metadata": {},
     "output_type": "execute_result"
    },
    {
     "data": {
      "image/png": "[encoded data removed]",
      "text/plain": [
       "<Figure size 432x288 with 1 Axes>"
      ]
     },
     "metadata": {
      "needs_background": "light"
     },
     "output_type": "display_data"
    }
   ],
   "source": [
    "plt.bar(newX,newY)"
   ]
  },
  {
   "cell_type": "code",
   "execution_count": 18,
   "metadata": {},
   "outputs": [
    {
     "data": {
      "text/html": [
       "<div>\n",
       "<style scoped>\n",
       "    .dataframe tbody tr th:only-of-type {\n",
       "        vertical-align: middle;\n",
       "    }\n",
       "\n",
       "    .dataframe tbody tr th {\n",
       "        vertical-align: top;\n",
       "    }\n",
       "\n",
       "    .dataframe thead th {\n",
       "        text-align: right;\n",
       "    }\n",
       "</style>\n",
       "<table border=\"1\" class=\"dataframe\">\n",
       "  <thead>\n",
       "    <tr style=\"text-align: right;\">\n",
       "      <th></th>\n",
       "      <th>Position</th>\n",
       "      <th>Age</th>\n",
       "      <th>Market Value</th>\n",
       "      <th>Matches</th>\n",
       "      <th>Goals</th>\n",
       "      <th>Own Goals</th>\n",
       "      <th>Assists</th>\n",
       "      <th>Yellow cards</th>\n",
       "      <th>Second Yellow card</th>\n",
       "      <th>Red Cards</th>\n",
       "      <th>Substitued on</th>\n",
       "      <th>Substituted off</th>\n",
       "      <th>newPosition</th>\n",
       "      <th>newPosEncoded</th>\n",
       "    </tr>\n",
       "  </thead>\n",
       "  <tbody>\n",
       "    <tr>\n",
       "      <th>0</th>\n",
       "      <td>Right Winger</td>\n",
       "      <td>20</td>\n",
       "      <td>200000000</td>\n",
       "      <td>30</td>\n",
       "      <td>24</td>\n",
       "      <td>0</td>\n",
       "      <td>13</td>\n",
       "      <td>4</td>\n",
       "      <td>0</td>\n",
       "      <td>1</td>\n",
       "      <td>5</td>\n",
       "      <td>5</td>\n",
       "      <td>Striker</td>\n",
       "      <td>2</td>\n",
       "    </tr>\n",
       "    <tr>\n",
       "      <th>1</th>\n",
       "      <td>Right Winger</td>\n",
       "      <td>31</td>\n",
       "      <td>160000000</td>\n",
       "      <td>26</td>\n",
       "      <td>27</td>\n",
       "      <td>0</td>\n",
       "      <td>17</td>\n",
       "      <td>1</td>\n",
       "      <td>0</td>\n",
       "      <td>0</td>\n",
       "      <td>3</td>\n",
       "      <td>1</td>\n",
       "      <td>Striker</td>\n",
       "      <td>2</td>\n",
       "    </tr>\n",
       "    <tr>\n",
       "      <th>2</th>\n",
       "      <td>Centre-Forward</td>\n",
       "      <td>25</td>\n",
       "      <td>150000000</td>\n",
       "      <td>36</td>\n",
       "      <td>21</td>\n",
       "      <td>0</td>\n",
       "      <td>9</td>\n",
       "      <td>5</td>\n",
       "      <td>0</td>\n",
       "      <td>0</td>\n",
       "      <td>4</td>\n",
       "      <td>5</td>\n",
       "      <td>Striker</td>\n",
       "      <td>2</td>\n",
       "    </tr>\n",
       "    <tr>\n",
       "      <th>3</th>\n",
       "      <td>Attacking Midfield</td>\n",
       "      <td>27</td>\n",
       "      <td>150000000</td>\n",
       "      <td>16</td>\n",
       "      <td>4</td>\n",
       "      <td>0</td>\n",
       "      <td>4</td>\n",
       "      <td>2</td>\n",
       "      <td>0</td>\n",
       "      <td>0</td>\n",
       "      <td>6</td>\n",
       "      <td>9</td>\n",
       "      <td>Midfielder</td>\n",
       "      <td>1</td>\n",
       "    </tr>\n",
       "    <tr>\n",
       "      <th>4</th>\n",
       "      <td>Attacking Midfield</td>\n",
       "      <td>26</td>\n",
       "      <td>140000000</td>\n",
       "      <td>34</td>\n",
       "      <td>9</td>\n",
       "      <td>0</td>\n",
       "      <td>5</td>\n",
       "      <td>1</td>\n",
       "      <td>0</td>\n",
       "      <td>0</td>\n",
       "      <td>9</td>\n",
       "      <td>14</td>\n",
       "      <td>Midfielder</td>\n",
       "      <td>1</td>\n",
       "    </tr>\n",
       "  </tbody>\n",
       "</table>\n",
       "</div>"
      ],
      "text/plain": [
       "             Position  Age  Market Value  Matches  Goals  Own Goals  Assists  \\\n",
       "0        Right Winger   20     200000000       30     24          0       13   \n",
       "1        Right Winger   31     160000000       26     27          0       17   \n",
       "2      Centre-Forward   25     150000000       36     21          0        9   \n",
       "3  Attacking Midfield   27     150000000       16      4          0        4   \n",
       "4  Attacking Midfield   26     140000000       34      9          0        5   \n",
       "\n",
       "   Yellow cards  Second Yellow card  Red Cards  Substitued on  \\\n",
       "0             4                   0          1              5   \n",
       "1             1                   0          0              3   \n",
       "2             5                   0          0              4   \n",
       "3             2                   0          0              6   \n",
       "4             1                   0          0              9   \n",
       "\n",
       "   Substituted off newPosition  newPosEncoded  \n",
       "0                5     Striker              2  \n",
       "1                1     Striker              2  \n",
       "2                5     Striker              2  \n",
       "3                9  Midfielder              1  \n",
       "4               14  Midfielder              1  "
      ]
     },
     "execution_count": 18,
     "metadata": {},
     "output_type": "execute_result"
    }
   ],
   "source": [
    "footballData['newPosEncoded'] = footballData.newPosition.map({'Striker':2, 'Midfielder':1, 'Defender':0})\n",
    "footballData.head()"
   ]
  },
  {
   "cell_type": "code",
   "execution_count": 19,
   "metadata": {},
   "outputs": [
    {
     "data": {
      "text/plain": [
       "array([20, 30, 24,  0, 13,  4,  0,  1,  5,  5,  2], dtype=int64)"
      ]
     },
     "execution_count": 19,
     "metadata": {},
     "output_type": "execute_result"
    }
   ],
   "source": [
    "X = footballData.iloc[:,[1,3,4,5,6,7,8,9,10,11,13]].values\n",
    "y = footballData.iloc[:, 2].values\n",
    "X.shape,y.shape\n",
    "X[0, :]"
   ]
  },
  {
   "cell_type": "code",
   "execution_count": 20,
   "metadata": {},
   "outputs": [
    {
     "data": {
      "text/plain": [
       "((400, 11), (400,))"
      ]
     },
     "execution_count": 20,
     "metadata": {},
     "output_type": "execute_result"
    }
   ],
   "source": [
    "from sklearn.model_selection import train_test_split\n",
    "X_train, X_test, y_train, y_test = train_test_split(X, y, test_size = 0.2)\n",
    "X_train.shape,y_train.shape"
   ]
  },
  {
   "cell_type": "code",
   "execution_count": 21,
   "metadata": {},
   "outputs": [],
   "source": [
    "from sklearn.linear_model import LinearRegression\n",
    "regressor = LinearRegression()\n",
    "regressor.fit(X_train,y_train)\n",
    "y_pred = regressor.predict(X_test)"
   ]
  },
  {
   "cell_type": "code",
   "execution_count": 22,
   "metadata": {},
   "outputs": [
    {
     "data": {
      "text/plain": [
       "0.2876484961775747"
      ]
     },
     "execution_count": 22,
     "metadata": {},
     "output_type": "execute_result"
    }
   ],
   "source": [
    "regressor.score(X_train,y_train)"
   ]
  },
  {
   "cell_type": "code",
   "execution_count": 23,
   "metadata": {},
   "outputs": [
    {
     "data": {
      "text/plain": [
       "457594261805522.56"
      ]
     },
     "execution_count": 23,
     "metadata": {},
     "output_type": "execute_result"
    }
   ],
   "source": [
    "from sklearn.metrics import mean_squared_error\n",
    "mean_squared_error(y_test, y_pred)  "
   ]
  },
  {
   "cell_type": "code",
   "execution_count": 24,
   "metadata": {},
   "outputs": [
    {
     "name": "stdout",
     "output_type": "stream",
     "text": [
      "pVal deleted at index 7 \n",
      " 11 variables remaining\n",
      "pVal deleted at index 4 \n",
      " 10 variables remaining\n",
      "pVal deleted at index 1 \n",
      " 9 variables remaining\n",
      "pVal deleted at index 7 \n",
      " 8 variables remaining\n",
      "pVal deleted at index 6 \n",
      " 7 variables remaining\n",
      "pVal deleted at index 4 \n",
      " 6 variables remaining\n",
      "pVal deleted at index 4 \n",
      " 5 variables remaining\n"
     ]
    },
    {
     "data": {
      "text/html": [
       "<table class=\"simpletable\">\n",
       "<caption>OLS Regression Results</caption>\n",
       "<tr>\n",
       "  <th>Dep. Variable:</th>            <td>y</td>        <th>  R-squared:         </th> <td>   0.258</td> \n",
       "</tr>\n",
       "<tr>\n",
       "  <th>Model:</th>                   <td>OLS</td>       <th>  Adj. R-squared:    </th> <td>   0.252</td> \n",
       "</tr>\n",
       "<tr>\n",
       "  <th>Method:</th>             <td>Least Squares</td>  <th>  F-statistic:       </th> <td>   43.06</td> \n",
       "</tr>\n",
       "<tr>\n",
       "  <th>Date:</th>             <td>Sat, 23 Feb 2019</td> <th>  Prob (F-statistic):</th> <td>5.25e-31</td> \n",
       "</tr>\n",
       "<tr>\n",
       "  <th>Time:</th>                 <td>07:05:00</td>     <th>  Log-Likelihood:    </th> <td> -9152.0</td> \n",
       "</tr>\n",
       "<tr>\n",
       "  <th>No. Observations:</th>      <td>   500</td>      <th>  AIC:               </th> <td>1.831e+04</td>\n",
       "</tr>\n",
       "<tr>\n",
       "  <th>Df Residuals:</th>          <td>   495</td>      <th>  BIC:               </th> <td>1.834e+04</td>\n",
       "</tr>\n",
       "<tr>\n",
       "  <th>Df Model:</th>              <td>     4</td>      <th>                     </th>     <td> </td>    \n",
       "</tr>\n",
       "<tr>\n",
       "  <th>Covariance Type:</th>      <td>nonrobust</td>    <th>                     </th>     <td> </td>    \n",
       "</tr>\n",
       "</table>\n",
       "<table class=\"simpletable\">\n",
       "<tr>\n",
       "    <td></td>       <th>coef</th>     <th>std err</th>      <th>t</th>      <th>P>|t|</th>  <th>[0.025</th>    <th>0.975]</th>  \n",
       "</tr>\n",
       "<tr>\n",
       "  <th>const</th> <td>  2.07e+07</td> <td> 3.61e+06</td> <td>    5.734</td> <td> 0.000</td> <td> 1.36e+07</td> <td> 2.78e+07</td>\n",
       "</tr>\n",
       "<tr>\n",
       "  <th>x1</th>    <td> 3.656e+05</td> <td> 1.42e+05</td> <td>    2.579</td> <td> 0.010</td> <td> 8.71e+04</td> <td> 6.44e+05</td>\n",
       "</tr>\n",
       "<tr>\n",
       "  <th>x2</th>    <td> 2.078e+06</td> <td>  2.8e+05</td> <td>    7.425</td> <td> 0.000</td> <td> 1.53e+06</td> <td> 2.63e+06</td>\n",
       "</tr>\n",
       "<tr>\n",
       "  <th>x3</th>    <td> 1.115e+06</td> <td> 3.85e+05</td> <td>    2.897</td> <td> 0.004</td> <td> 3.59e+05</td> <td> 1.87e+06</td>\n",
       "</tr>\n",
       "<tr>\n",
       "  <th>x4</th>    <td>-5.662e+06</td> <td> 1.51e+06</td> <td>   -3.740</td> <td> 0.000</td> <td>-8.64e+06</td> <td>-2.69e+06</td>\n",
       "</tr>\n",
       "</table>\n",
       "<table class=\"simpletable\">\n",
       "<tr>\n",
       "  <th>Omnibus:</th>       <td>185.151</td> <th>  Durbin-Watson:     </th> <td>   0.524</td> \n",
       "</tr>\n",
       "<tr>\n",
       "  <th>Prob(Omnibus):</th> <td> 0.000</td>  <th>  Jarque-Bera (JB):  </th> <td> 775.436</td> \n",
       "</tr>\n",
       "<tr>\n",
       "  <th>Skew:</th>          <td> 1.631</td>  <th>  Prob(JB):          </th> <td>4.13e-169</td>\n",
       "</tr>\n",
       "<tr>\n",
       "  <th>Kurtosis:</th>      <td> 8.156</td>  <th>  Cond. No.          </th> <td>    101.</td> \n",
       "</tr>\n",
       "</table><br/><br/>Warnings:<br/>[1] Standard Errors assume that the covariance matrix of the errors is correctly specified."
      ],
      "text/plain": [
       "<class 'statsmodels.iolib.summary.Summary'>\n",
       "\"\"\"\n",
       "                            OLS Regression Results                            \n",
       "==============================================================================\n",
       "Dep. Variable:                      y   R-squared:                       0.258\n",
       "Model:                            OLS   Adj. R-squared:                  0.252\n",
       "Method:                 Least Squares   F-statistic:                     43.06\n",
       "Date:                Sat, 23 Feb 2019   Prob (F-statistic):           5.25e-31\n",
       "Time:                        07:05:00   Log-Likelihood:                -9152.0\n",
       "No. Observations:                 500   AIC:                         1.831e+04\n",
       "Df Residuals:                     495   BIC:                         1.834e+04\n",
       "Df Model:                           4                                         \n",
       "Covariance Type:            nonrobust                                         \n",
       "==============================================================================\n",
       "                 coef    std err          t      P>|t|      [0.025      0.975]\n",
       "------------------------------------------------------------------------------\n",
       "const        2.07e+07   3.61e+06      5.734      0.000    1.36e+07    2.78e+07\n",
       "x1          3.656e+05   1.42e+05      2.579      0.010    8.71e+04    6.44e+05\n",
       "x2          2.078e+06    2.8e+05      7.425      0.000    1.53e+06    2.63e+06\n",
       "x3          1.115e+06   3.85e+05      2.897      0.004    3.59e+05    1.87e+06\n",
       "x4         -5.662e+06   1.51e+06     -3.740      0.000   -8.64e+06   -2.69e+06\n",
       "==============================================================================\n",
       "Omnibus:                      185.151   Durbin-Watson:                   0.524\n",
       "Prob(Omnibus):                  0.000   Jarque-Bera (JB):              775.436\n",
       "Skew:                           1.631   Prob(JB):                    4.13e-169\n",
       "Kurtosis:                       8.156   Cond. No.                         101.\n",
       "==============================================================================\n",
       "\n",
       "Warnings:\n",
       "[1] Standard Errors assume that the covariance matrix of the errors is correctly specified.\n",
       "\"\"\""
      ]
     },
     "execution_count": 24,
     "metadata": {},
     "output_type": "execute_result"
    }
   ],
   "source": [
    "import statsmodels.formula.api as sm\n",
    "sigLevel = 0.05\n",
    "X_opt = X[:,[0,1,2,3,4,5,6,7,8,9,10]]\n",
    "X_opt = np.append(arr = np.ones((500,1)).astype(int), values = X, axis = 1)\n",
    "regressor_OLS = sm.OLS(endog = y, exog = X_opt).fit()\n",
    "pVals = regressor_OLS.pvalues #returns a vector\n",
    "\n",
    "#print(np.argmax(pVals)) returns the indices of the maximum value along an axis\n",
    "while pVals[np.argmax(pVals)] > sigLevel:\n",
    "    X_opt = np.delete(X_opt, np.argmax(pVals), axis = 1)\n",
    "    print('pVal deleted at index', str(np.argmax(pVals)), '\\n', str(X_opt.shape[1]), 'variables remaining')\n",
    "    regressor_OLS = sm.OLS(endog = y, exog = X_opt).fit()\n",
    "    pVals = regressor_OLS.pvalues\n",
    "    \n",
    "regressor_OLS.summary()"
   ]
  },
  {
   "cell_type": "code",
   "execution_count": 39,
   "metadata": {},
   "outputs": [],
   "source": [
    "copyFootballData = footballData.copy(deep = True)"
   ]
  },
  {
   "cell_type": "code",
   "execution_count": 40,
   "metadata": {},
   "outputs": [],
   "source": [
    "copyFootballDataX = copyFootballData.drop(['Position', 'Market Value', 'newPosition'], axis = 1)\n",
    "copyFootballDatay = copyFootballData['Market Value']"
   ]
  },
  {
   "cell_type": "code",
   "execution_count": 41,
   "metadata": {},
   "outputs": [
    {
     "data": {
      "text/html": [
       "<div>\n",
       "<style scoped>\n",
       "    .dataframe tbody tr th:only-of-type {\n",
       "        vertical-align: middle;\n",
       "    }\n",
       "\n",
       "    .dataframe tbody tr th {\n",
       "        vertical-align: top;\n",
       "    }\n",
       "\n",
       "    .dataframe thead th {\n",
       "        text-align: right;\n",
       "    }\n",
       "</style>\n",
       "<table border=\"1\" class=\"dataframe\">\n",
       "  <thead>\n",
       "    <tr style=\"text-align: right;\">\n",
       "      <th></th>\n",
       "      <th>intercept</th>\n",
       "      <th>Age</th>\n",
       "      <th>Matches</th>\n",
       "      <th>Goals</th>\n",
       "      <th>Own Goals</th>\n",
       "      <th>Assists</th>\n",
       "      <th>Yellow cards</th>\n",
       "      <th>Second Yellow card</th>\n",
       "      <th>Red Cards</th>\n",
       "      <th>Substitued on</th>\n",
       "      <th>Substituted off</th>\n",
       "      <th>newPosEncoded</th>\n",
       "    </tr>\n",
       "  </thead>\n",
       "  <tbody>\n",
       "    <tr>\n",
       "      <th>0</th>\n",
       "      <td>1</td>\n",
       "      <td>20</td>\n",
       "      <td>30</td>\n",
       "      <td>24</td>\n",
       "      <td>0</td>\n",
       "      <td>13</td>\n",
       "      <td>4</td>\n",
       "      <td>0</td>\n",
       "      <td>1</td>\n",
       "      <td>5</td>\n",
       "      <td>5</td>\n",
       "      <td>2</td>\n",
       "    </tr>\n",
       "    <tr>\n",
       "      <th>1</th>\n",
       "      <td>1</td>\n",
       "      <td>31</td>\n",
       "      <td>26</td>\n",
       "      <td>27</td>\n",
       "      <td>0</td>\n",
       "      <td>17</td>\n",
       "      <td>1</td>\n",
       "      <td>0</td>\n",
       "      <td>0</td>\n",
       "      <td>3</td>\n",
       "      <td>1</td>\n",
       "      <td>2</td>\n",
       "    </tr>\n",
       "    <tr>\n",
       "      <th>2</th>\n",
       "      <td>1</td>\n",
       "      <td>25</td>\n",
       "      <td>36</td>\n",
       "      <td>21</td>\n",
       "      <td>0</td>\n",
       "      <td>9</td>\n",
       "      <td>5</td>\n",
       "      <td>0</td>\n",
       "      <td>0</td>\n",
       "      <td>4</td>\n",
       "      <td>5</td>\n",
       "      <td>2</td>\n",
       "    </tr>\n",
       "    <tr>\n",
       "      <th>3</th>\n",
       "      <td>1</td>\n",
       "      <td>27</td>\n",
       "      <td>16</td>\n",
       "      <td>4</td>\n",
       "      <td>0</td>\n",
       "      <td>4</td>\n",
       "      <td>2</td>\n",
       "      <td>0</td>\n",
       "      <td>0</td>\n",
       "      <td>6</td>\n",
       "      <td>9</td>\n",
       "      <td>1</td>\n",
       "    </tr>\n",
       "    <tr>\n",
       "      <th>4</th>\n",
       "      <td>1</td>\n",
       "      <td>26</td>\n",
       "      <td>34</td>\n",
       "      <td>9</td>\n",
       "      <td>0</td>\n",
       "      <td>5</td>\n",
       "      <td>1</td>\n",
       "      <td>0</td>\n",
       "      <td>0</td>\n",
       "      <td>9</td>\n",
       "      <td>14</td>\n",
       "      <td>1</td>\n",
       "    </tr>\n",
       "  </tbody>\n",
       "</table>\n",
       "</div>"
      ],
      "text/plain": [
       "   intercept  Age  Matches  Goals  Own Goals  Assists  Yellow cards  \\\n",
       "0          1   20       30     24          0       13             4   \n",
       "1          1   31       26     27          0       17             1   \n",
       "2          1   25       36     21          0        9             5   \n",
       "3          1   27       16      4          0        4             2   \n",
       "4          1   26       34      9          0        5             1   \n",
       "\n",
       "   Second Yellow card  Red Cards  Substitued on  Substituted off  \\\n",
       "0                   0          1              5                5   \n",
       "1                   0          0              3                1   \n",
       "2                   0          0              4                5   \n",
       "3                   0          0              6                9   \n",
       "4                   0          0              9               14   \n",
       "\n",
       "   newPosEncoded  \n",
       "0              2  \n",
       "1              2  \n",
       "2              2  \n",
       "3              1  \n",
       "4              1  "
      ]
     },
     "execution_count": 41,
     "metadata": {},
     "output_type": "execute_result"
    }
   ],
   "source": [
    "intercept = pd.Series(np.ones((500,)).astype(int))\n",
    "copyFootballDataX = pd.concat((intercept.rename('intercept'),copyFootballDataX), axis = 1)\n",
    "copyFootballDataX.head()"
   ]
  },
  {
   "cell_type": "code",
   "execution_count": 42,
   "metadata": {
    "collapsed": true
   },
   "outputs": [
    {
     "name": "stdout",
     "output_type": "stream",
     "text": [
      "Null Hypothesis is that we would obtain the statistic we have even without Second Yellow card\n",
      "Given the null hypothesis to be true, the probability of obtaining the statistics is 0.8841655407886292\n",
      "Null Hypothesis is that we would obtain the statistic we have even without Own Goals\n",
      "Given the null hypothesis to be true, the probability of obtaining the statistics is 0.8691865195578982\n",
      "Null Hypothesis is that we would obtain the statistic we have even without Age\n",
      "Given the null hypothesis to be true, the probability of obtaining the statistics is 0.6464685180707439\n",
      "Null Hypothesis is that we would obtain the statistic we have even without Substituted off\n",
      "Given the null hypothesis to be true, the probability of obtaining the statistics is 0.3718240389598586\n",
      "Null Hypothesis is that we would obtain the statistic we have even without Substitued on\n",
      "Given the null hypothesis to be true, the probability of obtaining the statistics is 0.27177506852905103\n",
      "Null Hypothesis is that we would obtain the statistic we have even without Yellow cards\n",
      "Given the null hypothesis to be true, the probability of obtaining the statistics is 0.3303207581549449\n",
      "Null Hypothesis is that we would obtain the statistic we have even without Red Cards\n",
      "Given the null hypothesis to be true, the probability of obtaining the statistics is 0.20522262511791023\n"
     ]
    },
    {
     "data": {
      "text/html": [
       "<table class=\"simpletable\">\n",
       "<caption>OLS Regression Results</caption>\n",
       "<tr>\n",
       "  <th>Dep. Variable:</th>      <td>Market Value</td>   <th>  R-squared:         </th> <td>   0.258</td> \n",
       "</tr>\n",
       "<tr>\n",
       "  <th>Model:</th>                   <td>OLS</td>       <th>  Adj. R-squared:    </th> <td>   0.252</td> \n",
       "</tr>\n",
       "<tr>\n",
       "  <th>Method:</th>             <td>Least Squares</td>  <th>  F-statistic:       </th> <td>   43.06</td> \n",
       "</tr>\n",
       "<tr>\n",
       "  <th>Date:</th>             <td>Sat, 23 Feb 2019</td> <th>  Prob (F-statistic):</th> <td>5.25e-31</td> \n",
       "</tr>\n",
       "<tr>\n",
       "  <th>Time:</th>                 <td>07:15:00</td>     <th>  Log-Likelihood:    </th> <td> -9152.0</td> \n",
       "</tr>\n",
       "<tr>\n",
       "  <th>No. Observations:</th>      <td>   500</td>      <th>  AIC:               </th> <td>1.831e+04</td>\n",
       "</tr>\n",
       "<tr>\n",
       "  <th>Df Residuals:</th>          <td>   495</td>      <th>  BIC:               </th> <td>1.834e+04</td>\n",
       "</tr>\n",
       "<tr>\n",
       "  <th>Df Model:</th>              <td>     4</td>      <th>                     </th>     <td> </td>    \n",
       "</tr>\n",
       "<tr>\n",
       "  <th>Covariance Type:</th>      <td>nonrobust</td>    <th>                     </th>     <td> </td>    \n",
       "</tr>\n",
       "</table>\n",
       "<table class=\"simpletable\">\n",
       "<tr>\n",
       "        <td></td>           <th>coef</th>     <th>std err</th>      <th>t</th>      <th>P>|t|</th>  <th>[0.025</th>    <th>0.975]</th>  \n",
       "</tr>\n",
       "<tr>\n",
       "  <th>intercept</th>     <td>  2.07e+07</td> <td> 3.61e+06</td> <td>    5.734</td> <td> 0.000</td> <td> 1.36e+07</td> <td> 2.78e+07</td>\n",
       "</tr>\n",
       "<tr>\n",
       "  <th>Matches</th>       <td> 3.656e+05</td> <td> 1.42e+05</td> <td>    2.579</td> <td> 0.010</td> <td> 8.71e+04</td> <td> 6.44e+05</td>\n",
       "</tr>\n",
       "<tr>\n",
       "  <th>Goals</th>         <td> 2.078e+06</td> <td>  2.8e+05</td> <td>    7.425</td> <td> 0.000</td> <td> 1.53e+06</td> <td> 2.63e+06</td>\n",
       "</tr>\n",
       "<tr>\n",
       "  <th>Assists</th>       <td> 1.115e+06</td> <td> 3.85e+05</td> <td>    2.897</td> <td> 0.004</td> <td> 3.59e+05</td> <td> 1.87e+06</td>\n",
       "</tr>\n",
       "<tr>\n",
       "  <th>newPosEncoded</th> <td>-5.662e+06</td> <td> 1.51e+06</td> <td>   -3.740</td> <td> 0.000</td> <td>-8.64e+06</td> <td>-2.69e+06</td>\n",
       "</tr>\n",
       "</table>\n",
       "<table class=\"simpletable\">\n",
       "<tr>\n",
       "  <th>Omnibus:</th>       <td>185.151</td> <th>  Durbin-Watson:     </th> <td>   0.524</td> \n",
       "</tr>\n",
       "<tr>\n",
       "  <th>Prob(Omnibus):</th> <td> 0.000</td>  <th>  Jarque-Bera (JB):  </th> <td> 775.436</td> \n",
       "</tr>\n",
       "<tr>\n",
       "  <th>Skew:</th>          <td> 1.631</td>  <th>  Prob(JB):          </th> <td>4.13e-169</td>\n",
       "</tr>\n",
       "<tr>\n",
       "  <th>Kurtosis:</th>      <td> 8.156</td>  <th>  Cond. No.          </th> <td>    101.</td> \n",
       "</tr>\n",
       "</table><br/><br/>Warnings:<br/>[1] Standard Errors assume that the covariance matrix of the errors is correctly specified."
      ],
      "text/plain": [
       "<class 'statsmodels.iolib.summary.Summary'>\n",
       "\"\"\"\n",
       "                            OLS Regression Results                            \n",
       "==============================================================================\n",
       "Dep. Variable:           Market Value   R-squared:                       0.258\n",
       "Model:                            OLS   Adj. R-squared:                  0.252\n",
       "Method:                 Least Squares   F-statistic:                     43.06\n",
       "Date:                Sat, 23 Feb 2019   Prob (F-statistic):           5.25e-31\n",
       "Time:                        07:15:00   Log-Likelihood:                -9152.0\n",
       "No. Observations:                 500   AIC:                         1.831e+04\n",
       "Df Residuals:                     495   BIC:                         1.834e+04\n",
       "Df Model:                           4                                         \n",
       "Covariance Type:            nonrobust                                         \n",
       "=================================================================================\n",
       "                    coef    std err          t      P>|t|      [0.025      0.975]\n",
       "---------------------------------------------------------------------------------\n",
       "intercept       2.07e+07   3.61e+06      5.734      0.000    1.36e+07    2.78e+07\n",
       "Matches        3.656e+05   1.42e+05      2.579      0.010    8.71e+04    6.44e+05\n",
       "Goals          2.078e+06    2.8e+05      7.425      0.000    1.53e+06    2.63e+06\n",
       "Assists        1.115e+06   3.85e+05      2.897      0.004    3.59e+05    1.87e+06\n",
       "newPosEncoded -5.662e+06   1.51e+06     -3.740      0.000   -8.64e+06   -2.69e+06\n",
       "==============================================================================\n",
       "Omnibus:                      185.151   Durbin-Watson:                   0.524\n",
       "Prob(Omnibus):                  0.000   Jarque-Bera (JB):              775.436\n",
       "Skew:                           1.631   Prob(JB):                    4.13e-169\n",
       "Kurtosis:                       8.156   Cond. No.                         101.\n",
       "==============================================================================\n",
       "\n",
       "Warnings:\n",
       "[1] Standard Errors assume that the covariance matrix of the errors is correctly specified.\n",
       "\"\"\""
      ]
     },
     "execution_count": 42,
     "metadata": {},
     "output_type": "execute_result"
    }
   ],
   "source": [
    "import statsmodels.formula.api as sm\n",
    "sigLevel = 0.05\n",
    "mod = sm.OLS(copyFootballDatay, copyFootballDataX).fit()\n",
    "pVals = mod.pvalues\n",
    "\n",
    "#print(np.argmax(pVals)) returns the indices of the maximum value along an axis\n",
    "while pVals[np.argmax(pVals)] > sigLevel:\n",
    "    copyFootballDataX = copyFootballDataX.drop([np.argmax(pVals)], axis = 1)\n",
    "    #print('pVal deleted at index', str(np.argmax(pVals)), '\\n', str(X_opt.shape[1]), 'variables remaining')\n",
    "    print('Null Hypothesis is that we would obtain the statistic we have even without', np.argmax(pVals))\n",
    "    print('Given the null hypothesis to be true, the probability of obtaining the statistics is', str(pVals[np.argmax(pVals)]))\n",
    "    mod = sm.OLS(copyFootballDatay, copyFootballDataX).fit()\n",
    "    pVals = mod.pvalues\n",
    "       \n",
    "mod.summary()"
   ]
  },
  {
   "cell_type": "code",
   "execution_count": 76,
   "metadata": {},
   "outputs": [
    {
     "data": {
      "text/plain": [
       "((500, 5), (500,))"
      ]
     },
     "execution_count": 76,
     "metadata": {},
     "output_type": "execute_result"
    }
   ],
   "source": [
    "footballData.head()\n",
    "X = copyFootballDataX.iloc[:,:].values\n",
    "y = copyFootballDatay.iloc[:,].values\n",
    "X.shape,y.shape"
   ]
  },
  {
   "cell_type": "code",
   "execution_count": 91,
   "metadata": {},
   "outputs": [
    {
     "data": {
      "text/plain": [
       "((400, 5), (400,))"
      ]
     },
     "execution_count": 91,
     "metadata": {},
     "output_type": "execute_result"
    }
   ],
   "source": [
    "from sklearn.model_selection import train_test_split\n",
    "X_train,X_test,y_train,y_test= train_test_split(X,y,test_size=0.2)\n",
    "X_train.shape,y_train.shape"
   ]
  },
  {
   "cell_type": "code",
   "execution_count": 92,
   "metadata": {},
   "outputs": [
    {
     "data": {
      "text/plain": [
       "0.2695661813725613"
      ]
     },
     "execution_count": 92,
     "metadata": {},
     "output_type": "execute_result"
    }
   ],
   "source": [
    "from sklearn.linear_model import LinearRegression\n",
    "regressor = LinearRegression()\n",
    "regressor.fit(X_train,y_train)\n",
    "regressor.score(X_train,y_train)"
   ]
  },
  {
   "cell_type": "code",
   "execution_count": 93,
   "metadata": {},
   "outputs": [],
   "source": [
    "y_pred = regressor.predict(X_test)"
   ]
  },
  {
   "cell_type": "code",
   "execution_count": 95,
   "metadata": {},
   "outputs": [
    {
     "data": {
      "text/plain": [
       "<matplotlib.collections.PathCollection at 0x20eba73d748>"
      ]
     },
     "execution_count": 95,
     "metadata": {},
     "output_type": "execute_result"
    },
    {
     "data": {
      "image/png": "[encoded data removed]",
      "text/plain": [
       "<Figure size 432x288 with 1 Axes>"
      ]
     },
     "metadata": {
      "needs_background": "light"
     },
     "output_type": "display_data"
    }
   ],
   "source": [
    "#Normality of errors\n",
    "residual = y_test - y_pred\n",
    "residual = pd.Series(residual)\n",
    "plt.scatter(y_pred, residual)"
   ]
  },
  {
   "cell_type": "code",
   "execution_count": 96,
   "metadata": {},
   "outputs": [
    {
     "data": {
      "text/plain": [
       "2.088717026781209"
      ]
     },
     "execution_count": 96,
     "metadata": {},
     "output_type": "execute_result"
    },
    {
     "data": {
      "image/png": "[encoded data removed]",
      "text/plain": [
       "<Figure size 432x288 with 1 Axes>"
      ]
     },
     "metadata": {
      "needs_background": "light"
     },
     "output_type": "display_data"
    }
   ],
   "source": [
    "#Independence of errors\n",
    "plt.scatter(residual.index, residual.values)\n",
    "from statsmodels.stats.stattools import durbin_watson\n",
    "durbin_watson(residual)"
   ]
  },
  {
   "cell_type": "code",
   "execution_count": 97,
   "metadata": {},
   "outputs": [
    {
     "data": {
      "text/plain": [
       "<matplotlib.collections.PathCollection at 0x20eba7e2b38>"
      ]
     },
     "execution_count": 97,
     "metadata": {},
     "output_type": "execute_result"
    },
    {
     "data": {
      "image/png": "[encoded data removed]",
      "text/plain": [
       "<Figure size 432x288 with 1 Axes>"
      ]
     },
     "metadata": {
      "needs_background": "light"
     },
     "output_type": "display_data"
    }
   ],
   "source": [
    "#Homoscedasticity\n",
    "plt.scatter(y_pred, residual)"
   ]
  },
  {
   "cell_type": "code",
   "execution_count": 99,
   "metadata": {},
   "outputs": [],
   "source": [
    "#Detecting multicollinearity using VIF\n",
    "#VIF = 1 / (1-R_squared)"
   ]
  },
  {
   "cell_type": "code",
   "execution_count": null,
   "metadata": {
    "collapsed": true
   },
   "outputs": [],
   "source": [
    "#Linearity - correct functional form"
   ]
  }
 ],
 "metadata": {
  "kernelspec": {
   "display_name": "Python 3",
   "language": "python",
   "name": "python3"
  },
  "language_info": {
   "codemirror_mode": {
    "name": "ipython",
    "version": 3
   },
   "file_extension": ".py",
   "mimetype": "text/x-python",
   "name": "python",
   "nbconvert_exporter": "python",
   "pygments_lexer": "ipython3",
   "version": "3.7.1"
  }
 },
 "nbformat": 4,
 "nbformat_minor": 2
}
